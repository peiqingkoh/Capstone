{
 "cells": [
  {
   "cell_type": "markdown",
   "metadata": {},
   "source": [
    "*All libraries used*"
   ]
  },
  {
   "cell_type": "code",
   "execution_count": 1,
   "metadata": {
    "ExecuteTime": {
     "end_time": "2019-12-03T18:07:10.200105Z",
     "start_time": "2019-12-03T18:07:02.352700Z"
    }
   },
   "outputs": [],
   "source": [
    "import requests\n",
    "import time\n",
    "import pandas as pd\n",
    "import numpy as np\n",
    "import seaborn as sns\n",
    "import random\n",
    "import matplotlib.pyplot as plt\n",
    "\n",
    "from sklearn.datasets import make_classification, make_regression\n",
    "from sklearn.preprocessing import StandardScaler\n",
    "from sklearn.model_selection import train_test_split\n",
    "\n",
    "import warnings\n",
    "warnings.filterwarnings('ignore')\n",
    "\n",
    "#sns.set(style='whitegrid', palette='muted')\n",
    "sns.set(palette='muted')\n",
    "%matplotlib inline\n",
    "\n",
    "pd.options.display.max_columns = None\n",
    "pd.options.display.max_colwidth = 0"
   ]
  },
  {
   "cell_type": "markdown",
   "metadata": {},
   "source": [
    "## 1 Data Import and Cleaning"
   ]
  },
  {
   "cell_type": "code",
   "execution_count": 2,
   "metadata": {
    "ExecuteTime": {
     "end_time": "2019-12-03T18:07:22.540187Z",
     "start_time": "2019-12-03T18:07:21.663505Z"
    },
    "scrolled": true
   },
   "outputs": [],
   "source": [
    "#Reading 5 airline dataset\n",
    "AirAsiaSupport_df = pd.read_csv(\"../dataset/AirAsiaSupport_df.csv\")\n",
    "AmericanAir_df = pd.read_csv(\"../dataset/AmericanAir_df.csv\")\n",
    "British_Airways_df = pd.read_csv(\"../dataset/British_Airways_df.csv\")\n",
    "Delta_df = pd.read_csv(\"../dataset/Delta_df.csv\")\n",
    "SouthwestAir_df = pd.read_csv(\"../dataset/SouthwestAir_df.csv\")"
   ]
  },
  {
   "cell_type": "code",
   "execution_count": 3,
   "metadata": {
    "ExecuteTime": {
     "end_time": "2019-12-03T18:07:25.863928Z",
     "start_time": "2019-12-03T18:07:25.849965Z"
    }
   },
   "outputs": [],
   "source": [
    "def remove_duplicates(df):\n",
    "    before_d = len(df)\n",
    "    df.drop_duplicates(inplace=True)\n",
    "    after_d = len(df)\n",
    "    print(str(before_d-after_d) + \" duplicates were removed!\")\n",
    "    print(\"Final Shape:\" + str(df.shape))\n",
    "    \n",
    "def check_null(df):\n",
    "    print(\"Shape:\" + str(df.shape))\n",
    "    before_d = len(df)\n",
    "    nulls = df.isnull().sum().sum()\n",
    "    after_d = len(df)\n",
    "    if nulls != 0:\n",
    "        len_null = df.dropna(inplace=True)\n",
    "        after_d = len(df)\n",
    "    print(str(before_d-after_d) + \" NaNs rows were removed!\")\n",
    "        \n",
    "def reset_index(df):\n",
    "    df = df.reset_index(inplace=True)\n",
    "            \n",
    "def cleaning_df(df):\n",
    "    check_null(df)\n",
    "    remove_duplicates(df)\n",
    "    #reset_index(df)"
   ]
  },
  {
   "cell_type": "markdown",
   "metadata": {},
   "source": [
    "### 1.1 AirAsiaSupport"
   ]
  },
  {
   "cell_type": "code",
   "execution_count": 4,
   "metadata": {
    "ExecuteTime": {
     "end_time": "2019-12-03T18:07:32.464786Z",
     "start_time": "2019-12-03T18:07:32.441852Z"
    },
    "scrolled": true
   },
   "outputs": [
    {
     "data": {
      "text/html": [
       "<div>\n",
       "<style scoped>\n",
       "    .dataframe tbody tr th:only-of-type {\n",
       "        vertical-align: middle;\n",
       "    }\n",
       "\n",
       "    .dataframe tbody tr th {\n",
       "        vertical-align: top;\n",
       "    }\n",
       "\n",
       "    .dataframe thead th {\n",
       "        text-align: right;\n",
       "    }\n",
       "</style>\n",
       "<table border=\"1\" class=\"dataframe\">\n",
       "  <thead>\n",
       "    <tr style=\"text-align: right;\">\n",
       "      <th></th>\n",
       "      <th>author_id_x</th>\n",
       "      <th>text_x</th>\n",
       "      <th>author_id_y</th>\n",
       "      <th>text_y</th>\n",
       "    </tr>\n",
       "  </thead>\n",
       "  <tbody>\n",
       "    <tr>\n",
       "      <th>0</th>\n",
       "      <td>115799</td>\n",
       "      <td>@AirAsiaSupport CAS-19708536-CB92N2 CRM:0326600 Please check on this I haven't heard from my case officer in weeks and provided all docs.</td>\n",
       "      <td>AirAsiaSupport</td>\n",
       "      <td>@115799 We have replied to you via DM. Check it out =) Yana</td>\n",
       "    </tr>\n",
       "    <tr>\n",
       "      <th>1</th>\n",
       "      <td>115801</td>\n",
       "      <td>@115802 @AirAsiaSupport Why are you not refunding my trip to Bali for Volcano eruption!!! Urgently refund!!</td>\n",
       "      <td>AirAsiaSupport</td>\n",
       "      <td>@115801 Hi Ashutosh , Could you provide us the booking number for further checking. Thanks - Khairul</td>\n",
       "    </tr>\n",
       "    <tr>\n",
       "      <th>2</th>\n",
       "      <td>116049</td>\n",
       "      <td>@AirAsiaSupport what happen to your system. I could not sent my refund info to e form</td>\n",
       "      <td>AirAsiaSupport</td>\n",
       "      <td>@116049 Hi Firdaus, we has respond you via DM,see you there! - Anwar</td>\n",
       "    </tr>\n",
       "    <tr>\n",
       "      <th>3</th>\n",
       "      <td>116243</td>\n",
       "      <td>@AirAsiaSupport saya nak tukar flight sbb reschedule. booking #YIU8NM</td>\n",
       "      <td>AirAsiaSupport</td>\n",
       "      <td>@116243 Hi Ijan :) Yes sure, we has respond you via DM, see you there!-Anwar</td>\n",
       "    </tr>\n",
       "    <tr>\n",
       "      <th>4</th>\n",
       "      <td>116720</td>\n",
       "      <td>@AirAsiaSupport name correction my case number 494610</td>\n",
       "      <td>AirAsiaSupport</td>\n",
       "      <td>@116720 Hi there, there is no payment transaction has been made on your booking number and it is expired. -Jimy</td>\n",
       "    </tr>\n",
       "  </tbody>\n",
       "</table>\n",
       "</div>"
      ],
      "text/plain": [
       "   author_id_x  \\\n",
       "0  115799        \n",
       "1  115801        \n",
       "2  116049        \n",
       "3  116243        \n",
       "4  116720        \n",
       "\n",
       "                                                                                                                                      text_x  \\\n",
       "0  @AirAsiaSupport CAS-19708536-CB92N2 CRM:0326600 Please check on this I haven't heard from my case officer in weeks and provided all docs.   \n",
       "1  @115802 @AirAsiaSupport Why are you not refunding my trip to Bali for Volcano eruption!!! Urgently refund!!                                 \n",
       "2  @AirAsiaSupport what happen to your system. I could not sent my refund info to e form                                                       \n",
       "3  @AirAsiaSupport saya nak tukar flight sbb reschedule. booking #YIU8NM                                                                       \n",
       "4  @AirAsiaSupport name correction my case number 494610                                                                                       \n",
       "\n",
       "      author_id_y  \\\n",
       "0  AirAsiaSupport   \n",
       "1  AirAsiaSupport   \n",
       "2  AirAsiaSupport   \n",
       "3  AirAsiaSupport   \n",
       "4  AirAsiaSupport   \n",
       "\n",
       "                                                                                                            text_y  \n",
       "0  @115799 We have replied to you via DM. Check it out =) Yana                                                      \n",
       "1  @115801 Hi Ashutosh , Could you provide us the booking number for further checking. Thanks - Khairul             \n",
       "2  @116049 Hi Firdaus, we has respond you via DM,see you there! - Anwar                                             \n",
       "3  @116243 Hi Ijan :) Yes sure, we has respond you via DM, see you there!-Anwar                                     \n",
       "4  @116720 Hi there, there is no payment transaction has been made on your booking number and it is expired. -Jimy  "
      ]
     },
     "execution_count": 4,
     "metadata": {},
     "output_type": "execute_result"
    }
   ],
   "source": [
    "AirAsiaSupport_df.head()"
   ]
  },
  {
   "cell_type": "code",
   "execution_count": 5,
   "metadata": {
    "ExecuteTime": {
     "end_time": "2019-12-03T18:07:39.331359Z",
     "start_time": "2019-12-03T18:07:39.074693Z"
    },
    "scrolled": true
   },
   "outputs": [
    {
     "name": "stdout",
     "output_type": "stream",
     "text": [
      "Shape:(7058, 4)\n",
      "0 NaNs rows were removed!\n",
      "0 duplicates were removed!\n",
      "Final Shape:(7058, 4)\n"
     ]
    }
   ],
   "source": [
    "cleaning_df(AirAsiaSupport_df)"
   ]
  },
  {
   "cell_type": "code",
   "execution_count": 6,
   "metadata": {
    "ExecuteTime": {
     "end_time": "2019-12-03T18:07:42.753101Z",
     "start_time": "2019-12-03T18:07:42.733150Z"
    },
    "scrolled": true
   },
   "outputs": [
    {
     "data": {
      "text/html": [
       "<div>\n",
       "<style scoped>\n",
       "    .dataframe tbody tr th:only-of-type {\n",
       "        vertical-align: middle;\n",
       "    }\n",
       "\n",
       "    .dataframe tbody tr th {\n",
       "        vertical-align: top;\n",
       "    }\n",
       "\n",
       "    .dataframe thead th {\n",
       "        text-align: right;\n",
       "    }\n",
       "</style>\n",
       "<table border=\"1\" class=\"dataframe\">\n",
       "  <thead>\n",
       "    <tr style=\"text-align: right;\">\n",
       "      <th></th>\n",
       "      <th>text_x</th>\n",
       "      <th>author_id_y</th>\n",
       "      <th>text_y</th>\n",
       "    </tr>\n",
       "  </thead>\n",
       "  <tbody>\n",
       "    <tr>\n",
       "      <th>0</th>\n",
       "      <td>@AirAsiaSupport CAS-19708536-CB92N2 CRM:0326600 Please check on this I haven't heard from my case officer in weeks and provided all docs.</td>\n",
       "      <td>AirAsiaSupport</td>\n",
       "      <td>@115799 We have replied to you via DM. Check it out =) Yana</td>\n",
       "    </tr>\n",
       "    <tr>\n",
       "      <th>1</th>\n",
       "      <td>@115802 @AirAsiaSupport Why are you not refunding my trip to Bali for Volcano eruption!!! Urgently refund!!</td>\n",
       "      <td>AirAsiaSupport</td>\n",
       "      <td>@115801 Hi Ashutosh , Could you provide us the booking number for further checking. Thanks - Khairul</td>\n",
       "    </tr>\n",
       "    <tr>\n",
       "      <th>2</th>\n",
       "      <td>@AirAsiaSupport what happen to your system. I could not sent my refund info to e form</td>\n",
       "      <td>AirAsiaSupport</td>\n",
       "      <td>@116049 Hi Firdaus, we has respond you via DM,see you there! - Anwar</td>\n",
       "    </tr>\n",
       "    <tr>\n",
       "      <th>3</th>\n",
       "      <td>@AirAsiaSupport saya nak tukar flight sbb reschedule. booking #YIU8NM</td>\n",
       "      <td>AirAsiaSupport</td>\n",
       "      <td>@116243 Hi Ijan :) Yes sure, we has respond you via DM, see you there!-Anwar</td>\n",
       "    </tr>\n",
       "    <tr>\n",
       "      <th>4</th>\n",
       "      <td>@AirAsiaSupport name correction my case number 494610</td>\n",
       "      <td>AirAsiaSupport</td>\n",
       "      <td>@116720 Hi there, there is no payment transaction has been made on your booking number and it is expired. -Jimy</td>\n",
       "    </tr>\n",
       "  </tbody>\n",
       "</table>\n",
       "</div>"
      ],
      "text/plain": [
       "                                                                                                                                      text_x  \\\n",
       "0  @AirAsiaSupport CAS-19708536-CB92N2 CRM:0326600 Please check on this I haven't heard from my case officer in weeks and provided all docs.   \n",
       "1  @115802 @AirAsiaSupport Why are you not refunding my trip to Bali for Volcano eruption!!! Urgently refund!!                                 \n",
       "2  @AirAsiaSupport what happen to your system. I could not sent my refund info to e form                                                       \n",
       "3  @AirAsiaSupport saya nak tukar flight sbb reschedule. booking #YIU8NM                                                                       \n",
       "4  @AirAsiaSupport name correction my case number 494610                                                                                       \n",
       "\n",
       "      author_id_y  \\\n",
       "0  AirAsiaSupport   \n",
       "1  AirAsiaSupport   \n",
       "2  AirAsiaSupport   \n",
       "3  AirAsiaSupport   \n",
       "4  AirAsiaSupport   \n",
       "\n",
       "                                                                                                            text_y  \n",
       "0  @115799 We have replied to you via DM. Check it out =) Yana                                                      \n",
       "1  @115801 Hi Ashutosh , Could you provide us the booking number for further checking. Thanks - Khairul             \n",
       "2  @116049 Hi Firdaus, we has respond you via DM,see you there! - Anwar                                             \n",
       "3  @116243 Hi Ijan :) Yes sure, we has respond you via DM, see you there!-Anwar                                     \n",
       "4  @116720 Hi there, there is no payment transaction has been made on your booking number and it is expired. -Jimy  "
      ]
     },
     "execution_count": 6,
     "metadata": {},
     "output_type": "execute_result"
    }
   ],
   "source": [
    "#Dropped unwanted columns\n",
    "AirAsiaSupport_df.drop(columns = 'author_id_x', inplace=True)\n",
    "AirAsiaSupport_df.head()"
   ]
  },
  {
   "cell_type": "code",
   "execution_count": 7,
   "metadata": {
    "ExecuteTime": {
     "end_time": "2019-12-03T18:07:51.187073Z",
     "start_time": "2019-12-03T18:07:51.160115Z"
    }
   },
   "outputs": [],
   "source": [
    "#Convert 'text_x' & 'text_y' columns to string. \n",
    "AirAsiaSupport_df['text_x'] = AirAsiaSupport_df['text_x'].astype(str)\n",
    "AirAsiaSupport_df['text_y'] = AirAsiaSupport_df['text_y'].astype(str)"
   ]
  },
  {
   "cell_type": "code",
   "execution_count": 8,
   "metadata": {
    "ExecuteTime": {
     "end_time": "2019-12-03T18:07:53.064842Z",
     "start_time": "2019-12-03T18:07:53.012943Z"
    }
   },
   "outputs": [],
   "source": [
    "#Convert all string to lower case\n",
    "AirAsiaSupport_df['text_x'] = AirAsiaSupport_df['text_x'].str.lower()\n",
    "AirAsiaSupport_df['text_y'] = AirAsiaSupport_df['text_y'].str.lower()"
   ]
  },
  {
   "cell_type": "markdown",
   "metadata": {},
   "source": [
    "### 1.2 American Air"
   ]
  },
  {
   "cell_type": "code",
   "execution_count": 9,
   "metadata": {
    "ExecuteTime": {
     "end_time": "2019-12-03T18:07:58.770412Z",
     "start_time": "2019-12-03T18:07:58.752460Z"
    }
   },
   "outputs": [
    {
     "data": {
      "text/html": [
       "<div>\n",
       "<style scoped>\n",
       "    .dataframe tbody tr th:only-of-type {\n",
       "        vertical-align: middle;\n",
       "    }\n",
       "\n",
       "    .dataframe tbody tr th {\n",
       "        vertical-align: top;\n",
       "    }\n",
       "\n",
       "    .dataframe thead th {\n",
       "        text-align: right;\n",
       "    }\n",
       "</style>\n",
       "<table border=\"1\" class=\"dataframe\">\n",
       "  <thead>\n",
       "    <tr style=\"text-align: right;\">\n",
       "      <th></th>\n",
       "      <th>author_id_x</th>\n",
       "      <th>text_x</th>\n",
       "      <th>author_id_y</th>\n",
       "      <th>text_y</th>\n",
       "    </tr>\n",
       "  </thead>\n",
       "  <tbody>\n",
       "    <tr>\n",
       "      <th>0</th>\n",
       "      <td>115905</td>\n",
       "      <td>Ben Tennyson and an American Airlines pilot. 🎃 #trunkortreat #halloween #2017 #diycostume #parenting @americanair … https://t.co/f1nNHQ0iLa https://t.co/lDViDkRdB1</td>\n",
       "      <td>AmericanAir</td>\n",
       "      <td>@115905 Aww, that's definitely a future pilot in the making! #HappyHalloween</td>\n",
       "    </tr>\n",
       "    <tr>\n",
       "      <th>1</th>\n",
       "      <td>115906</td>\n",
       "      <td>I’m sorry, what? It’s going to COST me $50 to transfer 4,000 AA Advantage points to my spouse? @AmericanAir this is ridiculous!!</td>\n",
       "      <td>AmericanAir</td>\n",
       "      <td>@115906 This is a great option for customers who want to share miles and it's cheaper than having to purchase them.</td>\n",
       "    </tr>\n",
       "    <tr>\n",
       "      <th>2</th>\n",
       "      <td>115907</td>\n",
       "      <td>Heading to London tonight will be there for 5 days doing some exciting stuff:) @AmericanAir get the drinks ready I coming aboard:) JB</td>\n",
       "      <td>AmericanAir</td>\n",
       "      <td>@115907 It's always a pleasure to have you on board, John. Have a wonderful flight over the pond!</td>\n",
       "    </tr>\n",
       "    <tr>\n",
       "      <th>3</th>\n",
       "      <td>115908</td>\n",
       "      <td>Check out these tiny trick-or-treaters all dressed up in our #NICU. Hey @AmericanAir! We have your youngest #pilot in training! #Halloween https://t.co/0C3aXJhiAg</td>\n",
       "      <td>AmericanAir</td>\n",
       "      <td>@115908 Pilots, Potter, Pumpkins and Skeletons...oh my! They're all adorable.</td>\n",
       "    </tr>\n",
       "    <tr>\n",
       "      <th>4</th>\n",
       "      <td>115909</td>\n",
       "      <td>Thank you, @AmericanAir for playing #ThisIsUs and for having great flight attendants on my flight back home!</td>\n",
       "      <td>AmericanAir</td>\n",
       "      <td>@115909 We're glad you got to kick back and enjoy a show while flying! Thanks for your kind words.</td>\n",
       "    </tr>\n",
       "  </tbody>\n",
       "</table>\n",
       "</div>"
      ],
      "text/plain": [
       "   author_id_x  \\\n",
       "0  115905        \n",
       "1  115906        \n",
       "2  115907        \n",
       "3  115908        \n",
       "4  115909        \n",
       "\n",
       "                                                                                                                                                                text_x  \\\n",
       "0  Ben Tennyson and an American Airlines pilot. 🎃 #trunkortreat #halloween #2017 #diycostume #parenting @americanair … https://t.co/f1nNHQ0iLa https://t.co/lDViDkRdB1   \n",
       "1  I’m sorry, what? It’s going to COST me $50 to transfer 4,000 AA Advantage points to my spouse? @AmericanAir this is ridiculous!!                                      \n",
       "2  Heading to London tonight will be there for 5 days doing some exciting stuff:) @AmericanAir get the drinks ready I coming aboard:) JB                                 \n",
       "3  Check out these tiny trick-or-treaters all dressed up in our #NICU. Hey @AmericanAir! We have your youngest #pilot in training! #Halloween https://t.co/0C3aXJhiAg    \n",
       "4  Thank you, @AmericanAir for playing #ThisIsUs and for having great flight attendants on my flight back home!                                                          \n",
       "\n",
       "   author_id_y  \\\n",
       "0  AmericanAir   \n",
       "1  AmericanAir   \n",
       "2  AmericanAir   \n",
       "3  AmericanAir   \n",
       "4  AmericanAir   \n",
       "\n",
       "                                                                                                                text_y  \n",
       "0  @115905 Aww, that's definitely a future pilot in the making! #HappyHalloween                                         \n",
       "1  @115906 This is a great option for customers who want to share miles and it's cheaper than having to purchase them.  \n",
       "2  @115907 It's always a pleasure to have you on board, John. Have a wonderful flight over the pond!                    \n",
       "3  @115908 Pilots, Potter, Pumpkins and Skeletons...oh my! They're all adorable.                                        \n",
       "4  @115909 We're glad you got to kick back and enjoy a show while flying! Thanks for your kind words.                   "
      ]
     },
     "execution_count": 9,
     "metadata": {},
     "output_type": "execute_result"
    }
   ],
   "source": [
    "AmericanAir_df.head()"
   ]
  },
  {
   "cell_type": "code",
   "execution_count": 10,
   "metadata": {
    "ExecuteTime": {
     "end_time": "2019-12-03T18:08:19.751901Z",
     "start_time": "2019-12-03T18:08:19.652199Z"
    }
   },
   "outputs": [
    {
     "name": "stdout",
     "output_type": "stream",
     "text": [
      "Shape:(24506, 4)\n",
      "0 NaNs rows were removed!\n",
      "0 duplicates were removed!\n",
      "Final Shape:(24506, 4)\n"
     ]
    }
   ],
   "source": [
    "cleaning_df(AmericanAir_df)"
   ]
  },
  {
   "cell_type": "code",
   "execution_count": 11,
   "metadata": {
    "ExecuteTime": {
     "end_time": "2019-12-03T18:08:21.425213Z",
     "start_time": "2019-12-03T18:08:21.399282Z"
    },
    "scrolled": true
   },
   "outputs": [
    {
     "data": {
      "text/html": [
       "<div>\n",
       "<style scoped>\n",
       "    .dataframe tbody tr th:only-of-type {\n",
       "        vertical-align: middle;\n",
       "    }\n",
       "\n",
       "    .dataframe tbody tr th {\n",
       "        vertical-align: top;\n",
       "    }\n",
       "\n",
       "    .dataframe thead th {\n",
       "        text-align: right;\n",
       "    }\n",
       "</style>\n",
       "<table border=\"1\" class=\"dataframe\">\n",
       "  <thead>\n",
       "    <tr style=\"text-align: right;\">\n",
       "      <th></th>\n",
       "      <th>text_x</th>\n",
       "      <th>author_id_y</th>\n",
       "      <th>text_y</th>\n",
       "    </tr>\n",
       "  </thead>\n",
       "  <tbody>\n",
       "    <tr>\n",
       "      <th>0</th>\n",
       "      <td>Ben Tennyson and an American Airlines pilot. 🎃 #trunkortreat #halloween #2017 #diycostume #parenting @americanair … https://t.co/f1nNHQ0iLa https://t.co/lDViDkRdB1</td>\n",
       "      <td>AmericanAir</td>\n",
       "      <td>@115905 Aww, that's definitely a future pilot in the making! #HappyHalloween</td>\n",
       "    </tr>\n",
       "    <tr>\n",
       "      <th>1</th>\n",
       "      <td>I’m sorry, what? It’s going to COST me $50 to transfer 4,000 AA Advantage points to my spouse? @AmericanAir this is ridiculous!!</td>\n",
       "      <td>AmericanAir</td>\n",
       "      <td>@115906 This is a great option for customers who want to share miles and it's cheaper than having to purchase them.</td>\n",
       "    </tr>\n",
       "    <tr>\n",
       "      <th>2</th>\n",
       "      <td>Heading to London tonight will be there for 5 days doing some exciting stuff:) @AmericanAir get the drinks ready I coming aboard:) JB</td>\n",
       "      <td>AmericanAir</td>\n",
       "      <td>@115907 It's always a pleasure to have you on board, John. Have a wonderful flight over the pond!</td>\n",
       "    </tr>\n",
       "    <tr>\n",
       "      <th>3</th>\n",
       "      <td>Check out these tiny trick-or-treaters all dressed up in our #NICU. Hey @AmericanAir! We have your youngest #pilot in training! #Halloween https://t.co/0C3aXJhiAg</td>\n",
       "      <td>AmericanAir</td>\n",
       "      <td>@115908 Pilots, Potter, Pumpkins and Skeletons...oh my! They're all adorable.</td>\n",
       "    </tr>\n",
       "    <tr>\n",
       "      <th>4</th>\n",
       "      <td>Thank you, @AmericanAir for playing #ThisIsUs and for having great flight attendants on my flight back home!</td>\n",
       "      <td>AmericanAir</td>\n",
       "      <td>@115909 We're glad you got to kick back and enjoy a show while flying! Thanks for your kind words.</td>\n",
       "    </tr>\n",
       "  </tbody>\n",
       "</table>\n",
       "</div>"
      ],
      "text/plain": [
       "                                                                                                                                                                text_x  \\\n",
       "0  Ben Tennyson and an American Airlines pilot. 🎃 #trunkortreat #halloween #2017 #diycostume #parenting @americanair … https://t.co/f1nNHQ0iLa https://t.co/lDViDkRdB1   \n",
       "1  I’m sorry, what? It’s going to COST me $50 to transfer 4,000 AA Advantage points to my spouse? @AmericanAir this is ridiculous!!                                      \n",
       "2  Heading to London tonight will be there for 5 days doing some exciting stuff:) @AmericanAir get the drinks ready I coming aboard:) JB                                 \n",
       "3  Check out these tiny trick-or-treaters all dressed up in our #NICU. Hey @AmericanAir! We have your youngest #pilot in training! #Halloween https://t.co/0C3aXJhiAg    \n",
       "4  Thank you, @AmericanAir for playing #ThisIsUs and for having great flight attendants on my flight back home!                                                          \n",
       "\n",
       "   author_id_y  \\\n",
       "0  AmericanAir   \n",
       "1  AmericanAir   \n",
       "2  AmericanAir   \n",
       "3  AmericanAir   \n",
       "4  AmericanAir   \n",
       "\n",
       "                                                                                                                text_y  \n",
       "0  @115905 Aww, that's definitely a future pilot in the making! #HappyHalloween                                         \n",
       "1  @115906 This is a great option for customers who want to share miles and it's cheaper than having to purchase them.  \n",
       "2  @115907 It's always a pleasure to have you on board, John. Have a wonderful flight over the pond!                    \n",
       "3  @115908 Pilots, Potter, Pumpkins and Skeletons...oh my! They're all adorable.                                        \n",
       "4  @115909 We're glad you got to kick back and enjoy a show while flying! Thanks for your kind words.                   "
      ]
     },
     "execution_count": 11,
     "metadata": {},
     "output_type": "execute_result"
    }
   ],
   "source": [
    "#Dropped unwanted columns\n",
    "AmericanAir_df.drop(columns = 'author_id_x', inplace = True)\n",
    "AmericanAir_df.head()"
   ]
  },
  {
   "cell_type": "code",
   "execution_count": 12,
   "metadata": {
    "ExecuteTime": {
     "end_time": "2019-12-03T18:08:28.059327Z",
     "start_time": "2019-12-03T18:08:28.036389Z"
    }
   },
   "outputs": [],
   "source": [
    "#Convert 'text_x' & 'text_y' columns to string. \n",
    "AmericanAir_df['text_x'] = AmericanAir_df['text_x'].astype(str)\n",
    "AmericanAir_df['text_y'] = AmericanAir_df['text_y'].astype(str)"
   ]
  },
  {
   "cell_type": "code",
   "execution_count": 13,
   "metadata": {
    "ExecuteTime": {
     "end_time": "2019-12-03T18:08:29.593553Z",
     "start_time": "2019-12-03T18:08:29.495813Z"
    }
   },
   "outputs": [],
   "source": [
    "#Convert all string to lower case\n",
    "AmericanAir_df['text_x'] = AmericanAir_df['text_x'].str.lower()\n",
    "AmericanAir_df['text_y'] = AmericanAir_df['text_y'].str.lower()"
   ]
  },
  {
   "cell_type": "markdown",
   "metadata": {},
   "source": [
    "### 1.3 British Airways"
   ]
  },
  {
   "cell_type": "code",
   "execution_count": 14,
   "metadata": {
    "ExecuteTime": {
     "end_time": "2019-12-03T18:08:35.031256Z",
     "start_time": "2019-12-03T18:08:35.014301Z"
    }
   },
   "outputs": [
    {
     "data": {
      "text/html": [
       "<div>\n",
       "<style scoped>\n",
       "    .dataframe tbody tr th:only-of-type {\n",
       "        vertical-align: middle;\n",
       "    }\n",
       "\n",
       "    .dataframe tbody tr th {\n",
       "        vertical-align: top;\n",
       "    }\n",
       "\n",
       "    .dataframe thead th {\n",
       "        text-align: right;\n",
       "    }\n",
       "</style>\n",
       "<table border=\"1\" class=\"dataframe\">\n",
       "  <thead>\n",
       "    <tr style=\"text-align: right;\">\n",
       "      <th></th>\n",
       "      <th>author_id_x</th>\n",
       "      <th>text_x</th>\n",
       "      <th>author_id_y</th>\n",
       "      <th>text_y</th>\n",
       "    </tr>\n",
       "  </thead>\n",
       "  <tbody>\n",
       "    <tr>\n",
       "      <th>0</th>\n",
       "      <td>115892</td>\n",
       "      <td>Hi @British_Airways! My flight from MAN--LHR--BWI for Nov. 3 was canceled. I was excited to try your Club 787 product. Only available flight is now to IAD which is a hassle, but rebooked anyway--my only option! Any availability in first class on BA293 for the troubles please?</td>\n",
       "      <td>British_Airways</td>\n",
       "      <td>@115892 caused. We're unable to offer a complimentary upgrade, however we can quote an upgrade if you would like us to? ^Jane 2/2</td>\n",
       "    </tr>\n",
       "    <tr>\n",
       "      <th>1</th>\n",
       "      <td>115892</td>\n",
       "      <td>Hi @British_Airways! My flight from MAN--LHR--BWI for Nov. 3 was canceled. I was excited to try your Club 787 product. Only available flight is now to IAD which is a hassle, but rebooked anyway--my only option! Any availability in first class on BA293 for the troubles please?</td>\n",
       "      <td>British_Airways</td>\n",
       "      <td>@115892 We're so sorry to hear your flight was cancelled, Bryce. We're pleased you've been rebooked, however we're sorry for the hassle this has 1/2</td>\n",
       "    </tr>\n",
       "    <tr>\n",
       "      <th>2</th>\n",
       "      <td>115893</td>\n",
       "      <td>@British_Airways  will you ever address my complaint/claim?  Or, do you just ignore it until the 2 yrs are up?</td>\n",
       "      <td>British_Airways</td>\n",
       "      <td>@115893 email address and contact telephone number. We'll look into your complaint and contact you for an update 2/2. ^Oliver</td>\n",
       "    </tr>\n",
       "    <tr>\n",
       "      <th>3</th>\n",
       "      <td>115893</td>\n",
       "      <td>@British_Airways  will you ever address my complaint/claim?  Or, do you just ignore it until the 2 yrs are up?</td>\n",
       "      <td>British_Airways</td>\n",
       "      <td>@115893 We apologise for not responding sooner. We're now following you. Please follow us back and send your full name, booking reference, 1/2</td>\n",
       "    </tr>\n",
       "    <tr>\n",
       "      <th>4</th>\n",
       "      <td>115895</td>\n",
       "      <td>@British_Airways can I just confirm the email that would send passport details to change a name on a ticket is __email__?</td>\n",
       "      <td>British_Airways</td>\n",
       "      <td>@115895 Hi Sam, that is the correct email. ^Helen</td>\n",
       "    </tr>\n",
       "  </tbody>\n",
       "</table>\n",
       "</div>"
      ],
      "text/plain": [
       "   author_id_x  \\\n",
       "0  115892        \n",
       "1  115892        \n",
       "2  115893        \n",
       "3  115893        \n",
       "4  115895        \n",
       "\n",
       "                                                                                                                                                                                                                                                                                 text_x  \\\n",
       "0  Hi @British_Airways! My flight from MAN--LHR--BWI for Nov. 3 was canceled. I was excited to try your Club 787 product. Only available flight is now to IAD which is a hassle, but rebooked anyway--my only option! Any availability in first class on BA293 for the troubles please?   \n",
       "1  Hi @British_Airways! My flight from MAN--LHR--BWI for Nov. 3 was canceled. I was excited to try your Club 787 product. Only available flight is now to IAD which is a hassle, but rebooked anyway--my only option! Any availability in first class on BA293 for the troubles please?   \n",
       "2  @British_Airways  will you ever address my complaint/claim?  Or, do you just ignore it until the 2 yrs are up?                                                                                                                                                                         \n",
       "3  @British_Airways  will you ever address my complaint/claim?  Or, do you just ignore it until the 2 yrs are up?                                                                                                                                                                         \n",
       "4  @British_Airways can I just confirm the email that would send passport details to change a name on a ticket is __email__?                                                                                                                                                              \n",
       "\n",
       "       author_id_y  \\\n",
       "0  British_Airways   \n",
       "1  British_Airways   \n",
       "2  British_Airways   \n",
       "3  British_Airways   \n",
       "4  British_Airways   \n",
       "\n",
       "                                                                                                                                                 text_y  \n",
       "0  @115892 caused. We're unable to offer a complimentary upgrade, however we can quote an upgrade if you would like us to? ^Jane 2/2                     \n",
       "1  @115892 We're so sorry to hear your flight was cancelled, Bryce. We're pleased you've been rebooked, however we're sorry for the hassle this has 1/2  \n",
       "2  @115893 email address and contact telephone number. We'll look into your complaint and contact you for an update 2/2. ^Oliver                         \n",
       "3  @115893 We apologise for not responding sooner. We're now following you. Please follow us back and send your full name, booking reference, 1/2        \n",
       "4  @115895 Hi Sam, that is the correct email. ^Helen                                                                                                     "
      ]
     },
     "execution_count": 14,
     "metadata": {},
     "output_type": "execute_result"
    }
   ],
   "source": [
    "British_Airways_df.head()"
   ]
  },
  {
   "cell_type": "code",
   "execution_count": 15,
   "metadata": {
    "ExecuteTime": {
     "end_time": "2019-12-03T18:08:51.443769Z",
     "start_time": "2019-12-03T18:08:51.358000Z"
    },
    "scrolled": true
   },
   "outputs": [
    {
     "name": "stdout",
     "output_type": "stream",
     "text": [
      "Shape:(19611, 4)\n",
      "0 NaNs rows were removed!\n",
      "0 duplicates were removed!\n",
      "Final Shape:(19611, 4)\n"
     ]
    }
   ],
   "source": [
    "cleaning_df(British_Airways_df)"
   ]
  },
  {
   "cell_type": "code",
   "execution_count": 16,
   "metadata": {
    "ExecuteTime": {
     "end_time": "2019-12-03T18:08:53.714316Z",
     "start_time": "2019-12-03T18:08:53.691382Z"
    }
   },
   "outputs": [
    {
     "data": {
      "text/html": [
       "<div>\n",
       "<style scoped>\n",
       "    .dataframe tbody tr th:only-of-type {\n",
       "        vertical-align: middle;\n",
       "    }\n",
       "\n",
       "    .dataframe tbody tr th {\n",
       "        vertical-align: top;\n",
       "    }\n",
       "\n",
       "    .dataframe thead th {\n",
       "        text-align: right;\n",
       "    }\n",
       "</style>\n",
       "<table border=\"1\" class=\"dataframe\">\n",
       "  <thead>\n",
       "    <tr style=\"text-align: right;\">\n",
       "      <th></th>\n",
       "      <th>text_x</th>\n",
       "      <th>author_id_y</th>\n",
       "      <th>text_y</th>\n",
       "    </tr>\n",
       "  </thead>\n",
       "  <tbody>\n",
       "    <tr>\n",
       "      <th>0</th>\n",
       "      <td>Hi @British_Airways! My flight from MAN--LHR--BWI for Nov. 3 was canceled. I was excited to try your Club 787 product. Only available flight is now to IAD which is a hassle, but rebooked anyway--my only option! Any availability in first class on BA293 for the troubles please?</td>\n",
       "      <td>British_Airways</td>\n",
       "      <td>@115892 caused. We're unable to offer a complimentary upgrade, however we can quote an upgrade if you would like us to? ^Jane 2/2</td>\n",
       "    </tr>\n",
       "    <tr>\n",
       "      <th>1</th>\n",
       "      <td>Hi @British_Airways! My flight from MAN--LHR--BWI for Nov. 3 was canceled. I was excited to try your Club 787 product. Only available flight is now to IAD which is a hassle, but rebooked anyway--my only option! Any availability in first class on BA293 for the troubles please?</td>\n",
       "      <td>British_Airways</td>\n",
       "      <td>@115892 We're so sorry to hear your flight was cancelled, Bryce. We're pleased you've been rebooked, however we're sorry for the hassle this has 1/2</td>\n",
       "    </tr>\n",
       "    <tr>\n",
       "      <th>2</th>\n",
       "      <td>@British_Airways  will you ever address my complaint/claim?  Or, do you just ignore it until the 2 yrs are up?</td>\n",
       "      <td>British_Airways</td>\n",
       "      <td>@115893 email address and contact telephone number. We'll look into your complaint and contact you for an update 2/2. ^Oliver</td>\n",
       "    </tr>\n",
       "    <tr>\n",
       "      <th>3</th>\n",
       "      <td>@British_Airways  will you ever address my complaint/claim?  Or, do you just ignore it until the 2 yrs are up?</td>\n",
       "      <td>British_Airways</td>\n",
       "      <td>@115893 We apologise for not responding sooner. We're now following you. Please follow us back and send your full name, booking reference, 1/2</td>\n",
       "    </tr>\n",
       "    <tr>\n",
       "      <th>4</th>\n",
       "      <td>@British_Airways can I just confirm the email that would send passport details to change a name on a ticket is __email__?</td>\n",
       "      <td>British_Airways</td>\n",
       "      <td>@115895 Hi Sam, that is the correct email. ^Helen</td>\n",
       "    </tr>\n",
       "  </tbody>\n",
       "</table>\n",
       "</div>"
      ],
      "text/plain": [
       "                                                                                                                                                                                                                                                                                 text_x  \\\n",
       "0  Hi @British_Airways! My flight from MAN--LHR--BWI for Nov. 3 was canceled. I was excited to try your Club 787 product. Only available flight is now to IAD which is a hassle, but rebooked anyway--my only option! Any availability in first class on BA293 for the troubles please?   \n",
       "1  Hi @British_Airways! My flight from MAN--LHR--BWI for Nov. 3 was canceled. I was excited to try your Club 787 product. Only available flight is now to IAD which is a hassle, but rebooked anyway--my only option! Any availability in first class on BA293 for the troubles please?   \n",
       "2  @British_Airways  will you ever address my complaint/claim?  Or, do you just ignore it until the 2 yrs are up?                                                                                                                                                                         \n",
       "3  @British_Airways  will you ever address my complaint/claim?  Or, do you just ignore it until the 2 yrs are up?                                                                                                                                                                         \n",
       "4  @British_Airways can I just confirm the email that would send passport details to change a name on a ticket is __email__?                                                                                                                                                              \n",
       "\n",
       "       author_id_y  \\\n",
       "0  British_Airways   \n",
       "1  British_Airways   \n",
       "2  British_Airways   \n",
       "3  British_Airways   \n",
       "4  British_Airways   \n",
       "\n",
       "                                                                                                                                                 text_y  \n",
       "0  @115892 caused. We're unable to offer a complimentary upgrade, however we can quote an upgrade if you would like us to? ^Jane 2/2                     \n",
       "1  @115892 We're so sorry to hear your flight was cancelled, Bryce. We're pleased you've been rebooked, however we're sorry for the hassle this has 1/2  \n",
       "2  @115893 email address and contact telephone number. We'll look into your complaint and contact you for an update 2/2. ^Oliver                         \n",
       "3  @115893 We apologise for not responding sooner. We're now following you. Please follow us back and send your full name, booking reference, 1/2        \n",
       "4  @115895 Hi Sam, that is the correct email. ^Helen                                                                                                     "
      ]
     },
     "execution_count": 16,
     "metadata": {},
     "output_type": "execute_result"
    }
   ],
   "source": [
    "#Dropped unwanted columns\n",
    "British_Airways_df.drop(columns = 'author_id_x', inplace = True)\n",
    "British_Airways_df.head()"
   ]
  },
  {
   "cell_type": "code",
   "execution_count": 17,
   "metadata": {
    "ExecuteTime": {
     "end_time": "2019-12-03T18:09:03.854172Z",
     "start_time": "2019-12-03T18:09:03.839215Z"
    }
   },
   "outputs": [],
   "source": [
    "#Convert 'text_x' & 'text_y' columns to string. \n",
    "British_Airways_df['text_x'] = British_Airways_df['text_x'].astype(str)\n",
    "British_Airways_df['text_y'] = British_Airways_df['text_y'].astype(str)"
   ]
  },
  {
   "cell_type": "code",
   "execution_count": 18,
   "metadata": {
    "ExecuteTime": {
     "end_time": "2019-12-03T18:09:05.626879Z",
     "start_time": "2019-12-03T18:09:05.539114Z"
    }
   },
   "outputs": [],
   "source": [
    "#Convert all string to lower case\n",
    "British_Airways_df['text_x'] = British_Airways_df['text_x'].str.lower()\n",
    "British_Airways_df['text_y'] = British_Airways_df['text_y'].str.lower()"
   ]
  },
  {
   "cell_type": "markdown",
   "metadata": {},
   "source": [
    "### 1.4 Delta"
   ]
  },
  {
   "cell_type": "code",
   "execution_count": 19,
   "metadata": {
    "ExecuteTime": {
     "end_time": "2019-12-03T18:09:09.253339Z",
     "start_time": "2019-12-03T18:09:09.237410Z"
    }
   },
   "outputs": [
    {
     "data": {
      "text/html": [
       "<div>\n",
       "<style scoped>\n",
       "    .dataframe tbody tr th:only-of-type {\n",
       "        vertical-align: middle;\n",
       "    }\n",
       "\n",
       "    .dataframe tbody tr th {\n",
       "        vertical-align: top;\n",
       "    }\n",
       "\n",
       "    .dataframe thead th {\n",
       "        text-align: right;\n",
       "    }\n",
       "</style>\n",
       "<table border=\"1\" class=\"dataframe\">\n",
       "  <thead>\n",
       "    <tr style=\"text-align: right;\">\n",
       "      <th></th>\n",
       "      <th>author_id_x</th>\n",
       "      <th>text_x</th>\n",
       "      <th>author_id_y</th>\n",
       "      <th>text_y</th>\n",
       "    </tr>\n",
       "  </thead>\n",
       "  <tbody>\n",
       "    <tr>\n",
       "      <th>0</th>\n",
       "      <td>115818</td>\n",
       "      <td>@DELTA i booked my flight using delta amex card. Checking in now &amp;amp; was being charged for baggage</td>\n",
       "      <td>Delta</td>\n",
       "      <td>@115818 Glad to check. Pls, DM your confirmation number for assistance.  *QB https://t.co/6iDGBJAc2m</td>\n",
       "    </tr>\n",
       "    <tr>\n",
       "      <th>1</th>\n",
       "      <td>115882</td>\n",
       "      <td>@Delta why wasn't earlier flight offered when I tried to rebook, not cool at all. Just happened to look at moniter after deplaning.</td>\n",
       "      <td>Delta</td>\n",
       "      <td>@115882 I'm sorry. The earlier flight may not have been available at the time of your scheduled change. *TMT</td>\n",
       "    </tr>\n",
       "    <tr>\n",
       "      <th>2</th>\n",
       "      <td>115883</td>\n",
       "      <td>@Delta The \"change flight\" search option on your website is broken once again.  😑</td>\n",
       "      <td>Delta</td>\n",
       "      <td>@115883 I sincerely apologize, our IT team is diligently working on it, we should have it up and working very soon.  *TMC</td>\n",
       "    </tr>\n",
       "    <tr>\n",
       "      <th>3</th>\n",
       "      <td>115884</td>\n",
       "      <td>.@delta this has been my inflight studio experience today. Nothing works except Twitter #toobadforyouandme https://t.co/VLo4ufL73y</td>\n",
       "      <td>Delta</td>\n",
       "      <td>@115884 Oh, no! Please speak to a member of the flt crew for immediate assistance. *AAB</td>\n",
       "    </tr>\n",
       "    <tr>\n",
       "      <th>4</th>\n",
       "      <td>115885</td>\n",
       "      <td>@Delta I'm flying JFK-MEX-MID tomorrow and you say I'm booked in, but it looks like it's just the first leg. Can you check, please?</td>\n",
       "      <td>Delta</td>\n",
       "      <td>@115885 Hi, Richard. Can you pls DM your confirmation number so I may look into this matter for you? Thanks! *TJF https://t.co/6iDGBJAc2m</td>\n",
       "    </tr>\n",
       "  </tbody>\n",
       "</table>\n",
       "</div>"
      ],
      "text/plain": [
       "   author_id_x  \\\n",
       "0  115818        \n",
       "1  115882        \n",
       "2  115883        \n",
       "3  115884        \n",
       "4  115885        \n",
       "\n",
       "                                                                                                                                text_x  \\\n",
       "0  @DELTA i booked my flight using delta amex card. Checking in now &amp; was being charged for baggage                                  \n",
       "1  @Delta why wasn't earlier flight offered when I tried to rebook, not cool at all. Just happened to look at moniter after deplaning.   \n",
       "2  @Delta The \"change flight\" search option on your website is broken once again.  😑                                                     \n",
       "3  .@delta this has been my inflight studio experience today. Nothing works except Twitter #toobadforyouandme https://t.co/VLo4ufL73y    \n",
       "4  @Delta I'm flying JFK-MEX-MID tomorrow and you say I'm booked in, but it looks like it's just the first leg. Can you check, please?   \n",
       "\n",
       "  author_id_y  \\\n",
       "0  Delta        \n",
       "1  Delta        \n",
       "2  Delta        \n",
       "3  Delta        \n",
       "4  Delta        \n",
       "\n",
       "                                                                                                                                      text_y  \n",
       "0  @115818 Glad to check. Pls, DM your confirmation number for assistance.  *QB https://t.co/6iDGBJAc2m                                       \n",
       "1  @115882 I'm sorry. The earlier flight may not have been available at the time of your scheduled change. *TMT                               \n",
       "2  @115883 I sincerely apologize, our IT team is diligently working on it, we should have it up and working very soon.  *TMC                  \n",
       "3  @115884 Oh, no! Please speak to a member of the flt crew for immediate assistance. *AAB                                                    \n",
       "4  @115885 Hi, Richard. Can you pls DM your confirmation number so I may look into this matter for you? Thanks! *TJF https://t.co/6iDGBJAc2m  "
      ]
     },
     "execution_count": 19,
     "metadata": {},
     "output_type": "execute_result"
    }
   ],
   "source": [
    "Delta_df.head()"
   ]
  },
  {
   "cell_type": "code",
   "execution_count": 20,
   "metadata": {
    "ExecuteTime": {
     "end_time": "2019-12-03T18:09:15.182475Z",
     "start_time": "2019-12-03T18:09:15.052827Z"
    }
   },
   "outputs": [
    {
     "name": "stdout",
     "output_type": "stream",
     "text": [
      "Shape:(28485, 4)\n",
      "0 NaNs rows were removed!\n",
      "0 duplicates were removed!\n",
      "Final Shape:(28485, 4)\n"
     ]
    }
   ],
   "source": [
    "cleaning_df(Delta_df)"
   ]
  },
  {
   "cell_type": "code",
   "execution_count": 21,
   "metadata": {
    "ExecuteTime": {
     "end_time": "2019-12-03T18:09:17.733910Z",
     "start_time": "2019-12-03T18:09:17.704983Z"
    }
   },
   "outputs": [
    {
     "data": {
      "text/html": [
       "<div>\n",
       "<style scoped>\n",
       "    .dataframe tbody tr th:only-of-type {\n",
       "        vertical-align: middle;\n",
       "    }\n",
       "\n",
       "    .dataframe tbody tr th {\n",
       "        vertical-align: top;\n",
       "    }\n",
       "\n",
       "    .dataframe thead th {\n",
       "        text-align: right;\n",
       "    }\n",
       "</style>\n",
       "<table border=\"1\" class=\"dataframe\">\n",
       "  <thead>\n",
       "    <tr style=\"text-align: right;\">\n",
       "      <th></th>\n",
       "      <th>text_x</th>\n",
       "      <th>author_id_y</th>\n",
       "      <th>text_y</th>\n",
       "    </tr>\n",
       "  </thead>\n",
       "  <tbody>\n",
       "    <tr>\n",
       "      <th>0</th>\n",
       "      <td>@DELTA i booked my flight using delta amex card. Checking in now &amp;amp; was being charged for baggage</td>\n",
       "      <td>Delta</td>\n",
       "      <td>@115818 Glad to check. Pls, DM your confirmation number for assistance.  *QB https://t.co/6iDGBJAc2m</td>\n",
       "    </tr>\n",
       "    <tr>\n",
       "      <th>1</th>\n",
       "      <td>@Delta why wasn't earlier flight offered when I tried to rebook, not cool at all. Just happened to look at moniter after deplaning.</td>\n",
       "      <td>Delta</td>\n",
       "      <td>@115882 I'm sorry. The earlier flight may not have been available at the time of your scheduled change. *TMT</td>\n",
       "    </tr>\n",
       "    <tr>\n",
       "      <th>2</th>\n",
       "      <td>@Delta The \"change flight\" search option on your website is broken once again.  😑</td>\n",
       "      <td>Delta</td>\n",
       "      <td>@115883 I sincerely apologize, our IT team is diligently working on it, we should have it up and working very soon.  *TMC</td>\n",
       "    </tr>\n",
       "    <tr>\n",
       "      <th>3</th>\n",
       "      <td>.@delta this has been my inflight studio experience today. Nothing works except Twitter #toobadforyouandme https://t.co/VLo4ufL73y</td>\n",
       "      <td>Delta</td>\n",
       "      <td>@115884 Oh, no! Please speak to a member of the flt crew for immediate assistance. *AAB</td>\n",
       "    </tr>\n",
       "    <tr>\n",
       "      <th>4</th>\n",
       "      <td>@Delta I'm flying JFK-MEX-MID tomorrow and you say I'm booked in, but it looks like it's just the first leg. Can you check, please?</td>\n",
       "      <td>Delta</td>\n",
       "      <td>@115885 Hi, Richard. Can you pls DM your confirmation number so I may look into this matter for you? Thanks! *TJF https://t.co/6iDGBJAc2m</td>\n",
       "    </tr>\n",
       "  </tbody>\n",
       "</table>\n",
       "</div>"
      ],
      "text/plain": [
       "                                                                                                                                text_x  \\\n",
       "0  @DELTA i booked my flight using delta amex card. Checking in now &amp; was being charged for baggage                                  \n",
       "1  @Delta why wasn't earlier flight offered when I tried to rebook, not cool at all. Just happened to look at moniter after deplaning.   \n",
       "2  @Delta The \"change flight\" search option on your website is broken once again.  😑                                                     \n",
       "3  .@delta this has been my inflight studio experience today. Nothing works except Twitter #toobadforyouandme https://t.co/VLo4ufL73y    \n",
       "4  @Delta I'm flying JFK-MEX-MID tomorrow and you say I'm booked in, but it looks like it's just the first leg. Can you check, please?   \n",
       "\n",
       "  author_id_y  \\\n",
       "0  Delta        \n",
       "1  Delta        \n",
       "2  Delta        \n",
       "3  Delta        \n",
       "4  Delta        \n",
       "\n",
       "                                                                                                                                      text_y  \n",
       "0  @115818 Glad to check. Pls, DM your confirmation number for assistance.  *QB https://t.co/6iDGBJAc2m                                       \n",
       "1  @115882 I'm sorry. The earlier flight may not have been available at the time of your scheduled change. *TMT                               \n",
       "2  @115883 I sincerely apologize, our IT team is diligently working on it, we should have it up and working very soon.  *TMC                  \n",
       "3  @115884 Oh, no! Please speak to a member of the flt crew for immediate assistance. *AAB                                                    \n",
       "4  @115885 Hi, Richard. Can you pls DM your confirmation number so I may look into this matter for you? Thanks! *TJF https://t.co/6iDGBJAc2m  "
      ]
     },
     "execution_count": 21,
     "metadata": {},
     "output_type": "execute_result"
    }
   ],
   "source": [
    "#Dropped unwanted columns\n",
    "Delta_df.drop(columns = 'author_id_x', inplace = True)\n",
    "Delta_df.head()"
   ]
  },
  {
   "cell_type": "code",
   "execution_count": 22,
   "metadata": {
    "ExecuteTime": {
     "end_time": "2019-12-03T18:09:22.855273Z",
     "start_time": "2019-12-03T18:09:22.832332Z"
    }
   },
   "outputs": [],
   "source": [
    "#Convert 'text_x' & 'text_y' columns to string. \n",
    "Delta_df['text_x'] = Delta_df['text_x'].astype(str)\n",
    "Delta_df['text_y'] = Delta_df['text_y'].astype(str)"
   ]
  },
  {
   "cell_type": "code",
   "execution_count": 23,
   "metadata": {
    "ExecuteTime": {
     "end_time": "2019-12-03T18:09:24.577183Z",
     "start_time": "2019-12-03T18:09:24.469470Z"
    }
   },
   "outputs": [],
   "source": [
    "#Convert all string to lower case\n",
    "Delta_df['text_x'] = Delta_df['text_x'].str.lower()\n",
    "Delta_df['text_y'] = Delta_df['text_y'].str.lower()"
   ]
  },
  {
   "cell_type": "markdown",
   "metadata": {},
   "source": [
    "### 1.5 SouthwestAir"
   ]
  },
  {
   "cell_type": "code",
   "execution_count": 24,
   "metadata": {
    "ExecuteTime": {
     "end_time": "2019-12-03T18:09:28.353586Z",
     "start_time": "2019-12-03T18:09:28.335638Z"
    },
    "scrolled": true
   },
   "outputs": [
    {
     "data": {
      "text/html": [
       "<div>\n",
       "<style scoped>\n",
       "    .dataframe tbody tr th:only-of-type {\n",
       "        vertical-align: middle;\n",
       "    }\n",
       "\n",
       "    .dataframe tbody tr th {\n",
       "        vertical-align: top;\n",
       "    }\n",
       "\n",
       "    .dataframe thead th {\n",
       "        text-align: right;\n",
       "    }\n",
       "</style>\n",
       "<table border=\"1\" class=\"dataframe\">\n",
       "  <thead>\n",
       "    <tr style=\"text-align: right;\">\n",
       "      <th></th>\n",
       "      <th>author_id_x</th>\n",
       "      <th>text_x</th>\n",
       "      <th>author_id_y</th>\n",
       "      <th>text_y</th>\n",
       "    </tr>\n",
       "  </thead>\n",
       "  <tbody>\n",
       "    <tr>\n",
       "      <th>0</th>\n",
       "      <td>115925</td>\n",
       "      <td>I really hadthe WORST experience ever from start to finish with @SouthwestAir  will never fly internationally again with them</td>\n",
       "      <td>SouthwestAir</td>\n",
       "      <td>@115925 We're truly sorry to hear that. Please PM us more info so we can followup with you. ^VP</td>\n",
       "    </tr>\n",
       "    <tr>\n",
       "      <th>1</th>\n",
       "      <td>115926</td>\n",
       "      <td>Celebrated Halloween on a @southwestair flight with my pumpkin spice @15890 and a delicious (free) @115927 O… https://t.co/GGPGaaFVq2 https://t.co/gnCxPEsaEv</td>\n",
       "      <td>SouthwestAir</td>\n",
       "      <td>@115926 Happy HalloWN! Bottoms up, Risa! ^SL</td>\n",
       "    </tr>\n",
       "    <tr>\n",
       "      <th>2</th>\n",
       "      <td>115928</td>\n",
       "      <td>Thanks to the wonderful @SouthwestAir crews of flights 1732 &amp;amp; 560 for getting us from Sacramento to KC safe and sound! #YouRock</td>\n",
       "      <td>SouthwestAir</td>\n",
       "      <td>@115928 We aim to please, Eric! Your love means the world to us, and we can't wait to share the skies with you again soon! ^MK</td>\n",
       "    </tr>\n",
       "    <tr>\n",
       "      <th>3</th>\n",
       "      <td>115929</td>\n",
       "      <td>@SouthwestAir is down on the my account page 😑😑</td>\n",
       "      <td>SouthwestAir</td>\n",
       "      <td>@115929 Hm, we haven't had any reported errors lately. Have you tried accessing your RR account via a different browser? ^MA</td>\n",
       "    </tr>\n",
       "    <tr>\n",
       "      <th>4</th>\n",
       "      <td>115932</td>\n",
       "      <td>Best part of my Halloween? Free drinks on all my @SouthwestAir flights for the holiday👻It’s spooktacular.</td>\n",
       "      <td>SouthwestAir</td>\n",
       "      <td>@115932 We love to give out free boos so much, we're basically ghosts! Happy HalloWN and bottoms up! ^SL</td>\n",
       "    </tr>\n",
       "  </tbody>\n",
       "</table>\n",
       "</div>"
      ],
      "text/plain": [
       "   author_id_x  \\\n",
       "0  115925        \n",
       "1  115926        \n",
       "2  115928        \n",
       "3  115929        \n",
       "4  115932        \n",
       "\n",
       "                                                                                                                                                          text_x  \\\n",
       "0  I really hadthe WORST experience ever from start to finish with @SouthwestAir  will never fly internationally again with them                                   \n",
       "1  Celebrated Halloween on a @southwestair flight with my pumpkin spice @15890 and a delicious (free) @115927 O… https://t.co/GGPGaaFVq2 https://t.co/gnCxPEsaEv   \n",
       "2  Thanks to the wonderful @SouthwestAir crews of flights 1732 &amp; 560 for getting us from Sacramento to KC safe and sound! #YouRock                             \n",
       "3  @SouthwestAir is down on the my account page 😑😑                                                                                                                 \n",
       "4  Best part of my Halloween? Free drinks on all my @SouthwestAir flights for the holiday👻It’s spooktacular.                                                       \n",
       "\n",
       "    author_id_y  \\\n",
       "0  SouthwestAir   \n",
       "1  SouthwestAir   \n",
       "2  SouthwestAir   \n",
       "3  SouthwestAir   \n",
       "4  SouthwestAir   \n",
       "\n",
       "                                                                                                                           text_y  \n",
       "0  @115925 We're truly sorry to hear that. Please PM us more info so we can followup with you. ^VP                                 \n",
       "1  @115926 Happy HalloWN! Bottoms up, Risa! ^SL                                                                                    \n",
       "2  @115928 We aim to please, Eric! Your love means the world to us, and we can't wait to share the skies with you again soon! ^MK  \n",
       "3  @115929 Hm, we haven't had any reported errors lately. Have you tried accessing your RR account via a different browser? ^MA    \n",
       "4  @115932 We love to give out free boos so much, we're basically ghosts! Happy HalloWN and bottoms up! ^SL                        "
      ]
     },
     "execution_count": 24,
     "metadata": {},
     "output_type": "execute_result"
    }
   ],
   "source": [
    "SouthwestAir_df.head()"
   ]
  },
  {
   "cell_type": "code",
   "execution_count": 25,
   "metadata": {
    "ExecuteTime": {
     "end_time": "2019-12-03T18:09:31.936541Z",
     "start_time": "2019-12-03T18:09:31.841790Z"
    }
   },
   "outputs": [
    {
     "name": "stdout",
     "output_type": "stream",
     "text": [
      "Shape:(20986, 4)\n",
      "0 NaNs rows were removed!\n",
      "0 duplicates were removed!\n",
      "Final Shape:(20986, 4)\n"
     ]
    }
   ],
   "source": [
    "cleaning_df(SouthwestAir_df)"
   ]
  },
  {
   "cell_type": "code",
   "execution_count": 26,
   "metadata": {
    "ExecuteTime": {
     "end_time": "2019-12-03T18:09:33.553759Z",
     "start_time": "2019-12-03T18:09:33.528827Z"
    },
    "scrolled": true
   },
   "outputs": [
    {
     "data": {
      "text/html": [
       "<div>\n",
       "<style scoped>\n",
       "    .dataframe tbody tr th:only-of-type {\n",
       "        vertical-align: middle;\n",
       "    }\n",
       "\n",
       "    .dataframe tbody tr th {\n",
       "        vertical-align: top;\n",
       "    }\n",
       "\n",
       "    .dataframe thead th {\n",
       "        text-align: right;\n",
       "    }\n",
       "</style>\n",
       "<table border=\"1\" class=\"dataframe\">\n",
       "  <thead>\n",
       "    <tr style=\"text-align: right;\">\n",
       "      <th></th>\n",
       "      <th>text_x</th>\n",
       "      <th>author_id_y</th>\n",
       "      <th>text_y</th>\n",
       "    </tr>\n",
       "  </thead>\n",
       "  <tbody>\n",
       "    <tr>\n",
       "      <th>0</th>\n",
       "      <td>I really hadthe WORST experience ever from start to finish with @SouthwestAir  will never fly internationally again with them</td>\n",
       "      <td>SouthwestAir</td>\n",
       "      <td>@115925 We're truly sorry to hear that. Please PM us more info so we can followup with you. ^VP</td>\n",
       "    </tr>\n",
       "    <tr>\n",
       "      <th>1</th>\n",
       "      <td>Celebrated Halloween on a @southwestair flight with my pumpkin spice @15890 and a delicious (free) @115927 O… https://t.co/GGPGaaFVq2 https://t.co/gnCxPEsaEv</td>\n",
       "      <td>SouthwestAir</td>\n",
       "      <td>@115926 Happy HalloWN! Bottoms up, Risa! ^SL</td>\n",
       "    </tr>\n",
       "    <tr>\n",
       "      <th>2</th>\n",
       "      <td>Thanks to the wonderful @SouthwestAir crews of flights 1732 &amp;amp; 560 for getting us from Sacramento to KC safe and sound! #YouRock</td>\n",
       "      <td>SouthwestAir</td>\n",
       "      <td>@115928 We aim to please, Eric! Your love means the world to us, and we can't wait to share the skies with you again soon! ^MK</td>\n",
       "    </tr>\n",
       "    <tr>\n",
       "      <th>3</th>\n",
       "      <td>@SouthwestAir is down on the my account page 😑😑</td>\n",
       "      <td>SouthwestAir</td>\n",
       "      <td>@115929 Hm, we haven't had any reported errors lately. Have you tried accessing your RR account via a different browser? ^MA</td>\n",
       "    </tr>\n",
       "    <tr>\n",
       "      <th>4</th>\n",
       "      <td>Best part of my Halloween? Free drinks on all my @SouthwestAir flights for the holiday👻It’s spooktacular.</td>\n",
       "      <td>SouthwestAir</td>\n",
       "      <td>@115932 We love to give out free boos so much, we're basically ghosts! Happy HalloWN and bottoms up! ^SL</td>\n",
       "    </tr>\n",
       "  </tbody>\n",
       "</table>\n",
       "</div>"
      ],
      "text/plain": [
       "                                                                                                                                                          text_x  \\\n",
       "0  I really hadthe WORST experience ever from start to finish with @SouthwestAir  will never fly internationally again with them                                   \n",
       "1  Celebrated Halloween on a @southwestair flight with my pumpkin spice @15890 and a delicious (free) @115927 O… https://t.co/GGPGaaFVq2 https://t.co/gnCxPEsaEv   \n",
       "2  Thanks to the wonderful @SouthwestAir crews of flights 1732 &amp; 560 for getting us from Sacramento to KC safe and sound! #YouRock                             \n",
       "3  @SouthwestAir is down on the my account page 😑😑                                                                                                                 \n",
       "4  Best part of my Halloween? Free drinks on all my @SouthwestAir flights for the holiday👻It’s spooktacular.                                                       \n",
       "\n",
       "    author_id_y  \\\n",
       "0  SouthwestAir   \n",
       "1  SouthwestAir   \n",
       "2  SouthwestAir   \n",
       "3  SouthwestAir   \n",
       "4  SouthwestAir   \n",
       "\n",
       "                                                                                                                           text_y  \n",
       "0  @115925 We're truly sorry to hear that. Please PM us more info so we can followup with you. ^VP                                 \n",
       "1  @115926 Happy HalloWN! Bottoms up, Risa! ^SL                                                                                    \n",
       "2  @115928 We aim to please, Eric! Your love means the world to us, and we can't wait to share the skies with you again soon! ^MK  \n",
       "3  @115929 Hm, we haven't had any reported errors lately. Have you tried accessing your RR account via a different browser? ^MA    \n",
       "4  @115932 We love to give out free boos so much, we're basically ghosts! Happy HalloWN and bottoms up! ^SL                        "
      ]
     },
     "execution_count": 26,
     "metadata": {},
     "output_type": "execute_result"
    }
   ],
   "source": [
    "#Dropped unwanted columns\n",
    "SouthwestAir_df.drop(columns = 'author_id_x', inplace = True)\n",
    "SouthwestAir_df.head()"
   ]
  },
  {
   "cell_type": "code",
   "execution_count": 27,
   "metadata": {
    "ExecuteTime": {
     "end_time": "2019-12-03T18:09:37.449359Z",
     "start_time": "2019-12-03T18:09:37.426420Z"
    }
   },
   "outputs": [],
   "source": [
    "#Convert 'text_x' & 'text_y' columns to string. \n",
    "SouthwestAir_df['text_x'] = SouthwestAir_df['text_x'].astype(str)\n",
    "SouthwestAir_df['text_y'] = SouthwestAir_df['text_y'].astype(str)"
   ]
  },
  {
   "cell_type": "code",
   "execution_count": 28,
   "metadata": {
    "ExecuteTime": {
     "end_time": "2019-12-03T18:09:39.182742Z",
     "start_time": "2019-12-03T18:09:39.109937Z"
    }
   },
   "outputs": [],
   "source": [
    "#Convert all string to lower case\n",
    "SouthwestAir_df['text_x'] = SouthwestAir_df['text_x'].str.lower()\n",
    "SouthwestAir_df['text_y'] = SouthwestAir_df['text_y'].str.lower()"
   ]
  },
  {
   "cell_type": "code",
   "execution_count": 29,
   "metadata": {
    "ExecuteTime": {
     "end_time": "2019-12-03T18:09:41.612579Z",
     "start_time": "2019-12-03T18:09:41.589645Z"
    }
   },
   "outputs": [],
   "source": [
    "#Concat. 5 dataframe into 1\n",
    "combine_df = pd.concat([AirAsiaSupport_df,AmericanAir_df,British_Airways_df,Delta_df,SouthwestAir_df],axis=0)"
   ]
  },
  {
   "cell_type": "code",
   "execution_count": 30,
   "metadata": {
    "ExecuteTime": {
     "end_time": "2019-12-03T18:09:45.021839Z",
     "start_time": "2019-12-03T18:09:44.372569Z"
    }
   },
   "outputs": [],
   "source": [
    "combine_df['text_x+y'] = combine_df['text_x'] + combine_df['text_y']"
   ]
  },
  {
   "cell_type": "code",
   "execution_count": 31,
   "metadata": {
    "ExecuteTime": {
     "end_time": "2019-12-03T18:09:49.331054Z",
     "start_time": "2019-12-03T18:09:49.318091Z"
    }
   },
   "outputs": [
    {
     "data": {
      "text/plain": [
       "(100646, 4)"
      ]
     },
     "execution_count": 31,
     "metadata": {},
     "output_type": "execute_result"
    }
   ],
   "source": [
    "combine_df.shape"
   ]
  },
  {
   "cell_type": "code",
   "execution_count": 32,
   "metadata": {
    "ExecuteTime": {
     "end_time": "2019-12-03T18:10:05.232934Z",
     "start_time": "2019-12-03T18:10:05.154146Z"
    }
   },
   "outputs": [],
   "source": [
    "#Rename columns\n",
    "combine_df.rename(columns={'author_id_y': 'label'},inplace = True)"
   ]
  },
  {
   "cell_type": "code",
   "execution_count": 33,
   "metadata": {
    "ExecuteTime": {
     "end_time": "2019-12-03T18:10:06.843410Z",
     "start_time": "2019-12-03T18:10:06.825462Z"
    },
    "scrolled": true
   },
   "outputs": [
    {
     "data": {
      "text/html": [
       "<div>\n",
       "<style scoped>\n",
       "    .dataframe tbody tr th:only-of-type {\n",
       "        vertical-align: middle;\n",
       "    }\n",
       "\n",
       "    .dataframe tbody tr th {\n",
       "        vertical-align: top;\n",
       "    }\n",
       "\n",
       "    .dataframe thead th {\n",
       "        text-align: right;\n",
       "    }\n",
       "</style>\n",
       "<table border=\"1\" class=\"dataframe\">\n",
       "  <thead>\n",
       "    <tr style=\"text-align: right;\">\n",
       "      <th></th>\n",
       "      <th>text_x</th>\n",
       "      <th>label</th>\n",
       "      <th>text_y</th>\n",
       "      <th>text_x+y</th>\n",
       "    </tr>\n",
       "  </thead>\n",
       "  <tbody>\n",
       "    <tr>\n",
       "      <th>0</th>\n",
       "      <td>@airasiasupport cas-19708536-cb92n2 crm:0326600 please check on this i haven't heard from my case officer in weeks and provided all docs.</td>\n",
       "      <td>AirAsiaSupport</td>\n",
       "      <td>@115799 we have replied to you via dm. check it out =) yana</td>\n",
       "      <td>@airasiasupport cas-19708536-cb92n2 crm:0326600 please check on this i haven't heard from my case officer in weeks and provided all docs.@115799 we have replied to you via dm. check it out =) yana</td>\n",
       "    </tr>\n",
       "    <tr>\n",
       "      <th>1</th>\n",
       "      <td>@115802 @airasiasupport why are you not refunding my trip to bali for volcano eruption!!! urgently refund!!</td>\n",
       "      <td>AirAsiaSupport</td>\n",
       "      <td>@115801 hi ashutosh , could you provide us the booking number for further checking. thanks - khairul</td>\n",
       "      <td>@115802 @airasiasupport why are you not refunding my trip to bali for volcano eruption!!! urgently refund!!@115801 hi ashutosh , could you provide us the booking number for further checking. thanks - khairul</td>\n",
       "    </tr>\n",
       "    <tr>\n",
       "      <th>2</th>\n",
       "      <td>@airasiasupport what happen to your system. i could not sent my refund info to e form</td>\n",
       "      <td>AirAsiaSupport</td>\n",
       "      <td>@116049 hi firdaus, we has respond you via dm,see you there! - anwar</td>\n",
       "      <td>@airasiasupport what happen to your system. i could not sent my refund info to e form@116049 hi firdaus, we has respond you via dm,see you there! - anwar</td>\n",
       "    </tr>\n",
       "    <tr>\n",
       "      <th>3</th>\n",
       "      <td>@airasiasupport saya nak tukar flight sbb reschedule. booking #yiu8nm</td>\n",
       "      <td>AirAsiaSupport</td>\n",
       "      <td>@116243 hi ijan :) yes sure, we has respond you via dm, see you there!-anwar</td>\n",
       "      <td>@airasiasupport saya nak tukar flight sbb reschedule. booking #yiu8nm@116243 hi ijan :) yes sure, we has respond you via dm, see you there!-anwar</td>\n",
       "    </tr>\n",
       "    <tr>\n",
       "      <th>4</th>\n",
       "      <td>@airasiasupport name correction my case number 494610</td>\n",
       "      <td>AirAsiaSupport</td>\n",
       "      <td>@116720 hi there, there is no payment transaction has been made on your booking number and it is expired. -jimy</td>\n",
       "      <td>@airasiasupport name correction my case number 494610@116720 hi there, there is no payment transaction has been made on your booking number and it is expired. -jimy</td>\n",
       "    </tr>\n",
       "  </tbody>\n",
       "</table>\n",
       "</div>"
      ],
      "text/plain": [
       "                                                                                                                                      text_x  \\\n",
       "0  @airasiasupport cas-19708536-cb92n2 crm:0326600 please check on this i haven't heard from my case officer in weeks and provided all docs.   \n",
       "1  @115802 @airasiasupport why are you not refunding my trip to bali for volcano eruption!!! urgently refund!!                                 \n",
       "2  @airasiasupport what happen to your system. i could not sent my refund info to e form                                                       \n",
       "3  @airasiasupport saya nak tukar flight sbb reschedule. booking #yiu8nm                                                                       \n",
       "4  @airasiasupport name correction my case number 494610                                                                                       \n",
       "\n",
       "            label  \\\n",
       "0  AirAsiaSupport   \n",
       "1  AirAsiaSupport   \n",
       "2  AirAsiaSupport   \n",
       "3  AirAsiaSupport   \n",
       "4  AirAsiaSupport   \n",
       "\n",
       "                                                                                                            text_y  \\\n",
       "0  @115799 we have replied to you via dm. check it out =) yana                                                       \n",
       "1  @115801 hi ashutosh , could you provide us the booking number for further checking. thanks - khairul              \n",
       "2  @116049 hi firdaus, we has respond you via dm,see you there! - anwar                                              \n",
       "3  @116243 hi ijan :) yes sure, we has respond you via dm, see you there!-anwar                                      \n",
       "4  @116720 hi there, there is no payment transaction has been made on your booking number and it is expired. -jimy   \n",
       "\n",
       "                                                                                                                                                                                                          text_x+y  \n",
       "0  @airasiasupport cas-19708536-cb92n2 crm:0326600 please check on this i haven't heard from my case officer in weeks and provided all docs.@115799 we have replied to you via dm. check it out =) yana             \n",
       "1  @115802 @airasiasupport why are you not refunding my trip to bali for volcano eruption!!! urgently refund!!@115801 hi ashutosh , could you provide us the booking number for further checking. thanks - khairul  \n",
       "2  @airasiasupport what happen to your system. i could not sent my refund info to e form@116049 hi firdaus, we has respond you via dm,see you there! - anwar                                                        \n",
       "3  @airasiasupport saya nak tukar flight sbb reschedule. booking #yiu8nm@116243 hi ijan :) yes sure, we has respond you via dm, see you there!-anwar                                                                \n",
       "4  @airasiasupport name correction my case number 494610@116720 hi there, there is no payment transaction has been made on your booking number and it is expired. -jimy                                             "
      ]
     },
     "execution_count": 33,
     "metadata": {},
     "output_type": "execute_result"
    }
   ],
   "source": [
    "combine_df.head(5)"
   ]
  },
  {
   "cell_type": "code",
   "execution_count": 34,
   "metadata": {
    "ExecuteTime": {
     "end_time": "2019-12-03T18:10:21.960979Z",
     "start_time": "2019-12-03T18:10:21.915132Z"
    }
   },
   "outputs": [],
   "source": [
    "#Map 0-4 accordingly\n",
    "combine_df['label'] = combine_df['label'].map({'AirAsiaSupport':0,'AmericanAir':1,'British_Airways':2,'Delta':3,'SouthwestAir':4})"
   ]
  },
  {
   "cell_type": "code",
   "execution_count": 35,
   "metadata": {
    "ExecuteTime": {
     "end_time": "2019-12-03T18:10:23.752084Z",
     "start_time": "2019-12-03T18:10:23.683265Z"
    }
   },
   "outputs": [],
   "source": [
    "from sklearn.utils import shuffle\n",
    "combine_df = shuffle(combine_df)"
   ]
  },
  {
   "cell_type": "code",
   "execution_count": 36,
   "metadata": {
    "ExecuteTime": {
     "end_time": "2019-12-03T18:10:34.506560Z",
     "start_time": "2019-12-03T18:10:34.476634Z"
    }
   },
   "outputs": [],
   "source": [
    "combine_df = combine_df.reset_index(drop=True)"
   ]
  },
  {
   "cell_type": "code",
   "execution_count": null,
   "metadata": {
    "ExecuteTime": {
     "end_time": "2019-12-02T23:13:34.623313Z",
     "start_time": "2019-12-02T23:13:34.611377Z"
    }
   },
   "outputs": [],
   "source": [
    "combine_df.head(20)"
   ]
  },
  {
   "cell_type": "code",
   "execution_count": null,
   "metadata": {
    "ExecuteTime": {
     "end_time": "2019-12-01T11:02:10.945465Z",
     "start_time": "2019-12-01T11:02:10.934783Z"
    }
   },
   "outputs": [],
   "source": [
    "combine_df.iloc[[41335,]]"
   ]
  },
  {
   "cell_type": "code",
   "execution_count": null,
   "metadata": {},
   "outputs": [],
   "source": [
    "combine_df.iloc[[87703,]]"
   ]
  },
  {
   "cell_type": "code",
   "execution_count": null,
   "metadata": {},
   "outputs": [],
   "source": [
    "combine_df.iloc[[84203,]]"
   ]
  },
  {
   "cell_type": "code",
   "execution_count": null,
   "metadata": {},
   "outputs": [],
   "source": [
    "combine_df.iloc[[13935,]]"
   ]
  },
  {
   "cell_type": "code",
   "execution_count": 37,
   "metadata": {
    "ExecuteTime": {
     "end_time": "2019-12-03T18:10:50.414738Z",
     "start_time": "2019-12-03T18:10:47.045491Z"
    }
   },
   "outputs": [],
   "source": [
    "#Saving combine_df.csv\n",
    "combine_df.to_csv(\"../dataset/combine_airlines.csv\")"
   ]
  },
  {
   "cell_type": "markdown",
   "metadata": {},
   "source": [
    "## 2 Model preparation"
   ]
  },
  {
   "cell_type": "markdown",
   "metadata": {},
   "source": [
    "### 2.1 Train/Test Split"
   ]
  },
  {
   "cell_type": "markdown",
   "metadata": {},
   "source": [
    "Splitting the data into train and test set before doing the processing"
   ]
  },
  {
   "cell_type": "code",
   "execution_count": 38,
   "metadata": {
    "ExecuteTime": {
     "end_time": "2019-12-03T18:11:02.122792Z",
     "start_time": "2019-12-03T18:11:01.785253Z"
    }
   },
   "outputs": [],
   "source": [
    "# Import train_test_split.\n",
    "from sklearn.model_selection import train_test_split\n",
    "\n",
    "# Create train_test_split.\n",
    "X_train, X_test, y_train, y_test = train_test_split(combine_df[['text_x+y']],\n",
    "                                                    combine_df['label'],\n",
    "                                                    test_size = 0.25,\n",
    "                                                    random_state = 42,\n",
    "                                                    shuffle = True, \n",
    "                                                    stratify=combine_df['label'])"
   ]
  },
  {
   "cell_type": "code",
   "execution_count": 39,
   "metadata": {
    "ExecuteTime": {
     "end_time": "2019-12-03T18:11:05.958406Z",
     "start_time": "2019-12-03T18:11:05.942448Z"
    }
   },
   "outputs": [
    {
     "data": {
      "text/html": [
       "<div>\n",
       "<style scoped>\n",
       "    .dataframe tbody tr th:only-of-type {\n",
       "        vertical-align: middle;\n",
       "    }\n",
       "\n",
       "    .dataframe tbody tr th {\n",
       "        vertical-align: top;\n",
       "    }\n",
       "\n",
       "    .dataframe thead th {\n",
       "        text-align: right;\n",
       "    }\n",
       "</style>\n",
       "<table border=\"1\" class=\"dataframe\">\n",
       "  <thead>\n",
       "    <tr style=\"text-align: right;\">\n",
       "      <th></th>\n",
       "      <th>text_x+y</th>\n",
       "    </tr>\n",
       "  </thead>\n",
       "  <tbody>\n",
       "    <tr>\n",
       "      <th>10447</th>\n",
       "      <td>@southwestair at lax the friendliest most customer service savvy peeps i have seen at airport ticketing #wishtheycouldtrainonboardpersonnel@178260 thanks for the shoutout! we appreciate your feedback and hope you enjoy the flight! ^jb</td>\n",
       "    </tr>\n",
       "    <tr>\n",
       "      <th>19647</th>\n",
       "      <td>@delta i love you https://t.co/mlsxcsnwjm@301907 aww, we're feeling the love! thanks for the shout-out, traci.😊 *ajc</td>\n",
       "    </tr>\n",
       "    <tr>\n",
       "      <th>70180</th>\n",
       "      <td>@americanair i just got a confirmation to upgrade 🤷🏻‍♂️ but i didn't request. can someone confirm :o?@434655 we've sent you a dm with more info.</td>\n",
       "    </tr>\n",
       "    <tr>\n",
       "      <th>66075</th>\n",
       "      <td>arrive early at 1248 still on runway waiting for gate at 114 even though i see empty gates. gotta love the @southwestair special treatment.@359969 sorry for the wait today, dave. we'll get you to a gate asap. ^vm</td>\n",
       "    </tr>\n",
       "    <tr>\n",
       "      <th>35444</th>\n",
       "      <td>it's getting hot in here 😩 no ac yet on plane! @southwestair, can you help a sister out with a drink ticket? https://t.co/gvj0caqqcx@397861 apologies for any discomfort onboard, rocio. please reach out to one of our flight attendants for assistance! ^mk</td>\n",
       "    </tr>\n",
       "  </tbody>\n",
       "</table>\n",
       "</div>"
      ],
      "text/plain": [
       "                                                                                                                                                                                                                                                            text_x+y\n",
       "10447  @southwestair at lax the friendliest most customer service savvy peeps i have seen at airport ticketing #wishtheycouldtrainonboardpersonnel@178260 thanks for the shoutout! we appreciate your feedback and hope you enjoy the flight! ^jb                   \n",
       "19647  @delta i love you https://t.co/mlsxcsnwjm@301907 aww, we're feeling the love! thanks for the shout-out, traci.😊 *ajc                                                                                                                                         \n",
       "70180  @americanair i just got a confirmation to upgrade 🤷🏻‍♂️ but i didn't request. can someone confirm :o?@434655 we've sent you a dm with more info.                                                                                                             \n",
       "66075  arrive early at 1248 still on runway waiting for gate at 114 even though i see empty gates. gotta love the @southwestair special treatment.@359969 sorry for the wait today, dave. we'll get you to a gate asap. ^vm                                         \n",
       "35444  it's getting hot in here 😩 no ac yet on plane! @southwestair, can you help a sister out with a drink ticket? https://t.co/gvj0caqqcx@397861 apologies for any discomfort onboard, rocio. please reach out to one of our flight attendants for assistance! ^mk"
      ]
     },
     "execution_count": 39,
     "metadata": {},
     "output_type": "execute_result"
    }
   ],
   "source": [
    "X_test.head()"
   ]
  },
  {
   "cell_type": "code",
   "execution_count": 40,
   "metadata": {
    "ExecuteTime": {
     "end_time": "2019-12-03T18:11:23.294087Z",
     "start_time": "2019-12-03T18:11:23.279127Z"
    }
   },
   "outputs": [
    {
     "data": {
      "text/html": [
       "<div>\n",
       "<style scoped>\n",
       "    .dataframe tbody tr th:only-of-type {\n",
       "        vertical-align: middle;\n",
       "    }\n",
       "\n",
       "    .dataframe tbody tr th {\n",
       "        vertical-align: top;\n",
       "    }\n",
       "\n",
       "    .dataframe thead th {\n",
       "        text-align: right;\n",
       "    }\n",
       "</style>\n",
       "<table border=\"1\" class=\"dataframe\">\n",
       "  <thead>\n",
       "    <tr style=\"text-align: right;\">\n",
       "      <th></th>\n",
       "      <th>text_x+y</th>\n",
       "    </tr>\n",
       "  </thead>\n",
       "  <tbody>\n",
       "    <tr>\n",
       "      <th>37152</th>\n",
       "      <td>very upset w @delta. mech issues from sea&amp;gt;dtw = 1hr delay. was told we missed connect&amp;gt;bwi, we arrived 30 mins before they left.  had to stay in detroit and instead of staying w many others at the nice @162772 attached to dtw, myself and other 💎were sent to cheap airport wyndham@697991 i am sorry to hear about the tough time you've had. please give me a minute as i review your trip details.  *hpl</td>\n",
       "    </tr>\n",
       "    <tr>\n",
       "      <th>90067</th>\n",
       "      <td>i hate @southwestair sooo much. never again.@491495 very sorry to hear that. feel free to send a dm if you would like to discuss anything further. ^sl https://t.co/mqmfkxw4ov</td>\n",
       "    </tr>\n",
       "    <tr>\n",
       "      <th>45061</th>\n",
       "      <td>no credit note/refund from @british_airways on cancelled flight; &amp;amp; rude advisor said \"do a no show\"-- meaning empty seat &amp;amp; waste of carbon@129656 contact number. please send this via dm. many thanks. ^lisa 2/2</td>\n",
       "    </tr>\n",
       "    <tr>\n",
       "      <th>97385</th>\n",
       "      <td>@americanair \\nlate afternoon at the dfw admirals club - terminal d. \\nwhat an spectacular view 😀 https://t.co/23ptgxuphz@121781 that's an amazing, #aamericanview, we're glad you could catch the gorgeous texas sunset from the club!</td>\n",
       "    </tr>\n",
       "    <tr>\n",
       "      <th>73650</th>\n",
       "      <td>thank you @delta 🙋🏽you know it! https://t.co/le6jnzhj2c@647971 love the pink passport. *als</td>\n",
       "    </tr>\n",
       "  </tbody>\n",
       "</table>\n",
       "</div>"
      ],
      "text/plain": [
       "                                                                                                                                                                                                                                                                                                                                                                                                                   text_x+y\n",
       "37152  very upset w @delta. mech issues from sea&gt;dtw = 1hr delay. was told we missed connect&gt;bwi, we arrived 30 mins before they left.  had to stay in detroit and instead of staying w many others at the nice @162772 attached to dtw, myself and other 💎were sent to cheap airport wyndham@697991 i am sorry to hear about the tough time you've had. please give me a minute as i review your trip details.  *hpl\n",
       "90067  i hate @southwestair sooo much. never again.@491495 very sorry to hear that. feel free to send a dm if you would like to discuss anything further. ^sl https://t.co/mqmfkxw4ov                                                                                                                                                                                                                                      \n",
       "45061  no credit note/refund from @british_airways on cancelled flight; &amp; rude advisor said \"do a no show\"-- meaning empty seat &amp; waste of carbon@129656 contact number. please send this via dm. many thanks. ^lisa 2/2                                                                                                                                                                                           \n",
       "97385  @americanair \\nlate afternoon at the dfw admirals club - terminal d. \\nwhat an spectacular view 😀 https://t.co/23ptgxuphz@121781 that's an amazing, #aamericanview, we're glad you could catch the gorgeous texas sunset from the club!                                                                                                                                                                             \n",
       "73650  thank you @delta 🙋🏽you know it! https://t.co/le6jnzhj2c@647971 love the pink passport. *als                                                                                                                                                                                                                                                                                                                         "
      ]
     },
     "execution_count": 40,
     "metadata": {},
     "output_type": "execute_result"
    }
   ],
   "source": [
    "X_train.head()"
   ]
  },
  {
   "cell_type": "code",
   "execution_count": 41,
   "metadata": {
    "ExecuteTime": {
     "end_time": "2019-12-03T18:11:28.997002Z",
     "start_time": "2019-12-03T18:11:28.987057Z"
    }
   },
   "outputs": [
    {
     "data": {
      "text/plain": [
       "10447    4\n",
       "19647    3\n",
       "70180    1\n",
       "66075    4\n",
       "35444    4\n",
       "Name: label, dtype: int64"
      ]
     },
     "execution_count": 41,
     "metadata": {},
     "output_type": "execute_result"
    }
   ],
   "source": [
    "y_test.head()"
   ]
  },
  {
   "cell_type": "code",
   "execution_count": 42,
   "metadata": {
    "ExecuteTime": {
     "end_time": "2019-12-03T18:11:33.102923Z",
     "start_time": "2019-12-03T18:11:33.092979Z"
    }
   },
   "outputs": [
    {
     "data": {
      "text/plain": [
       "37152    3\n",
       "90067    4\n",
       "45061    2\n",
       "97385    1\n",
       "73650    3\n",
       "Name: label, dtype: int64"
      ]
     },
     "execution_count": 42,
     "metadata": {},
     "output_type": "execute_result"
    }
   ],
   "source": [
    "y_train.head()"
   ]
  },
  {
   "cell_type": "markdown",
   "metadata": {},
   "source": [
    "### 2.2 Pre-Processing"
   ]
  },
  {
   "cell_type": "code",
   "execution_count": 43,
   "metadata": {
    "ExecuteTime": {
     "end_time": "2019-12-03T18:12:06.399863Z",
     "start_time": "2019-12-03T18:11:59.628818Z"
    }
   },
   "outputs": [],
   "source": [
    "#Import Tokenizer\n",
    "from nltk.tokenize import RegexpTokenizer\n",
    "#Removing HTML code artifacts\n",
    "from bs4 import BeautifulSoup  \n",
    "# Import stopwords list\n",
    "from nltk.corpus import stopwords\n",
    "#Import Lemmatizer\n",
    "from nltk.stem import WordNetLemmatizer\n",
    "#Import Regular Expression\n",
    "import regex as re"
   ]
  },
  {
   "cell_type": "markdown",
   "metadata": {},
   "source": [
    "Include the 5 airlines names into the stopwords."
   ]
  },
  {
   "cell_type": "code",
   "execution_count": 44,
   "metadata": {
    "ExecuteTime": {
     "end_time": "2019-12-03T18:12:11.246036Z",
     "start_time": "2019-12-03T18:12:11.101421Z"
    }
   },
   "outputs": [],
   "source": [
    "stopwords = stopwords.words('english')\n",
    "newStopWords = ['southwestair','delta','airasiasupport','americanair','british','airways']\n",
    "stopwords.extend(newStopWords)"
   ]
  },
  {
   "cell_type": "code",
   "execution_count": 45,
   "metadata": {
    "ExecuteTime": {
     "end_time": "2019-12-03T18:12:17.414547Z",
     "start_time": "2019-12-03T18:12:17.398593Z"
    }
   },
   "outputs": [
    {
     "data": {
      "text/plain": [
       "{'a',\n",
       " 'about',\n",
       " 'above',\n",
       " 'after',\n",
       " 'again',\n",
       " 'against',\n",
       " 'ain',\n",
       " 'airasiasupport',\n",
       " 'airways',\n",
       " 'all',\n",
       " 'am',\n",
       " 'americanair',\n",
       " 'an',\n",
       " 'and',\n",
       " 'any',\n",
       " 'are',\n",
       " 'aren',\n",
       " \"aren't\",\n",
       " 'as',\n",
       " 'at',\n",
       " 'be',\n",
       " 'because',\n",
       " 'been',\n",
       " 'before',\n",
       " 'being',\n",
       " 'below',\n",
       " 'between',\n",
       " 'both',\n",
       " 'british',\n",
       " 'but',\n",
       " 'by',\n",
       " 'can',\n",
       " 'couldn',\n",
       " \"couldn't\",\n",
       " 'd',\n",
       " 'delta',\n",
       " 'did',\n",
       " 'didn',\n",
       " \"didn't\",\n",
       " 'do',\n",
       " 'does',\n",
       " 'doesn',\n",
       " \"doesn't\",\n",
       " 'doing',\n",
       " 'don',\n",
       " \"don't\",\n",
       " 'down',\n",
       " 'during',\n",
       " 'each',\n",
       " 'few',\n",
       " 'for',\n",
       " 'from',\n",
       " 'further',\n",
       " 'had',\n",
       " 'hadn',\n",
       " \"hadn't\",\n",
       " 'has',\n",
       " 'hasn',\n",
       " \"hasn't\",\n",
       " 'have',\n",
       " 'haven',\n",
       " \"haven't\",\n",
       " 'having',\n",
       " 'he',\n",
       " 'her',\n",
       " 'here',\n",
       " 'hers',\n",
       " 'herself',\n",
       " 'him',\n",
       " 'himself',\n",
       " 'his',\n",
       " 'how',\n",
       " 'i',\n",
       " 'if',\n",
       " 'in',\n",
       " 'into',\n",
       " 'is',\n",
       " 'isn',\n",
       " \"isn't\",\n",
       " 'it',\n",
       " \"it's\",\n",
       " 'its',\n",
       " 'itself',\n",
       " 'just',\n",
       " 'll',\n",
       " 'm',\n",
       " 'ma',\n",
       " 'me',\n",
       " 'mightn',\n",
       " \"mightn't\",\n",
       " 'more',\n",
       " 'most',\n",
       " 'mustn',\n",
       " \"mustn't\",\n",
       " 'my',\n",
       " 'myself',\n",
       " 'needn',\n",
       " \"needn't\",\n",
       " 'no',\n",
       " 'nor',\n",
       " 'not',\n",
       " 'now',\n",
       " 'o',\n",
       " 'of',\n",
       " 'off',\n",
       " 'on',\n",
       " 'once',\n",
       " 'only',\n",
       " 'or',\n",
       " 'other',\n",
       " 'our',\n",
       " 'ours',\n",
       " 'ourselves',\n",
       " 'out',\n",
       " 'over',\n",
       " 'own',\n",
       " 're',\n",
       " 's',\n",
       " 'same',\n",
       " 'shan',\n",
       " \"shan't\",\n",
       " 'she',\n",
       " \"she's\",\n",
       " 'should',\n",
       " \"should've\",\n",
       " 'shouldn',\n",
       " \"shouldn't\",\n",
       " 'so',\n",
       " 'some',\n",
       " 'southwestair',\n",
       " 'such',\n",
       " 't',\n",
       " 'than',\n",
       " 'that',\n",
       " \"that'll\",\n",
       " 'the',\n",
       " 'their',\n",
       " 'theirs',\n",
       " 'them',\n",
       " 'themselves',\n",
       " 'then',\n",
       " 'there',\n",
       " 'these',\n",
       " 'they',\n",
       " 'this',\n",
       " 'those',\n",
       " 'through',\n",
       " 'to',\n",
       " 'too',\n",
       " 'under',\n",
       " 'until',\n",
       " 'up',\n",
       " 've',\n",
       " 'very',\n",
       " 'was',\n",
       " 'wasn',\n",
       " \"wasn't\",\n",
       " 'we',\n",
       " 'were',\n",
       " 'weren',\n",
       " \"weren't\",\n",
       " 'what',\n",
       " 'when',\n",
       " 'where',\n",
       " 'which',\n",
       " 'while',\n",
       " 'who',\n",
       " 'whom',\n",
       " 'why',\n",
       " 'will',\n",
       " 'with',\n",
       " 'won',\n",
       " \"won't\",\n",
       " 'wouldn',\n",
       " \"wouldn't\",\n",
       " 'y',\n",
       " 'you',\n",
       " \"you'd\",\n",
       " \"you'll\",\n",
       " \"you're\",\n",
       " \"you've\",\n",
       " 'your',\n",
       " 'yours',\n",
       " 'yourself',\n",
       " 'yourselves'}"
      ]
     },
     "execution_count": 45,
     "metadata": {},
     "output_type": "execute_result"
    }
   ],
   "source": [
    "#Checking to see stopwords being added.\n",
    "stops = set(stopwords)\n",
    "stops"
   ]
  },
  {
   "cell_type": "code",
   "execution_count": 107,
   "metadata": {
    "ExecuteTime": {
     "end_time": "2019-12-04T01:45:41.551515Z",
     "start_time": "2019-12-04T01:45:41.515646Z"
    }
   },
   "outputs": [],
   "source": [
    "def selftext_to_words(raw_selftext):\n",
    "    # Function to convert raw selftext to a string of words\n",
    "    # Input is a single string (a raw selftext), and \n",
    "    # output is a single string (a preprocessed selftext)\n",
    "    \n",
    "    # 1. Remove HTML.\n",
    "    combine_selftext_BS = BeautifulSoup(raw_selftext)\n",
    "    combine_selftext = combine_selftext_BS.get_text()\n",
    "    \n",
    "    # 2. Remove non-letters.\n",
    "    letters_only = re.sub(\"[^a-zA-Z]\", \" \", combine_selftext)\n",
    "    \n",
    "    # 3.Tokenizing\n",
    "    tokenizer = RegexpTokenizer('[a-zA-z]\\w+')\n",
    "    combine_tokens = tokenizer.tokenize(letters_only)\n",
    "        \n",
    "    # 4. Remove stop words.\n",
    "    remove_stop_words = [w for w in combine_tokens if not w in stops]\n",
    "    \n",
    "    # 5. Lemmatizing\n",
    "    lemmatizer = WordNetLemmatizer()\n",
    "    meaningful_words = [lemmatizer.lemmatize(i) for i in remove_stop_words]\n",
    "    \n",
    "    # 6. Join the words back into one string separated by space, \n",
    "    # and return the result.\n",
    "    return(\" \".join(meaningful_words))"
   ]
  },
  {
   "cell_type": "code",
   "execution_count": 47,
   "metadata": {
    "ExecuteTime": {
     "end_time": "2019-12-03T18:12:41.429622Z",
     "start_time": "2019-12-03T18:12:41.420677Z"
    }
   },
   "outputs": [
    {
     "name": "stdout",
     "output_type": "stream",
     "text": [
      "There are 100646 text.\n"
     ]
    }
   ],
   "source": [
    "# Get the number of reviews based on the dataframe size.\n",
    "total_selftext = combine_df.shape[0]\n",
    "print(f'There are {total_selftext} text.')\n",
    "\n",
    "# Initialize an empty list to hold the clean text.\n",
    "clean_train = []\n",
    "clean_test = []"
   ]
  },
  {
   "cell_type": "code",
   "execution_count": 48,
   "metadata": {
    "ExecuteTime": {
     "end_time": "2019-12-03T18:14:18.799395Z",
     "start_time": "2019-12-03T18:12:51.143954Z"
    }
   },
   "outputs": [
    {
     "name": "stdout",
     "output_type": "stream",
     "text": [
      "Cleaning and parsing the training set ...\n",
      "Review 10000 of 100646.\n",
      "Review 20000 of 100646.\n",
      "Review 30000 of 100646.\n",
      "Review 40000 of 100646.\n",
      "Review 50000 of 100646.\n",
      "Review 60000 of 100646.\n",
      "Review 70000 of 100646.\n",
      "Cleaning and parsing the testing set ...\n",
      "Review 80000 of 100646.\n",
      "Review 90000 of 100646.\n",
      "Review 100000 of 100646.\n",
      "Cleaning done ...\n"
     ]
    }
   ],
   "source": [
    "print(\"Cleaning and parsing the training set ...\")\n",
    "\n",
    "j = 0\n",
    "for train_selftext in X_train['text_x+y']:\n",
    "    # Convert review to words, then append to clean_train_reviews.\n",
    "    clean_train.append(selftext_to_words(train_selftext))\n",
    "    \n",
    "    # If the index is divisible by 1000, print a message\n",
    "    if (j + 1) % 10000 == 0:\n",
    "        print(f'Review {j + 1} of {total_selftext}.')\n",
    "    \n",
    "    j += 1\n",
    "\n",
    "print(\"Cleaning and parsing the testing set ...\")    \n",
    "for test_selftext in X_test['text_x+y']:\n",
    "    # Convert review to words, then append to clean_train_reviews.\n",
    "    clean_test.append(selftext_to_words(test_selftext))\n",
    "    \n",
    "    # If the index is divisible by 1000, print a message\n",
    "    if (j + 1) % 10000 == 0:\n",
    "        print(f'Review {j + 1} of {total_selftext}.')\n",
    "    \n",
    "    j += 1\n",
    "    \n",
    "print(\"Cleaning done ...\")"
   ]
  },
  {
   "cell_type": "markdown",
   "metadata": {},
   "source": [
    "## 3 Exploratory Data Analysis"
   ]
  },
  {
   "cell_type": "code",
   "execution_count": 49,
   "metadata": {
    "ExecuteTime": {
     "end_time": "2019-12-03T18:15:21.367681Z",
     "start_time": "2019-12-03T18:15:21.030774Z"
    }
   },
   "outputs": [],
   "source": [
    "from wordcloud import WordCloud\n",
    "#stopwords = set(STOPWORDS)\n",
    "\n",
    "def show_wordcloud(data, title = None):\n",
    "    wordcloud = WordCloud(\n",
    "        background_color='black',\n",
    "        stopwords=stops,\n",
    "        max_words=200,\n",
    "        max_font_size=40, \n",
    "        scale=3,\n",
    "        random_state=1 # chosen at random by flipping a coin; it was heads\n",
    "    ).generate(str(data))\n",
    "\n",
    "    fig = plt.figure(1, figsize=(12, 12))\n",
    "    plt.axis('off')\n",
    "    if title: \n",
    "        fig.suptitle(title,fontsize=20)\n",
    "        fig.subplots_adjust(top=2.3)\n",
    "\n",
    "    plt.imshow(wordcloud)\n",
    "    plt.show()"
   ]
  },
  {
   "cell_type": "code",
   "execution_count": 50,
   "metadata": {
    "ExecuteTime": {
     "end_time": "2019-12-03T18:15:50.798004Z",
     "start_time": "2019-12-03T18:15:30.621253Z"
    }
   },
   "outputs": [
    {
     "data": {
      "image/png": "[encoded data removed]",
      "text/plain": [
       "<Figure size 864x864 with 1 Axes>"
      ]
     },
     "metadata": {
      "needs_background": "light"
     },
     "output_type": "display_data"
    }
   ],
   "source": [
    "#Showing most frequent appear words in wordcloud.\n",
    "show_wordcloud(clean_train, title = \"Most frequently appeared words in Top 5 airline post\")"
   ]
  },
  {
   "cell_type": "markdown",
   "metadata": {},
   "source": [
    "As can be seen, words like \"confirmation\", \"please\", \"flight\" appear quite frequently which is not a surprise. Generally, questions like flight confirmation, complains are common topics in the airline industry."
   ]
  },
  {
   "cell_type": "code",
   "execution_count": 51,
   "metadata": {
    "ExecuteTime": {
     "end_time": "2019-12-03T18:16:08.759965Z",
     "start_time": "2019-12-03T18:16:08.723066Z"
    },
    "collapsed": true
   },
   "outputs": [
    {
     "data": {
      "text/plain": [
       "['upset mech issue sea dtw hr delay told missed connect bwi arrived min left stay detroit instead staying many others nice attached dtw sent cheap airport wyndham sorry hear tough time please give minute review trip detail hpl',\n",
       " 'hate sooo much never sorry hear feel free send dm would like discus anything sl http co mqmfkxw ov',\n",
       " 'credit note refund cancelled flight rude advisor said show meaning empty seat waste carbon contact number please send via dm many thanks lisa',\n",
       " 'late afternoon dfw admiral club terminal spectacular view http co ptgxuphz amazing aamericanview glad could catch gorgeous texas sunset club',\n",
       " 'thank know http co le jnzhj love pink passport al',\n",
       " 'looking phone number help ba cadet programme hi kev please website address http co wz bxyqnn information',\n",
       " 'tour home henderson aa flight issue landing gear back home http co vkuoznu appreciate patience get safely back way fast',\n",
       " 'thank upgrade go california casuperfam welcome claire amazing trip lisa',\n",
       " 'taken away airport specifically cak longer listed option app sorry sam longer travel akron longer sorry let',\n",
       " 'little confused app told time check early bird check work hey avery although earlybird check hour still need go retrieve boarding pas hour rr',\n",
       " 'hi checked online registering app download boarding pass help boarding pas airport need help colleague hand assist natalie',\n",
       " 'ticket uk bermuda mile much uk florida date around see day cheaper kimbers',\n",
       " 'welp http co mgox ob appreciate patience understanding hsd',\n",
       " 'packing getting ready flight tomorrow night thankfulforbagsflyingfree love patrick counting get welcome onboard lc http co mdqayaotzy',\n",
       " 'trying web check unable continue beyond second stage guest particular got message adult cannot younger year old pls check dob particular pax year old son go hi catherine child booking kindly refer counter checkin verify document regret unable webcheckin thanks mi',\n",
       " 'misplaced mr mr change yes sure kindly provide u booking number u assist anwar',\n",
       " 'unbelievable get moving soon thanks continued patience',\n",
       " 'missed earning rapid reward whisker damn http co tenfh tvbp hey keep charged ready adventure great happy ab',\n",
       " 'treated rudeness discourtesy gate staff term lhr manchester hour three flight malaysian wonderful spoken like dirt country utter disgrace sorry hear barrie passed management team look deal internally thanks bringing attention marie',\n",
       " 'refusing take ownership telling start claim process consider taking business elsewhere please contact corporate customer care link apology issue happened',\n",
       " 'another thing make better respond social medium customer issue sorry wait getting wheel please continue working airport team',\n",
       " 'booked flight glasgow tell seat allocated actual fuck absolutely useless bastard hi due travel purchased basic fare seat allocated hr travel linda',\n",
       " 'loved boarding experience gate today organized without people rushing priority line great hear yan really appreciate sharing experience u natalie',\n",
       " 'end rainbow pot gold http co jya hwzpuy beautiful shot thanks flying u today',\n",
       " 'thanks help yesterday plane trouble coming dublin double thanks bonus mile trouble finally home nola holiday girlstrip countriesinsteadof welcome apologize delay inconvenience caused tcc',\n",
       " 'bag take earlier flight bag broken way mia adding stress plea see baggage team member bag arrive destination reason',\n",
       " 'hi anything assist today jimy',\n",
       " 'morning manage booking facility website trying manage booking seem working rob sorry working fix gill',\n",
       " 'hi booked third party need change spelling name said unable get touch ba hi tami travel agent seek assistance http co sxxbmhlpx gareth',\n",
       " 'spending morning phone reminds fly nothing work even feedback line sorry hear frustrating experience scott hopefully thing looking soon na',\n",
       " 'like finding new way enhance customerexperience small thank mean lot biztravel http co yufvjn thank justin ultimate goal promote customer satisfaction al',\n",
       " 'booking multi city ticket website need join member first hi dina course need click multi city flight stopover link home screen',\n",
       " 'thanks part companion pas trial dia nick brding ops luv today hope successful day work glad onboard u sl',\n",
       " 'customer service representative worst called day row got treated like hit like kn help anyway possible please let u know help via dm',\n",
       " 'flydelta app amazing smooth travel http co weobz pg awesome tbw',\n",
       " 'big shout diamond jfk gate agent alana dudnath asif mahmud handling oversell well evening thank loyalty hdv',\n",
       " 'delaying flight denver due train issue thank making u aware situation ask',\n",
       " 'thought bringing back http co kz ycvh would game changer time providing snack onboard appreciate feedback sl',\n",
       " 'need better train staff communicate customer communicate info rude uninformed apology service missed mark glenn hope typical southwest experience future sl',\n",
       " 'flight lax delayed hour weekend find happened missed half game came see truly sorry hear missed game weekend dm confirmation number look',\n",
       " 'rule regarding traveling small drone tsa told carry baggage hi take drone hand luggage however battery must comply restriction website',\n",
       " 'swapping airbus queen sky today http co fz pmf tr hope amazing trip sam',\n",
       " 'hello booked paid ticket way change flight schedule thanks hi rio purba kindly provide u booking number via dm guide accordingly thanks emir',\n",
       " 'hi tried book flight page checkout page crushed three time two browser dont want book via since voucher would love add could please help maybe book call back http co ezhtminqrk hope get booked lindy',\n",
       " 'would nice take flight without trying spam entire flight signing bad financial decision john mean upset team provides customer option sign credit card',\n",
       " 'come check staff mia get real please http co siszaijrzc team work hard get checked quickly thanks patience',\n",
       " 'need help trying make reservation using mileage made one told fc mile website ap show differently help http co wuncudx hi pamela please reach online support team ast',\n",
       " 'office th december nyc come thanks joining u today great flight',\n",
       " 'earned wing best airline around happy thbdaygirls lovefieldtonyc http co srlhyraob fun great trip happy birthday lady sh',\n",
       " 'thank allowing rebook trip puerto rico new date new destination bet thanks lot working team look forward seeing board',\n",
       " 'flight msp ata highspeed wifi advertised wifi frustrated apologize travel experience sue strive provide excellent service feedback greatly appreciated tmb',\n",
       " 'anyone working phone wait time speak someone greater hour ask question flight please send flight confirmation dm please got handy thanks adb http co idgbjac',\n",
       " 'want bad experience fly provide great service customer please let u know help morning',\n",
       " 'getting strange error booking flight eventhough thats case value name lastname lengthstringattribute heeranand mirwaniheeranand mirwani must character length hi manish terribly sorry inconvenience try use different browser clear cache cooky',\n",
       " 'horrible customer experience told bag ok checkin charged double gate forced check happythanksgiving traveling basic economy please dm record locator may take closer look',\n",
       " 'really disappointed waking still forty min left http co jeacxtnr sorry hear happy placement cabin baggage movement baggage cabin discretion',\n",
       " 'one line priority clear share two line status guess winning problem atl terminal sec hello apology inconvenience must better look improvement ard',\n",
       " 'trying take earlier flight really charge change fee offer day change within hour departure see detail http co ztcjnpbwkj',\n",
       " 'going plan weekend trip alone soon need time need get la bit treat andrea time plane ride away dm u swagift sc',\n",
       " 'shout getting u early chicago norfolk great captain made holiday awesome attitude thanks shout best captain business pleasure fly u today aateam',\n",
       " 'lax terminal nightmare get pay first class walk mile baggage claim understand lax experiencing quite face lift day thing bit different thanks patience',\n",
       " 'another night trying waiting call centre hung minute great customer service email contact number many thanks lisa',\n",
       " 'hey flying la via london booking ref niqj sure baggage included please confirm thanks address convenient time u call back linda',\n",
       " 'porque lo bueno hay que reconocerlo hoy toc un avi diferente mucho modo de que hace un me thrilled sharing sky today',\n",
       " 'many employee end hi kayla sorry information regarding amount employee end ajl',\n",
       " 'know suck another country thanksgiving bag mishandled deliver expected yesterday told wait phone call figure knew reason stopped flying hi lisa definitely way please advise like request update ast',\n",
       " 'shame poor planning hr delay pilot fly plane utterly unacceptable shame sorry delay melina want get air soon possible',\n",
       " 'rapidrewards celebrating birthday fun party experience check http co wgexcbiimv happy birthday randy hope best birthday yet see onboard kr',\n",
       " 'pay much fly delayed every flight oh apologize experience assistance needed thank tweeting u atj',\n",
       " 'big thanks la juan gate dca great customer service explaining everything detail hey thanks shout glad know exceeding expectation ajy',\n",
       " 'got swa smf air airplane horrible smell exhaust mayb bad headache sorry missed chance better serve onboard today hope welcome back typical experience soon ct',\n",
       " 'thankyou vegan option today skyclub enjoy skydeck full stomach keepclimbing hi tony thanks contacting u glad know enjoying meal option flight today hml',\n",
       " 'also love none priority bag come first lax even offer benefit might well show last know time valuable expect priority bag first flight apology happen today',\n",
       " 'thank warm note seat friendly crew keep coming back pleasure aly',\n",
       " 'flight attendant took arm killing great start trip aisle seat suck oh regret accidental contact made trip le comfortable please let flight attendant know assist thanks flying u hope rest thanksgiving perfect',\n",
       " 'paid seat found connecting flight cancelled itinerary change get refund hi ashley could please dm u booking reference email address thanks ac',\n",
       " 'hello airasia already booking flight korea ive put wrong email address help hi nabilah booking number could advise u passenger name flight detail well thanks',\n",
       " 'hi booking flight someone else online itinerary change payment name mine third party payment accepted already made booking question please let u know oliver',\n",
       " 'grandparent traveling internationally year tomorrow total travel hour flight boston tomorrow guy make sure incredible experience truly hope grandparent enjoy travel experience u acj',\n",
       " 'flight delayed willie cancelled altogether happened line hour waiting info remedy nightmare sorry delay experiencing today city pair see update provide jb',\n",
       " 'hi possible check gift received measure inch inch inch weight kg website via link lind http co ug wcz bn',\n",
       " 'every flight last month delayed incoming flight late late getting msp way minute team try make time air thanks patience',\n",
       " 'greatflight silvermedillion thisgirlflies withthatbeingsaid flight http co xxfqrha oc hi donna nice pic tma',\n",
       " 'looking return flight confirmation code get email flight leave saturday pm hey charles happy take look dm email address get conf sent back ng',\n",
       " 'little thing life like get unexpected comfort seat flight allofthelegroom wonderful week tbt',\n",
       " 'hello waiting sfo aa inbound flight eta pm estimated departure time aa pm originally scheduled pm guy need hr turnaround time see delay turnaround time based many factor crew availability flight',\n",
       " 'huge thanks gatwick staff sorting online check mess left son new daughter law row apart honeymoon flight together air way st lucia pleased hear staff airport able resolve problem son new daughter law hope great flight gill',\n",
       " 'speaking customer service representative call dropped call back basic please help provided info dm could take look',\n",
       " 'may lost item flight malta contact please airport lost property office need contact lind',\n",
       " 'help figure able power laptop seat flight tomorrow finding website hard read hi happy help pls dm confirm take look tjw http co idgbjac',\n",
       " 'spoke laura customer service need effective communication training apology service missed mark lennice hope opportunity make onboard future sl',\n",
       " 'airline reserve seat latest ad campaign featuring seat number nothing want share great store customer relation seat pick onboard hope share many adventure brent ab',\n",
       " 'please contact hold min need asap flight help hello help confirmation please dm tmt http co idgbjac',\n",
       " 'pjs hoping big sleep tonight soon wheel go zzzzz thanks message james hope get rest enjoy time doha danih',\n",
       " 'thanks nothing cancelled flight sitting airport hour trying get home support support melissa flight info able check option dm record locator please',\n",
       " 'best customer service thank always preferred airline aw shuck love daniel looking forward sharing southwest hospitality many year come ec http co ndakzgq',\n",
       " 'trying check app working say still waiting authorisation u gov check airport planned staff assist check lisa',\n",
       " 'fuck outlet fucking hour flight fucking ridiculous process modernizing entire fleet appreciate patience time',\n",
       " 'worst airline ever americanairlines http co uqqzgppeq recommend one gate minute prior depending destination aircraft please work agent directly',\n",
       " 'fa flight bos jfk stellar two lovely lady nothing friendly pleasant treated everyone fc nice flight aateam fantastic please dm record locator like forward',\n",
       " 'quite surprised one service round flight lhr dxb hardly call crisp chocolate breakfast hi jelle flight hour minute one main meal snack world traveller cec',\n",
       " 'get airport two hour early flight delayed two hour maintenance go get food time miss flight get next flight flight delayed another two hour maintenance plz maintain plane better apology cyril delay never intentional strive get customer destination planned sometimes circumstance beyond control delay process abn',\n",
       " 'come crew connecting flight make nocrew waiting orlandoint team cloud asap thanks patience check connecting flight dm record locator',\n",
       " 'need help messed booking flight telephone line say hour wait hi jason please use link provide detail abn http co idgbjac',\n",
       " 'bastard http co ktif oqwd sorry missed chance better service share comment leadership team ec',\n",
       " 'hi rated flight told bit annoyed delay london serve http co pzxopljgag send u dm booking reference full address phone number danih',\n",
       " 'need booking reference number email sent payment taken hold min hi salvatore please dm u flight detail telephone number email postal address see booking jools',\n",
       " 'got luggage back even gave text update high five danielle patience understanding appreciated lb',\n",
       " 'great sunset kansa city mo thanks getting u show time http co op yt ijgt wow view thanks sharing u neely mind dming u rapid reward number little surprise rr',\n",
       " 'hi trying link multiple booking skymiles account find trip never save help thanks hi nathan please dm confirmation number amr',\n",
       " 'apparently gate agent http co wr nprrn see slight comparison pete glad u friday afternoon',\n",
       " 'allow sit standby earlier flight without paying fee seem silly pretty simple request smh many fare offer free standby option day standby give flexibility http co ztcjnpklsl',\n",
       " 'hi may know whats latest flight status qz bound kuala lumpur denpasar tomorrow really sorry delayed response faisal kindly dm u booking number check miza',\n",
       " 'find bag guy lost sioix fall phoenix flight az week clothes currently http co cdrqhk please file claim airport team get right follow progress http co lts cwtln',\n",
       " 'mostly pleasure fly please consider getting rid credit card hawk atl reflects poorly brand pas along airport leadership team hml',\n",
       " 'sorry read switch still yet located need contact track point week http co plwlc pe sorry hear team best assist certainly reach able assist',\n",
       " 'dear phenomenal crew flight awesome thanks glen lisa taylor thanks shout sean glad enjoying southwest hospitality mk',\n",
       " 'booked flight expedia name http co mdssg iyau wrong document expedia right name passport booking reference telephone number date birth check booking contact back oliver',\n",
       " 'delayed flight jfk miss flight jfk frankfurt someone help hi elizabeth sorry delay please dm confirmation number happy help tsb http co idgbjac',\n",
       " 'travel agent booked flight told reconfirm flight http co ty ceo dq please use following link http co gtos pr jo',\n",
       " 'great sunset view approaching aboard nashville http co mm ghnc view window seat beat dave thanks flying u sharing moment mr',\n",
       " 'hi saya booking via traveloka saat checking di apps airasia tdk tertera bagasi apa tetap dapat tdk ada pilihan makanan jg hi kerana flight ticket anda bukan membeli melalui website airasia tapi add baggage',\n",
       " 'tomorrow several u real privilege hosting around inspirational people courtesy plenty sim flying activity keep legend happy looking forward hi adam sound fab great time danny',\n",
       " 'luv flight staff jump photo http co vfwtnoraqn great pic nic glad enjoyed fun atmosphere cd',\n",
       " 'emailed week ago question skymiles response disappointed usually loyal customer hi erin apologize delay pls dm skymiles question happy assist thanks tjf http co idgbjac',\n",
       " 'smooth flight vega buffalo great plane fantastic crew thanks awsreinvent aim sean thanks flying u sharing love mr',\n",
       " 'delay flight day rd late one grrrrrrr sorry hear michele flight number city pair happy take look',\n",
       " 'hey anecdotally every flight dns resolution issue preventing redirect http co nf ujby enter list number password free wi fi suggest look adding entry plane onboard router etc host file resolve http co lxftqoq thanks bringing attention joe regret inconvenience appreciate feedback hope smoother connection next time sl',\n",
       " 'voucher expires november use portion remaining portion valid full year case use entire voucher residual one issued new expiration call help',\n",
       " 'hello bring food like burger board eat flight want bring home hi awan yes sure make sure consumed board see board soon anwar',\n",
       " 'another sundayfunday faamily iflymia executiveplatinum working conciergekey travel businesstravel airtravel avgeek http co yodk yjg sunday always aawesome get see thanks loyalty business faamily',\n",
       " 'vacation flying woo hoo hope enjoy time san diego thanks thinking u meet travel need tl',\n",
       " 'booking trip lhr la adult child infant charged full price infant right check fare sale team please call local ba office http co erahykxb natalie',\n",
       " 'hate athlete bike planet fit linear inch compare westjet air canada alaska much reasonable allowance lesson athlete never book aa thanks nothing look ill wearing aa suck jersey love athlete board provided info via dm',\n",
       " 'first probably last time fly kid meal moldy raspberry happy caught ate http co ticmseq sorry hear gunjan inform crew report gill',\n",
       " 'see cust serv rep packing go break stop ask come hotel sir forgot please work airport team best option mike sincere apology experience',\n",
       " 'best way fly love rapidrewards freedrink thank guy greatservice dallas atlanta http co iclbfvf look like set aj thanks sharing afternoon u m',\n",
       " 'soon answer flight arrive charlotte little honesty go long way hey bill like take look flight please dm record locator check status',\n",
       " 'terminal kind morning woohyunbang msp flydeltajets keepclimbing http co txrvgm esv great photo mark look forward welcoming board thanks sharing tje',\n",
       " 'spent entire flight trying work wifi pathetic pay crap others text free sorry hear please reach gogo inflight customer service email hpl',\n",
       " 'fyi electrical outlet row working dl lga sorry ken hope get working soon please inform flight crew report ckh',\n",
       " 'hour flight leaving lhr pm lunch rather dinner eh hope great flight kit',\n",
       " 'early check bag lga prior flight hey jessica ticket counter open minute prior first flight four hour prior departure hope help sj',\n",
       " 'feeling urgency care full fight people delayed originally anticipated def best always leave time apologize delay flight number',\n",
       " 'ok wth mean rude wanting fly aa anymore despite circumstance bag expect stellar service sincerest apology encountered rudeness team',\n",
       " 'ba tell u truth long going sat tarmac withholding info win friend hi cee sorry late reply hope wait longer please let u know need help anything monica',\n",
       " 'connecting flight delayed hour still waiting drink attendant people awful service airport able provide best alternative option also happy help rebook required',\n",
       " 'thanks letting u http co lkho aim please alex love mean world u wait share sky soon mk',\n",
       " 'show updgraded sitting disappointing sorry amr',\n",
       " 'let know get research let know could likely get seat free select closer flight date great news bad memory information easily accessible site charge premium seat adam welcome wait day travel remaining one free',\n",
       " 'traveled mile year never told need go back line traveling first business hi jessica thanks bringing attention expect coworkers professional helpful time apology report airport leadership team hjh',\n",
       " 'nothing like losing clothes school book one go thanks saddened hear filed baggage report agent airport',\n",
       " 'required pay extra board early autistic son guarantee could sit together discrimination hey amy got dm responding thanks patience ng',\n",
       " 'assume promised call discus ongoing complaint delayed due operational reason shame hi kevin sorry touch yet one team touch shortly karen',\n",
       " 'traveling thru one exciting thing deltamedallion medalliontravel http co pnyvb sabz awesome experience glad board alice sit back relax enjoy flight hpl',\n",
       " 'somehow flying first time must say beauty impressed aim impress welcome board enjoy flight',\n",
       " 'purchased hour checkin unable show day prior departure depart sydney hoping find something hey cw earlybird checked hour prior access boarding pas hour prior hope make sense ab',\n",
       " 'clarify check kg luggage hand carry cabin luggage laptop bag max hand carry weight kg bag overhead locker many thanks lisa',\n",
       " 'pay extra check bag gate thanks making clear http co sfb cazi rule basic economy fare shown booking check process info see http co mkvffvf oz',\n",
       " 'trying check flight since friday keep receiving notice balance due occured tried check luggage please help rectify advice proceed thanks hi kindly dm u booking number get checked accordingly thanks ed',\n",
       " 'excited fly next year hawaii travel http co vlr iogdb http co gu dvh oct ready na http co r pw umb',\n",
       " 'flew mile please check ticket number assure name http co ioowqpgvje hello david please follow link dm respond privately taa http co idgbjac',\n",
       " 'drink coupon new friend laugh seat swap get group couple seated together whyiflyswa happy hear got one preferred seat kevin sit back relax enjoy flight cheer kr',\n",
       " 'congratulation making free coke can even smaller hamster love ml http co cclnatugh image sent u eddie standard complimentary size linda',\n",
       " 'http co toizpwqgem many thanks matt appreciate choosing travel cje',\n",
       " 'amazing event tonight well done raising large amount money flyingstart http co tsbuwbty great photo next concorde wheel really pleased fund raising fun success julie',\n",
       " 'grateful great service entire trip thank super happy flying u team gave amazing service aateam',\n",
       " 'hi status xt nov mt agung erupted kindly info thank per schedule update team contacting soon possible regarding thanks mi',\n",
       " 'suggest arriving hour prior flight departure holiday come check baggage drop open hour prior flight departure kind defeat purpose getting early apology bad impression caused lexi one agent soon possible ala',\n",
       " 'classic approach http co lyj jimly picture perfect say aaview',\n",
       " 'amazing service usual dl lhr msp deltaone well hwg',\n",
       " 'get newer get comfy seat leg room game changer thanks sharing sky u jasmine na http co dh dbvkwkw',\n",
       " 'thank returning luggage u irma st maarten cleveland twomonthslater http co jsjtcm tc happy hear reunited belonging thanks patience getting back',\n",
       " 'still collect foreign currency change charity http co kozpl certainly heather lovely cabin crew happy take hand aid flying start charity lind',\n",
       " 'coeliac anyone pre ordered business class menu based allergen safer order gf meal glutenfree offer gluten free meal need help please let u know please aware need least hour',\n",
       " 'gate attendant mad halloween joke love vampire favorite fruit neck tarines bird say halloween lj',\n",
       " 'got charged bag fee flight booked using aa credit card get refund happy check make sure card includes one free checked bag please dm record locator',\n",
       " 'basically stole sorry hear pls follow dm confirmation ticket number afm http co idgbjac',\n",
       " 'nd flight spanish island year nd time one bag make connecting flight one simplycareless sorry happened andrew need check update please use link http co hxpzkxg jw cec',\n",
       " 'thanks great flight miami let fun begin hi skye glad wonderful flight enjoy miami lot great thing trr',\n",
       " 'booked flight website never got ticket email staff phone disconnected call accept call ba got fix hi justin concerning hear please direct message booking detail telephone number email address take look tom',\n",
       " 'six week counting waiting refund team calculate refund difference downgraded flight hard sorry delay time taking steve soon receive information touch kit',\n",
       " 'excited travelling tomorrow orlando th wedding anniversary see soon neil amanda bond hi neil amanda congratulation th wedding anniversary looking forward welcome board tomorrow',\n",
       " 'finally achieved one lifelong dream last september http co qsp en xv sound like seeing lot lizzy thanks sharing sky u m http co eejsqrcy',\n",
       " 'hi want reschedule flight procedure thanks advance hi yohana may online via manage booking hour departure subject applicable fee thanks floi',\n",
       " 'better fucked around got flight cancelled needa go see grandma christmas want family together holiday fully expect avoid cancellation',\n",
       " 'thanks god weight limit bag hey amanda possibility endless southwest free checked bag limited pound ab',\n",
       " 'many thanks gate agent joe bgr courteous understanding quality allowed catch flight prime example customer service thanks sharing experience glad know agent providing exemplary service expect sure share scott leadership team receives recognition deserves thanks choosing travel hnw',\n",
       " 'please check mobile app able check using app past day http co euyuuwcs please dm sm number like report team hjb http co idgbjac',\n",
       " 'dislike dirty window http co byjltnmxob despite lack pristine window happy good time guy monica',\n",
       " 'super impressed inflight wi fi performance much better gogo wtg yay music ear glad great flight experience u flight number',\n",
       " 'bring laptop right plane niece wondering said yes making sure absolutely carry item sure prepared place laptop separate bin going security',\n",
       " 'heading via morning thewolftravels hope great flight enjoy trip justin leanne',\n",
       " 'checked baggage basic economy fligh fee economy fligh fee yes check bag fee found http co xvghnvvev carry allowed seat front',\n",
       " 'thought might like know one employee bashing lgbt people fb post http co tgsi jivr hi quinn thank much bringing attention forward information management review hsd',\n",
       " 'anyway could waived missed day devastated would booked earlier knew rule sorry frustration charge apply',\n",
       " 'chance could reply complaint dishonestly swapped working seat faulty seat ref customer relation team contact due course nick bit backlog moment thanks patience',\n",
       " 'use rapid reward family member flight even though paying fly someone else like upset u please dm u follow lc http co mqmfkxw ov',\n",
       " 'st flight year boarded waited hr pilot mandatory deboarding show hour late leaving hr late sorry late start please dm record locator like take closer look',\n",
       " 'love soy creamer admiral club flight please add vegan creamer every american air experience sharing request review meanwhile welcome bring along favorite',\n",
       " 'hi like change flight catania sat tomorrow access change flt website hi look following dm u please confirm full name booking reference',\n",
       " 'frustratingly maddening assault sens loss personal space dignity compliment flying lax authority offering airport know impact travel relay feedback m',\n",
       " 'give deltaone upgrade medallion holder new upgrade rule thanks http co tyoct plym welcome thank tweeting u today always ready help whenever need u ajz',\n",
       " 'get flight attendant together going zoee please follow u dm record locator detail',\n",
       " 'able web check called time lodged complaint resolution complaint added new meal inr andd previous meal inr',\n",
       " 'bag ba ask help desk gone bed like want hi alex bag late reaching carousel left behind disappointing staff help',\n",
       " 'issue check coming flight could please follow dm know susan following sorry late reply dm u booking reference full name address email mobile take look see problem may julie',\n",
       " 'hey april fool version soduku http co orzqszqtuc uh oh look like printed sudon tku sorry error laura let team know',\n",
       " 'please let go home tomorrow friday change fee terrible rock flexibility needed offer fare without change charge gladly check rule fare please dm locator',\n",
       " 'shit like pay choose seat pay putting luggage overhead bin pay breathing air basic economy one many different type fare offer choose restriction al',\n",
       " 'dallas unacceptable reason flight need delayed cuz ur slow know delay frustrating flight number happy get update',\n",
       " 'many thanks finding journal left flight last week returning keeping journal going year important thanks thanks shout bryan glad could help reunite journal hope welcome back aboard soon ct',\n",
       " 'hello flight tomorrow would like add known traveler number reservation tsa precheck pls sure thing nafiz please use link provide confirm ktn abn http co idgbjrmtu',\n",
       " 'thank friendly sky kaluplinzy travel artistlife http co gdavjmsohs welcome thanks choosing fly u amc',\n",
       " 'grateful helpful attendant pilot attempting track electronics left ord security tsa get answer please help please sure fill lost found form get right dave http co jseghynki',\n",
       " 'okay two hour delay dallas let get together please hey kate apology delay today know flight irregularity tough working get going asap kd',\n",
       " 'love new plane smell inaugural max service mia lga max avgeek http co xw ey kb nothing like new plane smell get better inaugural flight welcome aboard',\n",
       " 'upgrade middle seat time despite preference frustrating plus wait gold med line bad option skymiles account tac',\n",
       " 'thank awesome flight http co ihch unj anytime isa thanks sharing view u sf',\n",
       " 'pilot exact word electrical system supposed fix last night apparently fixed back gate know frustrating delay however safety priority please dm confirmation number tjh',\n",
       " 'well happy tuesday going spending lot quality time together week mco atl stl stl lga stl awesome let u know help anything tmt',\n",
       " 'trade free adult beverage coupon one free internet access coupon travel business need internet drink thanks considering hey steven drink ticket nontransferable appreciate feedback pas along wait share sky soon km',\n",
       " 'gonna talk removal victim racism racist flight hey stephen always feel free follow additional detail dm ab http co mqmfkxw ov',\n",
       " 'gate agent dtw could really use customer service training inexcusably rude moment walked wow good hear alexandra expect staff courteous professional time hkc',\n",
       " 'thank helping make flight late great bestairlineever happy able help happy travel hdg',\n",
       " 'new safety announcement video brilliant well done ba glad enjoyed hope rest flight enjoyable anthony',\n",
       " 'bird getting bath mdw http co jlbjbmxwmo bath important also important exfoliate one fusalage great trip stay dry',\n",
       " 'hey thanks messing ticket making miss flight am lose prem ec seat gonna normal lincoln sorry hear messed flight flying miss flight amsterdam tbw',\n",
       " 'phl sky club called sky closet people sitting plastic chair hallway really best possible experience hjb',\n",
       " 'never ever fly want give travel insurance permission speak love help aaron dm u reference also need full name address email telephone number julie',\n",
       " 'trying upgrade seat phone rep min think mute busy chatting job ridiculous sorry hear helped please dm record locator pas comment internal review',\n",
       " 'flight mia mvd bad joke aa delayed almost everyday cancelled least month flight backed gate wheel soon',\n",
       " 'end year team day week left awesome year whole sanctus team except claire boo met reflect plan much positivity excitement today discussed growth sanctus stay tuned http co pyn uaqzsm apology accepted sanctus hope fun day natalie',\n",
       " 'pathetic service unable online checkin hour due site problem downgraded blr lnd svb dy pnr sorry hear rajat oversell flight order keep fare low possible disappointing hear got',\n",
       " 'select seat flight tomorrow seat together flight leg flight however reserved seat',\n",
       " 'thanks http co pcwcsr sxi hello tana appreciate flying u afm',\n",
       " 'saga continues informed u still waiting flt jfk de icing equipment anti aging equipment apparently galley hr later get voucher new plane http co yvhirikpdz apology disruption travel plan lisa please dm u confirmation via link ala http co idgbjac',\n",
       " 'one worst airline care passenger even minor concern u pilar help',\n",
       " 'never ever flying literally every bad experience flying stay away want experience great every time please let u know help',\n",
       " 'thanks wonderful evening great location wonderful entertainment inspiring hear amazing charity work undertaken welcome lee glad enjoyed see soon helen',\n",
       " 'hello wanted share wonderful experience airline http co qxgj unur thankyou wow thank much sharing u happy part surprise trip happy belated birthday emma tjw',\n",
       " 'thank delicious cocktail way indy big championship game gobucks http co rtwlldba spirit glad could enjoy new addition inflight menu cheer kj http co abegdavxj',\n",
       " 'best way redeem voucher receives giving seat voucher offered provided airport agent working gate',\n",
       " 'special thanks stephen helping trip detail wheelchair assistance point thank helping pleasure thanks flying ajr',\n",
       " 'gorgeous sunset dfw gate admiral club http co hwq wkagpb clear sky sunset look near thanks closing day u',\n",
       " 'mistaken jared letto twice today stranger still bump first class requested upgrade love front u',\n",
       " 'update expected departure time flight st lucia still yet board plane departure neverflyingaaagain jetblue take u home please see last customer checked taking momentarily thank much patience',\n",
       " 'thank travel airflight phone iphone businesstrip businestravel finaly usa atlanta houstonstrong http co keyr sipja thank choosing u enjoy trip amv',\n",
       " 'lead way customer satisfaction wait court tell pissedflyer http co upnq adrrr certainly thank feedback share management team hro',\n",
       " 'captain houston fan flying plane lax dodger fan going work haha good fun love love thanks sharing sky u m http co vuush hjoy',\n",
       " 'guy interested frequent flyer currently platinum status told matter poor customer experience kind way want feel way much appreciate loyalty please let u know help anything else',\n",
       " 'service suck recommending million follower comment concern u please dm u detail see help',\n",
       " 'time change feb reservation min call min call back wait min conversation min hold min conversation total time elapsed minute speedofbuisness worsethanflying airtravel appreciate patience hold time bit longer usual due inclement weather approaching northeast',\n",
       " 'hello http co unjr dnt hello matt thanks fresh perspective really cool shot great weekend take care',\n",
       " 'thanks staff helping u get back home time making thing right longer expected trip nyjvstb jet jetup http co fxp hpahl hi kris pleasure thank kudos wonderful day trr',\n",
       " 'airbus ba fleet britishairways airbus commercially sensitive something discus afraid julie',\n",
       " 'fantastic company made late countless time give credit creativity one know captain arrive happy get update john flight number',\n",
       " 'hey see employee throwing passenger luggage would think price would handle care steven goal handle luggage sorry observation today ct',\n",
       " 'landed bwi thank http co ekablzoz happy onboard u paul enjoy time baltimore sf',\n",
       " 'option rescheduling pm sunday lga dtw flight good evening please use link provide confirmation assistance abn http co idgbjac',\n",
       " 'thank showing compassion morning allowing preboard get good seat due nasty head cold oh glad could get comfy seat hope feel better soon sl',\n",
       " 'flagship lounge mia open http co yf hsvd wait try one day passenger going love',\n",
       " 'booked flight put vueling plane table ivy told kebab outside ba address inc postcode look cody',\n",
       " 'trying charge change seat say free http co vsuomlrbut like look dale please dm u booking reference full name address tel thanks julie',\n",
       " 'family flight great except moving u main cabin extra seat back plane downgrade emerald one world member like hear sorry inconvenience chapman dm record locator take peek',\n",
       " 'hello please santa know ticket number pq reservation number yes cristobal confirmed valid booking number pq itinerary sent email thanks floi',\n",
       " 'hey guy going online check issue technology folk aware thanks hanging work restoring functionality share update',\n",
       " 'parked runway pilot say moving fifteen minute stand get neck pillow overhead flight attendant tell sit kidding need better goingnowhere hear upset joseph apologize safety customer top priority back way soon possible tch',\n",
       " 'club terminal fill void open poor experience director need call sorry confusion always want correct transparent information',\n",
       " 'find better place put infant http co oevoy ue would store safety equipment littlest customer',\n",
       " 'fml cheap fix tray hope tea end lap sure find way charge http co ivru vyfnp want feel like cadence please let crewmember know possibly move another seat',\n",
       " 'last time fly ticket purchased yet standby take look please dm record locator',\n",
       " 'believe guy get away shit hello edward sorry hear disappointment canceled flight please share confirmation number via dm aos',\n",
       " 'bad day get los angeles st dl dl think newer plane going east want hear brian sorry hear flight delay please share confirmation number via dm',\n",
       " 'bbc news board passenger cheap seat last http co du anccig ba stand bloody awful airline sure method used airline around world number year including partner american airline iberia qatar kieran',\n",
       " 'thought flying home vega massive hangover get worse god blessed lady emotional support dog nervous shat takeoff big thank getting liquored flight sorry hear please dm u need assistance sj http co mqmfkxw ov',\n",
       " 'plane symbol flight flying back towards ca honolulu heading hnl scheduled aos',\n",
       " 'say kudos handling morning power outage like pro flight delayed min thanks michelle glad good folk helping u keep wheel spinning preciate shout',\n",
       " 'fa stephanie aboard dl tonight fantastic paxex thank reaching alex forward stephanie management team tbt',\n",
       " 'ord alternative ramp plane waiting inside plane minute landing know ramp ready aware connecting flight passenger airport team working hard get going plane fast thanks hanging',\n",
       " 'earned gold medallion status take effect immediately hi update may take hour take effect congratulation new earned status ala',\n",
       " 'hey man get complimentary cocktail treasure guy flight lax puerto vallarta since electronic drink coupon reeeeeally nice flight crew even make promise',\n",
       " 'hanging bag folded considered carry folded hi lacie yes put one item like garment bag overhead bin one seat front sw',\n",
       " 'longer upgrading companion flying itinerary medallion member may read detail following link http co vyljhmchem hr',\n",
       " 'dear thank offering delicious glutenfree snack board nice surprise celiac travel http co zqzvhpuzxj happy enjoyed kara wonderful evening tm',\n",
       " 'flight renamed beautiful people like sound thanks sharing sky u today',\n",
       " 'bagimana cara mengganti jadwal penerbangan pada tiket air asia hi online via manage booking hour departure subject change fee fare difference pr',\n",
       " 'need know luggage included flight since say tell please provide confirmation number tbw',\n",
       " 'thanks changing oops booking error free luv human elizabeth glad know could help fix wait welcome onboard soon ec',\n",
       " 'possible transfer checked bag someone else name online check security safety reason afraid possible sam linda',\n",
       " 'hey noticed flt sjc dal keep getting delayed chance delay cancellation hi look like delayed earlier due air traffic control delay program best make time air jb',\n",
       " 'chance could get support heading detroit airport question hi angela happy assist tjn',\n",
       " 'yo far best plane experience thank sending compliment kevin appreciate traveling u al',\n",
       " 'upgrade request section always broken never get upgrade request website flight wanting upgrade please dm record locator gladly check',\n",
       " 'praying trip home much better getting bad service cry baby mention entertainment glitchy really sorry hear mention anything crew lisa',\n",
       " 'fuck lack customer service please let u know need help',\n",
       " 'unhappy basically blaming damaged luggage http co ly bhhrk never intention see upset able speak agent baggage office sj',\n",
       " 'hey manage booking say api filled fine click view change give blank form hi rebecca team aware intermittent issue adding passport info dm u full name booking ref email address',\n",
       " 'inquire booking detail puerto princesa hi kindly explain assist accordingly booking thanks ed',\n",
       " 'sinking feeling taxi arriving flight far corner airport know minute http co baecvuwogw see bit early team work gate soon possible thanks patience',\n",
       " 'stephen gavin cr operational soooo helpful efficient thanks much stephen thanks much taking time send u positive comment anne passed stephen line manager julie',\n",
       " 'great flight today loving flexible ticket chose earlier flight glad enjoyed flight kyle hope see soon anthony',\n",
       " 'shout providing fun fact commentary flight back home denver factual comical educational happy share sky sara please send confirmation number dm pas along proper kudos m',\n",
       " 'resumed pet cargo area travel puertorico u needing bit time resuming pet cargo travel sju please check update website',\n",
       " 'change seat upcoming flight paid aircraft changed sorry hear garry unfortunately seating never guaranteed seat suitable alternative request refund kit',\n",
       " 'really poor even give eye mask redeye anymore wonder iag losing market share eye mask sock available request felix ask crew want either gill',\n",
       " 'try change name getting married email company say go customer service counter get changed documentation attached laura leavitt rep counter rude refuse help http co rxlejsoo apology trouble kelsey could dm account number copy id assist vm http co mqmfkxw ov',\n",
       " 'separate airasia flight mumbai kl kl bali th th dec return mumbai via kl th dec option refund rescheduling booking route date pls dm urgent dec sandipta kindly dm u booking number preferred option miza',\n",
       " 'fyi new tower pissed full line sky priority bc signage unclear called zone many sky still waiting confused hello thank feedback sure advise leadership team issue hks',\n",
       " 'true failure sadly still fly point would moved long time ago sorry hear anything help jane',\n",
       " 'dfw ord marine spending thanksgiving dallas disappointed flight number see dm respond shortly',\n",
       " 'land miss connecting flight go ticketing counter ask new ticket clifton virginatlantic helpfully tell first day help much told go gate ticket nowhere found please share confirmation code ticket number via link learn tkr http co idgbjac',\n",
       " 'please please please http co ibs itiar fabulous team chef work menu provide passenger tasty option',\n",
       " 'tried check online tell time come airport want reserve seat hi laura unable online need done airport upon arrival',\n",
       " 'boarding playlist weekend jetblue alaskaair playlist click info playing board tom http co drkxzwrgjn',\n",
       " 'get gate aa sitting tarmac la min crew update dm answer',\n",
       " 'minute airport already annoyed flat stupid sensing frustration joe help turn thing around',\n",
       " 'better luggage last flghts issue last month chance trend issue dissapointed oh sorry hear mishandling baggage pride providing exceptional customer service tje',\n",
       " 'yo find tug driver get aircraft flt lax gate get going trouble finding ops staff sorry delay see boarded try make time',\n",
       " 'hi traveling kuala lumpur kuching air asia soon may know liquid restriction domestic flight thanks usual ml per container rule per site http co rwwfx mwve thanks emir',\n",
       " 'going ba trying change booking keep getting error different device hi sergio sorry problem changing booking online dm booking ref email home address',\n",
       " 'apparently longer offer seat assignment book advance get good seat fail kick u seat deltafail apologize disappointment unable guarantee seat number ast',\n",
       " 'nobody boarded departure flight still time http co pgf lqyh get boarded headed soon thanks patience morning',\n",
       " 'paid cool http co cb qgr earlybird customer vary flt guaranteed automatic check specific boarding position cf',\n",
       " 'never run airport thank holding connecting flight happy made thank loyalty afc',\n",
       " 'hello need help trying locate ticket online find sorry hear booking reference dm full name email address contact number sam',\n",
       " 'congrats http co wkxfh ob thanks well wish sharing article appreciate support frank steph',\n",
       " 'claim back cost missed connection cannot take one giving alternative lhr staff hi holly sorry hear issue today take look please follow u dm',\n",
       " 'everyone luggage aim bag carousel within min flight arrival sorry fell short expectation morgan mk',\n",
       " 'wow got lied scammed forced check carry concerning hear marie look please dm u full name booking reference email address kieran',\n",
       " 'thanks making flight last night truly memorable one http co exwoi ukzt maybe got future pilot hand jill application ready get old enough ac',\n",
       " 'work southeast u flying welcome open arm hpf',\n",
       " 'want say thank girl ba desk dublin helping make flight time morning could learn great deal customer service girl actuallyhelpful pleased could help brian thanks positive feedback linda',\n",
       " 'really need work baggage delivery time bna soon pull gate hand deck get reunited thanks hanging u',\n",
       " 'thanks employee janet george helping u cracked luggage thanks shout please dm confirmation number happy send kudos behalf cd',\n",
       " 'disappointed family missed london flight one could work system hr infant ticket thanks getting touch sophia dm detail understand happened sr',\n",
       " 'need assist daughter stranded miami airport ovrnite hopefully either stay aa passger lounge hotel anymore detail provide u please dm six letter record locator',\n",
       " 'notify passenger flight canceled especially flight get thru security find unacceptable oh sorry hear assistance could please follow dm confirmation number amv http co idgbjac',\n",
       " 'accept dod known travel number tsa pre hello add dod number reservation please dm confirmation dod number tdh http co idgbjac',\n",
       " 'hear overly full flight dfw sfo willing volunteer seat reasonable compensation appreciate volunteering jacqueline check agent see help',\n",
       " 'air line los angeles ca http co hn nnia rr christian thank choosing travel u hdg',\n",
       " 'pdx sjc via party christine thanks sharing day u m',\n",
       " 'issue online booking sale team option',\n",
       " 'oh flight attendant little pink airplane earring toocute breastcancerawareness thank acknowledging flight attendant support breastcancerawareness ask',\n",
       " 'thank cancelling flight ba telling til got airport told pax http co mfcwwkuikt sorry flight san diego delayed today updated departure time liz',\n",
       " 'unexpected stop memphis medical emergency way dc thank taking care passenger flight crew best putting safety health first glad know aa take good care http co ji ndfai sincerely appreciate patience understanding extra travel time morning austin',\n",
       " 'flight ba looking safe fly sorry delay responding message hope great flight kit',\n",
       " 'unhappy treatment flight aa recommend company anymore nobody happening assist welcome dm record locator detail take look',\n",
       " 'employee curbside checkin get upset tipping feel bad normally supposed tip curbside employee allowed receive tip customer baggage handling mean solicit tip bl',\n",
       " 'hi case number submitted refund airport tax see credited back singapore account please advise status thanks patience yana',\n",
       " 'dropped airplane food least get punch card something hope enjoyed kendall',\n",
       " 'issue avios statement chance could look thanks hi sorry late reply ask executive club colleague look u pas need',\n",
       " 'flight today friday last minute book every flight reminded shy always book sw wait onboard soon freddy vp',\n",
       " 'en diciembre por clo mia incluye equipaje e esta una aerol nea de bajo costo que qg gladly take look verify rule fare baggage requirement please dm record locator',\n",
       " 'hey cursed mercilessly past flight attendant dl jfk clt may taking second look glad hear thanks flying u tmt',\n",
       " 'well traveled route btwn au sjc via san land gate connect gate thru security connection airport configuration kohji said employee asked assistance facilitate expediting customer front checkpoint line question flight might missed ec',\n",
       " 'happy one chance fly favorite plane tomorrow dfw sdf keep md around nerd like http co pg nzzvg love maddog glad get another chance fly aawesome flight tomorrow',\n",
       " 'never fly unless absolutely option rather keep flying u sensing frustration flying today need help dm record locator',\n",
       " 'immensely bumpy ride flight tonight shout pilot taking ownership apologizing thanks shoutout ali hope much smoother sailing next time lc',\n",
       " 'great job lisa slaton today love airline really glad hear chris could please send confirmation ticket number afm',\n",
       " 'really need customer service training employee houston iah even badly treated yesterday rude confrontational morning nightmare horrible lawyerup take comment seriously would appreciate additional detail please share u via dm',\n",
       " 'responding email wrong dated ticket take look reservation please dm record locator detail',\n",
       " 'never say never aloha love airline love hawaiian island http co zmiu kttbd wait share sky paradise soon marty aloha km',\n",
       " 'see taar u today go http co kictamegko hope enjoy flight scott pip',\n",
       " 'frequent flyer bare minimum least offer decent customer service luxury vacation already emergency show empathy care really prof airline care customer like help please follow dm record locator take look',\n",
       " 'made boston delay stop u appreciate patience today',\n",
       " 'father flight bur sfo cancelled morning explanation info pm flight affected rachel usual get rebooked next available option sw',\n",
       " 'talked rep helpful totally satisfied due incident best help try best help let u know anything',\n",
       " 'dl atl mco gate rude gate agent completely lack civility grace marcus terribly sorry hear experience please dm detail incident tbw http co idgbjac',\n",
       " 'emergency landing st john newfoundland missed connection potential travel nightmare customer service brilliant christopher social medium team nyc based steal hmb twitter response fantastic customersforlife http co gild nsoai hi sheryl awesome thanks much understanding kind word appreciate continued loyalty hsd',\n",
       " 'brightness end week fly weekend fridayfeeling http co aq ecpuk http co umg fjtxay loving friday feeling laird great weekend enjoy flight alex',\n",
       " 'destroyed bad lost item gave phoney without recourse trauma feel shame stop using hi customer relation sent email already either communicate via email',\n",
       " 'hey guy fly back honeymoon get separated way back st lucia london gatwick middle seat well must lot single people impressed sorry paddy know ideal coming home honeymoon really sorry seat never guaranteed hope enjoyed honeymoon pip',\n",
       " 'need assistance changing flight get back hometown napa ca want wait phone another hour sure ashley kind change would like make please dm request tjp http co idgbjac',\n",
       " 'explain cost double price pre book return seat returning cabin travelling give u information try help julie',\n",
       " 'hi refund due mount agung eruption cz time reschedule flight provide free move flight refund form credit shell thanks emir',\n",
       " 'continued impress app even tell bag get loaded plane acj',\n",
       " 'getting confirmation someone obviously used mail addressed flight get stop hey david thanks reaching u please dm email address see help cd',\n",
       " 'blackfriday deal first class europe offer sale time time staytuned',\n",
       " 'upgrade isle seat coach center seat comfort select upgrade hi seated main cabin get upgraded comfort considered due amenity offered happy check seating option ajr',\n",
       " 'really minute speak representative schedule change elite line understand sense urgency call back request processed order received volume',\n",
       " 'trying couple day website keep saying something went wrong try book airmiles cayman usa dont want phone uk helpline account really sorry james working hard rectify issue soon possible usa call instead calling uk number rach',\n",
       " 'shout awesome customer service reservation somehow messed guy best worry human make mistake employee help great thanksgiving brittany ac',\n",
       " 'yay flight cancelled wait till tomorrow go home also zero info passenger thanks sorry inconvenience caused wish experience better described tje',\n",
       " 'way get people baggage check counter dulles airport empty people line one agent working hi karen thank letting u know send alert see get hand deck tbw',\n",
       " 'ability upgrade existing ticket one way second guessing switch american platinum regret disappointment alex always strive create positive customer experience ajc',\n",
       " 'thanks amazing host made quick attend ascphilly service awesome perfection even stopped food http co cqnuyxfnsa thanks shout daniel grateful opportunity share sky mk',\n",
       " 'hey modify booking please help view make change via manage booking http co gtos pr please let u know problem',\n",
       " 'generally prefer fly guy thank loyalty appreciate traveling al',\n",
       " 'seat slide bed champagne press button luxury air http co dnvwj wsx http co xavowvlhb sound like club world perfect fit sabrina hope fabulous time costa rica gareth',\n",
       " 'thanks quick response welcome acj',\n",
       " 'yum ffdining sweepstakesentry http co xxsn yhfrg look absolutely delicious nomnomnom',\n",
       " 'cheer wine tasting enjoying flight http co ioozcoeotc cheer hca',\n",
       " 'online check aware hi unfortunately online check always available may need check airport chris',\n",
       " 'need help great place celebrate year wedding anniversary yearanniversary congratulation nearly year marriage alexander looking hot lot sophie',\n",
       " 'flew miami landed still bag lie people work life get neveragain sorry extra wait time bag michael get soon',\n",
       " 'anxiously awaiting grandma http co cxqdfdmedu nothing quite like bringing family together holiday enjoy moment mr',\n",
       " 'arrived cok kul baggage totally mishandled even fragile tag requesting immediate response http co jf mpxg sincere apology late reply apology inconvenience caused',\n",
       " 'another b delay careless irresponsible airline bye hello always fly amazing place want need go',\n",
       " 'thanks much allowing stuck zone pre board fragile musical instrument greatly appreciated musical instrument tcc',\n",
       " 'might waitinline get assigned seat comeon know http co ctkidxnm know thanks sharing southwest spirit u sf',\n",
       " 'flight booked first leg operated korean airline trying select seat app let hi hunter trying select seat operated korean airline please reach korean airline tbw',\n",
       " 'hi attempting log account book flight point keep receiving error instead able view account known issue http co ho sx dgr tried using another browser clearing cache cooky issue persists feel free reach reservation center booking assistance m',\n",
       " 'lost husband suitcase charlotte sunday able contact since please contact u directly call baggage team',\n",
       " 'nooooooooooo http co cp vru ww yes good news hjh',\n",
       " 'hi checked tsa precheck show boarding pas conf jp hey anne mind deleting public tweet confirmation number dming confirmation number sj',\n",
       " 'american airline san francisco ca http co zl ayeip wave hello good u today start aadventure soon',\n",
       " 'much one world alliance told lhr could check could bag moscow bag departure hall transit desk recognise ticket flytoswerve hi decision brought keep line carrier sorry disappointment caused jamie',\n",
       " 'longer wheel wheel thanks ripping wheel suitcase http co zzxqckkdgd oh able stop baggage office submit claim apology issue hro',\n",
       " 'bag delayed since thursday delivery full day nothing thanks ruining italy vacation never sincere apology wait baggage team baggage quickly possible',\n",
       " 'took guitar carrying rudly said something happens know care something happen even threat leaving ground next flight like know happened please dm record locator info',\n",
       " 'yes calling new sharing video harassment wonder atlanta number one u comment concern u like help please dm record locator tell u happened',\n",
       " 'hey seat paid upgrade match diagram thoughtitwasbulkhead truthinadvertizing dl thx http co ymypki aeq hi andy showing seated first row main cabin board row al',\n",
       " 'revisited angelabofill angelofthenight morning flight great project live instrumentation arrangement horn string percussion nowplaying realmusicians realmusiclives goodmusic indiesoul indiemusic indiemusician http co rkjhdk enjoy gregory thank letting u ride today hjb',\n",
       " 'hear inflight selection http co nxkpennyxd received dm respond shortly',\n",
       " 'help change name booking ticket please provide u booking number passport snapshot via dm please assist accordingly thanks emir',\n",
       " 'american airline boarding process cluster take note sw airline want entire experience breeze appreciate feedback',\n",
       " 'lost powerbank charger chord onboard flight ak bangkok klia way get back hi zac sincere apology inconvenience approached lost found counter pr',\n",
       " 'thanks made upstate new york horror film festival soon screen good morning one actor crew thank choosing enjoy hr',\n",
       " 'scheduled award trip sfo napa weekend obviously place inferno mile refunded hello andrew happy look please share confirmation number via dm hmb',\n",
       " 'sure said love new jet specially tall keep great work thanks flying u tony think pretty great vm http co gnncjxrt',\n",
       " 'lost flight already plus cab ride hotel ridiculous expense incur make claim completing form http co btxr ubdw davina',\n",
       " 'global entry profile tsa pre boarding pas let take look please dm confirmation number rr ktn na',\n",
       " 'guess determined make vacation january annoying possible please let u know need help upcoming trip',\n",
       " 'someone assist please india connecting flight home seems cancelled although showing another number air vistara web site flight showing app communication u ba hi sorry cancelled flight please direct message full name booking reference',\n",
       " 'bcn britishairways haystravel gatwick gatwickairport conferencetime http co oxdydewb hope great flight claire look forward welcoming board kieran',\n",
       " 'name ashish kumar hota flight destinatiins ixr bbi date pnr lmburw mail email http co vc qkiiyvi booking still hold payment still pending ashish kindly dm u payment slip investigation miza',\n",
       " 'would like speak someone immediately behavior one flight attendant monday friday pm closed holiday first prompt option skymiles member',\n",
       " 'allow outside food skyclub dia selling alternative however reserve right refuse outside food club hkm',\n",
       " 'feel like one really expensive ghosted tinder date especially stuck detroit hour alone thanksalot showing dl dtw yyz please confirm flight number htp',\n",
       " 'thank thank giving u ability send receive text flight make call welcome always looking way improve passenger travel experience hpl',\n",
       " 'advising friend family twitter follows book flight especially terminally ill even get water chemo let alone depart time sound right dm u information cecilia',\n",
       " 'spent day nyc freezing butt avoid checking bag way home check bag anyway add min atl sincere apology tdl',\n",
       " 'basic economy may cheap option suck allowing carry personal item fly instead welcome onboard anytime nicole ask',\n",
       " 'apologize tweeting problem frustrating traveling hr getting delayed mitch need assistance rebooking acj',\n",
       " 'cosmopolitan champagne concorderoom lhr enroute ath http co hdocxxei pretty good start trip hope great flight hope enjoy trip julie',\n",
       " 'nephew excited fly http co xkft kd kf hooray wait onboard hope enjoy day vp',\n",
       " 'happy thanksgiving america celebrate occasion great holiday http co bjupxscz family happy thanksgiving',\n",
       " 'hi paid first class upgrade count towards mqds one moment check thanks ta',\n",
       " 'gate agent forgot check u connecting flight stuck charlotte night nomoreaa like hear please continue working team airport option',\n",
       " 'thx customer friendly caught earlier flight cancelled original free get home earlier sick kiddo happy could help michael hope little one feel better soon sh',\n",
       " 'kind attitude personnel pleasant customerservice airline always want experience team great please let u know help way',\n",
       " 'buying mile would equivalent paying big mac anyone ever bought american continue devalue mile restrict availability http co hbe hlyefi mileage multiplier simply option offer member accumulate mile see http co lh yh',\n",
       " 'safety demonstration video appearance fab funny ba glad liked andrew think fab lisa',\n",
       " 'service impeccable thanks glad exceeded expectation today value loyalty afc',\n",
       " 'apparently missing astray non smoking flight complicated signoff totally worth min delay understand could frustrating apologize delay pilot work hard make lost time possible',\n",
       " 'let say right right worked amazing magic save birthday thank americanairsavestheday http co tvsttknkpr always happy help',\n",
       " 'land clt hts depart iah connection even makeable aa please dm record locator check',\n",
       " 'somehow system changed flight cannot find could anyone assist rob happy help dm confirmation number tbw http co idgbjac',\n",
       " 'horror story near entirety warned travel aa http co xpvy rz via understand frustrating travel experience customer relation final say matter',\n",
       " 'thanks great meal st class worst service ever else want ticket corporategreedpersonified http co kns beq sorry misunderstanding jackie flight taken today meal service offered time day',\n",
       " 'realized flight reservation dec nov help sorry hear quavonce please reach reservation center assistance booking m',\n",
       " 'air line ticket counter denver co http co wnhujg oo hello thanks flying u today tjf',\n",
       " 'really hold time min min could possibly take long watching paint dry may help tma',\n",
       " 'suggest enforcing small bag jacket seat rule people put bag overhead efficiency please agree appreciate voicing concern kristin please know shared feedback leader ct',\n",
       " 'flight delayed hr time take ridiculous know stuff happens take day thanks sorry hear delayed flight assistance reservation please follow dm confirmation number amv',\n",
       " 'delay delight thanks made unpleasant situation better luvvoucher thanks hanging joan hope see onboard soon vm',\n",
       " 'looking forward another super crowded hot sweaty flight squished tiny seat possible silverstatusmeansnothing sorry hear experience really appreciate loyalty upsetting hear let mr carreiro',\n",
       " 'thanks zero loyalty yr platinum adv member horrible customer service phone hr min zero help mostly hold time time find new airline welcome dm u record locator going best assist least guide right direction',\n",
       " 'thanks ticketing agent kevin ferguson cle great service today appreciate feedback caroline ala',\n",
       " 'flight delayed houston one going dca weather keep pushing departure hate see upset mind sending flight city pair sj',\n",
       " 'hi process redeem credit account big account hi david queued booking credit shell applied booking within hour ya yana',\n",
       " 'talked golddesk getting earlier flight omaha guy offer change nice guy much fake news always try provide option sound like one look forward board soon',\n",
       " 'sorry reservation bz please help thanks showing people reservation tbw',\n",
       " 'worst time dealing customer relation help non registered telephone number valid number hi look follow dm u info along full name case reference contact number helen',\n",
       " 'flight today already delayed hour possible get earlier flight day travel agent airport review reservation standby like u review delay dm conf cd',\n",
       " 'th flight year first maincabin standby silverlining finally use drink voucher downside good morning taylor welcome aboard please let u know assist thanks hck',\n",
       " 'worst customer service ever trying redeem skymiles rental car customer service know could use hung anyone could walk terrible ux site would appreciated using mile book car may done sky mile market place let know may assist thanks ta',\n",
       " 'terrible employee southwest tell traveler pay attention next time got delayed plane looking information information given flight sound like need learn little mind dming confirmation number sj http co mqmfkxw ov',\n",
       " 'flight rescheduled boyfriend credit shell option kfgd email email sure roberta booking credit process applied email id within hour thanks floi',\n",
       " 'happy halloween mr bone want know start non stop transylvania happyhalloween southwestairlines http co sfipsdp hey mr bone offer service one day year lucky day sw',\n",
       " 'bought return flight seoul ticket holder flying outbound inbound ticket affected noor fine guest still board flight even one boarded thanks floi',\n",
       " 'another flight time seriously sorry trouble cindy send u flight number happy get update rr',\n",
       " 'hi check redeem airasia big point add ons like check baggage etc go sorry nope shalare done time initial booking thank miza',\n",
       " 'phone supervisor hung trying rebook around ord delay rotting hold see dm reply',\n",
       " 'shoutout great flight also birmingham airport really nice easy layout always goal lisa thanks flying u today see next time lb',\n",
       " 'hi planning black friday cyber monday flight sale hi leigh advertised website please keep eye news',\n",
       " 'wondering still get point rapid reward card shop store instead shopping online get point per spent southwest point per spent everywhere else hope answer question kj',\n",
       " 'sitting happy best bird ever flown super http co zulraug stop take deep breath soak julia handful left gone end',\n",
       " 'crew geg dl day going beyond helping u ton baggage move costa rica puravida http co xhplarsqhx hi thx publicly complimenting flt crew dl geg sea comforting hear went beyond help hjh',\n",
       " 'hi cannot online checkin tried soon online checkin open booking reference pdbdfw hi sorry hear unable check online still unable check online need',\n",
       " 'hi made spelling mistake booking amend accidentally inserted extra please provide date birth assist accordingly thanks emir',\n",
       " 'sad day jfk got charged weight bag bringing supply pr lb got charged sad start flying airline please accept apology unfavorable impression received instance appreciate selection always consider privilege service thank taking time provide additional detail experience',\n",
       " 'dear culture must great heard crew freaking amazing love flying aim please mary kay love mean world u wait share sky soon nc',\n",
       " 'le hr till flight ist lhr still check open becoming common ba arrive time http co hwie sorry wait today hope way lisa',\n",
       " 'jfk shuttle late worried making lga connection hour help hey robert would happy help kindly send confirmation via dm tbw',\n",
       " 'good day trevor may assist today thanks mi',\n",
       " 'truly set standard airline great hear carissa thanks kudos tweet u need u ajz',\n",
       " 'hello lovely lot chance getting upgrade flight ny mum th hi emma chance getting free upgrade slim happy check price d',\n",
       " 'check lady performed thanksgiving day miracle spirit great rest travel tweet u need u ajz',\n",
       " 'first time flyer already cannot check online wait till airport notimpressed wait welcome board helen pre assigned seat airport team assist one',\n",
       " 'entertainment system broken transcontinental flight cool iwantmymovie oh sorry happened please let know anything assist via channel tkr',\n",
       " 'wish awarded point quickly charge annual fee patientlywaiting sorry frustration yamileth hope point asap sl',\n",
       " 'thank broken jet bridge dfw paired late departure missed flight happened june last trip sorry let lisa hope able make next flight',\n",
       " 'flight kansa city earlier morning tomorrow pm hi connie flying aab',\n",
       " 'flying lhr lovely flight evening man http co wpvi miq hi beki great board gorgeous sunset hope see soon barbara',\n",
       " 'way flight munich start wintertr ume tour http co xjszd peca exciting paul hope great flight hopefully get downtime munich liz',\n",
       " 'airline nightmare airport since still taken george sorry hear delayed flight please let u know anything help ast',\n",
       " 'blown away love help always fly kind word ty thank support allowing u ride sky tse',\n",
       " 'need step online re game sitting phone minute change flight hear always working towards update make thing easier customer keep eye',\n",
       " 'please reply dm right urgent already put detail case approve done correction kindly check mailbox thanks mariya',\n",
       " 'clearly great day visit http co fkz ipv look beautiful bird window',\n",
       " 'heck every time fly phx den flight get delayed late night sleepy toddler sad nosleep tildenver hi michaela one like miss valuable zzzzs hope way soon please reach gate agent crew member need assistance ec',\n",
       " 'dear pay extra seat able get bag plane said seat thisisstupid certain fare allow carry baggage carmen sorry room overhead bin',\n",
       " 'take dslr camera flight personal bag welcome bring along favorite camera great link check http co aqqdo qae',\n",
       " 'tks diverting iad telling gate checked bag would offloaded dca completely disappeared please file claim baggage service office stephanie like get reunited asap',\n",
       " 'hey get together figure make apps cancel hi cody sorry hear anything need help anthony',\n",
       " 'book flight use voucher pls help hi peetaa spoken sale team directly lolly',\n",
       " 'saw joe flight back emotional watch literally brought smile face bamagic lovely emotional watch anhum pleased enjoyed beth',\n",
       " 'happy back another friendly crew thankyou http co tizlzsfz always pleasure board pas shout crew aateam',\n",
       " 'news lhr rome hour delayed apply compensation sorry delay flight yesterday lorenzo see since arrived albeit late hope still enjoyed',\n",
       " 'messy help cancellation due weather schedule flight delayed due late crew gate issue hi shivam delay never fun delay due crew generally safety issue want assure passenger safe ta',\n",
       " 'rd flight row take payment deliver internet awesome night thanks oh goodness please contact vendor submit claim aly',\n",
       " 'shoutout zig zagging across u losing bag invoice guy wedding rental suit know bag delay inconvenient sure file report local baggage service office get back asap ec',\n",
       " 'bathroom unclean flight http co ejnvlyeg sorry hear byron plese reach one flight crew better assist afm',\n",
       " 'trying figure work told would get call botched flight saturday never got also want find paid flight wifi completely stopped working switched original plane give please dm information u sam like get better understanding experienced saturday mk',\n",
       " 'guy even bothered reply delayed ba connection cardiff hi please dm booking ref address email look bm',\n",
       " 'hey think could hold long thanks advance http co yqv lc hi currently experiencing higher volume usual apology lengthy wait delayed response afn',\n",
       " 'enjoying flight dallas http co ejufj ece enjoy flight shawn al',\n",
       " 'flight mdw atl terminal hi mason thanks reaching chicago terminal atlanta terminal hope help lc',\n",
       " 'thanks great trip toddlertravel airplane workingmom texas http co tyuumksrqz love welcoming precious cargo onboard thanks sharing sky u tiffany lj',\n",
       " 'never think auction would reach level one lucky customer secured spot dl farewell tour winning bid skymiles avgeek http co kbnanxqbp wow awesome hca',\n",
       " 'confused new security measure fly back u laptop tablet carryon travelling andrea find information http co gquc zsc alex',\n",
       " 'sure wish served fly chicago always open feedback future offering tim thanks suggestion sf',\n",
       " 'ugh flight hour delayed already system gate agent writing people name hand board sorry let delay assure working diligently get way soon possible ec',\n",
       " 'november travel work sometimes need take earlier flight know mom sound like airline hi sorry hear please accept sincere apology commitment serve better future afm',\n",
       " 'rolled paid st class seat coach saying late late somehow defined standing politely line waiting passenger get apparently take seat executiveplatinum year enjoying atl airport aa cleveland sorry duncan agent work hard get everyone boarded seated timely manner',\n",
       " 'question baggage fee flying tomorrow lax mia aua st leg still waitlisted nd leg upgraded pay baggage fee get upgraded gate refund thx meet u dm record locator take look',\n",
       " 'numerous problem otszi booking reno lhr saturday could check online airport call helpline hi nick sound like disappointing experience journey reno please accept sincere apology',\n",
       " 'living high life month talking travel mar http co cotlnbp great contribution high life magazine buzz hope welcome board soon lindy',\n",
       " 'thought last run come looking ward another great flight experience gluttonforpunishment running runner onestepatatime marathontraining crazy delirium lovelaughrun http co jjnfglsr wait welcome board linda good luck berlin marathon pip',\n",
       " 'elijah martha gate houston iah amazing employee fantastic experience first thing morning yay kudos aateam love agent work together provide excellent service please dm record locator',\n",
       " 'confused checked girlfriend bru jfk http co kg xafe unfortunately way u tell common passenger travel international often agent get',\n",
       " 'european adventure time go home better get u takemehome iflyswa southwestairlines http co moux sapkd glad hear could cover last leg journey welcome back welcome home thanks great pic',\n",
       " 'took hour flight san fran anyone economy upper deck offered water staff poor disappointing hear tracy please let u know date route travelled pas feedback',\n",
       " 'thank upgrade club world return transatlantic flight wonderful treat bonus end super holiday problem pamela pleasure hope see soon thanks getting touch chris',\n",
       " 'disgusting fish smell hour flight food left hot plane hour ok safe apology bad odor board plane today',\n",
       " 'always enjoyed flying today everyone rude bad mood disappointing never like hearing disappointed danika dm u detail chat',\n",
       " 'boarding free messaging http co rvtvtxi pw hello rebekah follow dm confirm ard',\n",
       " 'send email text gate get changed tsa sent wrong gate boarding pas saved gate change send update contact information provided time reservation booked sorry experience cd',\n",
       " 'would like see change upcoming flight jac msp saturday oct th currently booked dl flt help please dm confirmation number assistance thank tse http co idgbjac',\n",
       " 'riding around minute looking empty gate look like miss connection delay never part plan regret frustration caused afc',\n",
       " 'today crew outstanding wife situation huge blessing specially david http co yzpgochj happy send along shout crew aateam',\n",
       " 'sitting gate hour delay get two marketing email minute soon guy sorry wait dm record locator check flight status',\n",
       " 'international contact number assistance cancelled flight country asking u number toll free help could please dm',\n",
       " 'parent paying property tax using new card companion pas early jan month woohoo way jt',\n",
       " 'thanks getting bag plane anything get back hunny filed baggage claim form acj',\n",
       " 'always delay travel sincerely apologise delay silvia hope flight crew keeping passenger informed julie',\n",
       " 'hi dear may assist thanks mi',\n",
       " 'lost bag yesterday track website working please help look bag back soon possible kimbers',\n",
       " 'time baggage service office close thank patience baggage office close midnight abn',\n",
       " 'changed fight third time new time acceptable please let know amend hi cee sorry hear happy take look please share conf via dm ajz http co idgbjac',\n",
       " 'hiring thrilled know interested joining family sasha create candidate profile submit resume specific job posting http co lu jtxbitv new position posted daily check back often opportunity join team kd',\n",
       " 'hi california received companion pas promotional email yesterday would like information talk phone representative helpful moment thank happy answer question feel free send u dm sw',\n",
       " 'flight aa lhr jfk departure cancelled today aa scheduled operate today thanksgiving holiday',\n",
       " 'hi wondering could help terminology booking logged acc check cont http co yp fvz na assist al',\n",
       " 'apparently concept comfort class seat vicinity first class hdg',\n",
       " 'another reason love fly southwest airline swaind hogwarts swaind halloweenspirit http co xxazlegofm go halloween mark hope enjoy ride sky km',\n",
       " 'changing apis name reservation sound wee bit data breach right min trying solve issue making believe name magically modified reservation horriblecustomerservice something help alex sorry unhappy service today hel',\n",
       " 'absolute worst piece junk airline ever delay mechanical issue new slogan still biz sorry delay christopher work airport team assist rebooking',\n",
       " 'always take like min hold talk agent hi dk sorry wait hold long sometimes line get busy take u longer hoped answer customer call feed back',\n",
       " 'hi may ask assistance regarding change gender booking detail male female thank hi may booking number guest name correct title prabu',\n",
       " 'hi filled online survey asked response yet nothing someone contact please many thanks send survey large number passenger always get back directly let u know help gill',\n",
       " 'thanks epic screwup making dad miss wedding also thanks negative customer service neveragain julie terribly sorry hear happened please dad reach u let u know make thing right sincerest apology hsd',\n",
       " 'rebooked direct flight became available new flight day earlier nice woman phone fixed music ear brad glad could get taken care see sky soon sl',\n",
       " 'flown good amount life absolute worst experience ever turrible mike want fly u please share turn experience around',\n",
       " 'get cancellation amount sport equipment hi parthee sorry explain via dm provide u booking number thank miza',\n",
       " 'today must day customer sevice sky priority press assistance button time min interval fun dopie sorry long wait time still need help hyc',\n",
       " 'great advice report tag southwest tweet get attention news use glad liked segment morning luc always need u jt',\n",
       " 'whats status flight dp nov possible refund flight due circumtances mt agung thx please provide u booking number assist accordingly thanks emir',\n",
       " 'another flight make feel like hassle bringing guitar thank certainly want feeling like caroline apologize hope future better feedback abn',\n",
       " 'jordan flt denver best greatexperience customerservice awesome aateam wait share shout',\n",
       " 'hi vegan meal option asian vegetarian vegetarian non dairy make sure get vegan meal hi mia would need select later ensure vegan good day tjf',\n",
       " 'forced deplane unknown take happy holiday unhappy customer would like research may please dm confirmation number tmt http co idgbjac',\n",
       " 'found flight film christmas day elf cannot wait hi amy wait welcome board tom',\n",
       " 'booked fly geneva leaving hour time spending hour geneva flying visit please tell returning day lind',\n",
       " 'belize departure tax part ticket great question tax fee already included price purchase u jt',\n",
       " 'detroit employee rude old man counter literally rolled eye yr old daughter asked help price ting boarding pas unacceptable apology regarding rude behavior truly expect employee thank much feedback daughter get information need may assist tjf',\n",
       " 'shoutout hour delay keep getting longer attendant said southwest plane currently use holiday weekend stupid true kind company run backup plan like delay either colton working get need asap thanks hanging u sl',\n",
       " 'riddle offer flight via vacation package leg earn mile without making abundantly clear hi tj sorry vacation package unclear would like file complaint make suggestion attached link apology http co fplxqvqlxy tma',\n",
       " 'miler going napa return sfo next wed hotel evac displaced unhealthy air qual refund aasucks offering refund jill however offering change fee waiver please click info http co knkpuilgez',\n",
       " 'btw tell regret delay inconvenience line overused work problem aa dislike delay happen avoid know time valuable appreciate hanging u',\n",
       " 'mean tell bring puppy plane snub nosed breed get explanation safety top priority breed still carried take look info http co yoftzqfr',\n",
       " 'hey help friend deb victor honeymoon saga deb tagged facebook please oh please hi david reply face book comment able discus issue either data protection reason friend complete http co sihdl tban submit customer relation team alternatively register twitter jl',\n",
       " 'please talk someone horrible flight sorry disappointing experience maria please dm u detail follow bl',\n",
       " 'hello flying riyadh dc ba allowed laptop carry thank hi travelling riyadh able carry laptop tablet larger mobile phone hand baggage',\n",
       " 'best performance jfk flight ba heathrow oh dear happened andy beth',\n",
       " 'regard weather waiver travel gpt able rebook msy additional cost thad weather waiver able make one time change reservation would like fly msy',\n",
       " 'window seat fail http co dsgecgcnad hi apologize disappointment window look intentionally left solid structural purpose ajl',\n",
       " 'wife super frustrating experience customer service atlanta ga would appreciate call justin sorry hear anything assist twitter tlt',\n",
       " 'executive club site link working print boarding pas experiencing intermittent problem louise working resolved soon possible appreciate patience charlotte',\n",
       " 'hi qz schedule tomorrow booking number het name vera ekwall email email please reply dmthx hi anton respond dm thanks mi',\n",
       " 'staff flight heathrow san fran absolutely brilliant credit great hear brian passed feedback also say thanks http co mcjylsn ch beth',\n",
       " 'another quality job baggage waiting almost minute bag pathetic sorry wait know important time appreciate patience',\n",
       " 'flight crew gave constant baseball score update flight love http co py uwn guess appropriate since headed dc',\n",
       " 'seriously make sense http co rwp flxzhy hey evan sorry confusion mean sit anywhere open seat enjoy flight lb',\n",
       " 'trying check online flight tomorrow rsw lhr say go check desk help sure please dm confirmation number take look amc',\n",
       " 'hi urgent regarding booking gszdhb departure time changed team pls check dm tx hi lee assisted move back original flight kindly check mailbox itinerary thanks sha',\n",
       " 'bwi traveling southwest airline far positive experience janice rude husband know attitude everything come customer service debbie sorry hear let guy today sf',\n",
       " 'pleasure interacting rude representative medallion line waiting half hour hung wow courteous time detail dm able forward comment management tac',\n",
       " 'online seating chart said section normal legroom charged u extra le legroom today owe u refund ok sorry discomfort serena sat seat purchased refund due',\n",
       " 'please advise flight bali booked thru traveloka situation critical return flight cancelled wish refund credit account urgent reply appreciated sure kindly provide u booking number member id help proceed',\n",
       " 'horas en la cabrona linea going needing assistance rebooking please dm locator detail take look',\n",
       " 'hi folk awaiting email confirmation change flight itinerary chase please change made back touch soon possible update',\n",
       " 'love sitting plane tarmac knowing nothing make would dm u flight confirmation number like look flight activity thanks',\n",
       " 'gave item gate representative present mean upset treated customer need put shopping bag inside carry sorry rudeness team',\n",
       " 'love greatcustomerservice like book flight wrong day help make ok thanks welcome spencer thanks choosing tmb',\n",
       " 'saya telah gunakan promo code tapi harga tiket tidak berlaku perubahan try date try thanks floi',\n",
       " 'going lb moving life across country time drop aadvantage change airline love u always want aware policy apology http co xvghnvvev http co jy pvwsp',\n",
       " 'enroute dfw jax yesterday aaview http co hvfmcmsq captured great shot thanks sharing',\n",
       " 'flight cancelled hey apology city travelling today lj',\n",
       " 'omg line make boarding process time worse everyone squeeze front thought lori sorry experience pas concern appropriate team improvement thanks feedback al',\n",
       " 'happy back onboard flight trip dca via msp beautiful view california today http co gjjybfpif happy great shot thanks choosing fly u amc',\n",
       " 'allow online checkin please help kvx htr tambo studio susan proctor http co lsjyl t inconvenience may cause kev',\n",
       " 'left ipad plane hour ago recommended course action hi deborah flight travelling leanne',\n",
       " 'baggage nazi gate rude overly aggressive horrible customer experience last leg journey ruined polite conversation want apology rudeness encountered flight number',\n",
       " 'glad let book flight mile rewarded logistical incompetence thanks see way thanks patience evening',\n",
       " 'hi made booking tk ywc made typo one passenger name please help hi srokkanth may booking number passenger name date birth correction please see',\n",
       " 'brother delayed flight ord today consider holding flight syr get home pr month minute would work pilotdidntshow prstrong americanairlines know ready home unable hold plane check team make connection',\n",
       " 'many point would cost upgrade prem business london sydney next sunday hi terry sorry late reply looked flight sydney next sunday november avios seat club world upgrade using avios',\n",
       " 'flight spring training clearwater need schedule released sound like exciting upcoming plan chris wait onboard kd',\n",
       " 'ba rome afternoon club europe incredible far best short haul flight ever thanks lovely feedback matthew sure pas comment onto crew hope enjoy time rome danih',\n",
       " 'nice job renovation hare admiral club look great william thanks loyal customer u happy like new look',\n",
       " 'chicago pit stop way back home dc thank xoxo http co pkfji qqs view window seat beat thanks flying u sharing moment mr',\n",
       " 'customer service fail trying use mile rent car see ill family member policy day lead time sorry hear family member ill extra step time required moving mile company',\n",
       " 'lady broke overhead door mechanic said never seen one broke bad brute way little duct tape hi glad way tkr',\n",
       " 'miss old american bad deal customer cutomer reach customer relation help nathalie please dm record locator going',\n",
       " 'cloud cover http co nlb eatg amazing picture rebecca thanks sharing view u hope enjoyed flight nc',\n",
       " 'flight landed wrong airport dulles instead dca standard practice see diversion flight due weather dca thank much patience',\n",
       " 'first flight married couple ontario la vega thank great service flight southwestheart married http co qqmewawmpq happy share sky two lovebird look forward many trip sky together future tl',\n",
       " 'best way flight cuba http co zwiubhadtn thrilled onboard mr batista hope enjoy ride sky km',\n",
       " 'excited plane good movie let yay looking forward seeing onboard aubree afn',\n",
       " 'failed crew management keep hundred million aircraft ground flight attendant ever show aa depart try possible avoid delay apology starting later scheduled get air soon',\n",
       " 'bronze card holder able reserve seat flight singapore lhr tomorrow keep getting error hi rohini executive club detail booking send u screenshot error sarah',\n",
       " 'damn great could something similar would grand http co men tfnnly glad enjoying new signage david thanks feedback mr',\n",
       " 'app state ontime way thru delayed way get time lost day fixed flight number scheduled today like dig little deeper see happening',\n",
       " 'wife fly hr alone birthday today maybe help amazing husband gift upgrade check upgrade possibility please meet u dm letter record locator',\n",
       " 'avoid getting stuck last row next lav paying even nd flight row happened hello sorry hear disappointment seat assignment happy check',\n",
       " 'online checkin closed many failed login attempt unlock given travelling hi gavin locked online check need check airport helen',\n",
       " 'inflight crew manage create rotten first class experience aa want experience smooth every time please dm detail',\n",
       " 'oh irony sign flight morning pushed back http co niqytowf le hoang apology wait today want get nyc game sw',\n",
       " 'rude customer service staff huffing phone answer overcharged assistance please query regarding overcharged one team touch soon possible',\n",
       " 'sitting plane miami waiting agent run jet bridge landed pm still waiting come previous weather delay caused bit wait open gate thanks bearing u',\n",
       " 'thanks paul still waiting response complaint dating back cancelled flight july customer reference news http co ppirbqmmyw received reply yet like call discus tell u mobile number convenient time call morning afternoon evening julie',\n",
       " 'ground stop detroit preventing flying keep connection leaving time make connection dl dl hey sheridan look like made connection great week tbt',\n",
       " 'checkin refused fix messed sent checkin desk unmanned http co qywcn vimx thanks comment john pleased hear able assist gill',\n",
       " 'thursday section bna come frequentflyer ysr sound like great day walker happy onboard u vp',\n",
       " 'help forgot use promo code booking added fact already ticketed may possible take look please dm record locator',\n",
       " 'flight attendant hilarious deserve raise high five glad could put smile face today thanks loyalty lj',\n",
       " 'hi comf way lexington coffee water snack adult beverage flight speak flight attendant regarding snack beverage board hdv',\n",
       " 'hey sitting plane tarmac hour update missing bachelorette party thanksalot sorry lack communication laura maintenance team finishing preparing departure wheel soon',\n",
       " 'hi fine tweet u english may also contact thailand call center help miza',\n",
       " 'need help india named carmen beasley messaging uncle investing pound told receive delhi able convince uncle fraud tell real reservation ticket http co zjkmioh uj hi krishna definitely genuine ba booking uncle respond click link give personal information report forwarding email email afraid respond email sent address beth',\n",
       " 'penerbangan jkt ke seoul utk class yg low fare apkh passanger diberi meal may perform pre book preferred meal thanks sha',\n",
       " 'thanks splitting person family boarding group seat learn family matter love faamilies traveling little one request board early info http co rbicpbo ka',\n",
       " 'best flight ever landing pvd thanks got see airkraft steel http co wpos ct great onboard u donna hope see soon sf',\n",
       " 'photobombing skill thing legend http co svulv vez hi seth never let opportunity fly b',\n",
       " 'manage booking back pls need change date flight asap pls tried app desktop hi de support team aware issue working hard resolve apology inconvenience',\n",
       " 'love favorite airline hour delay making happy know aubree sorry crush u see like flight number city ac',\n",
       " 'yet another reason love point button chrome thank xoxoxo time shop til drop dm u rr another treat top day b',\n",
       " 'flight day scared shitless wait welcome onboard today daniel sj',\n",
       " 'think something may wrong website app unable book flight may look elsewhere working sorry hear francesca please tell u web browser mobile device operating system using error',\n",
       " 'let use point upgrade dublin toronto look like keep hi sam upgrade avios one world partner aerlingus part alliance',\n",
       " 'amazing fly thousand mile one way fly bag way deltakillingme http co rxba kpyo hope opportunity better serve future hjb',\n",
       " 'possible passenger emergency contact make change flight person concerned named booking breach data protection rule',\n",
       " 'work colleague flying bah ba supporting red arrow tour way cheeky upgrade hi reece something could help however ask airport staff might able assist chris',\n",
       " 'hey put upgrade list medallion member two new way manage complimentary upgrade using preference feature profile member',\n",
       " 'feelin pay early bird checkin get boarding group top annual fee earlybird customer vary flight guaranteed automatic check specific boarding position tl',\n",
       " 'going drive chicago peoria thanks ever get http co epgp fq get ord right schedule afternoon',\n",
       " 'hi got stage entering card detail saying could delay processing payment sure payment went please provide passenger name flight detail advice thanks emir',\n",
       " 'atl san original ticket became ticket refund offered http co kxt tzfg hello sorry hear seat downgraded please dm confirmation number look tsb',\n",
       " 'flight attendant talk way much flight know seatbelt light turned mean light dimmed shorty takeoff catch little nap enjoy flight',\n",
       " 'know christmas time flight pilot working right expect avoid cancellation holiday look forward board',\n",
       " 'hi left kindle lounge stuttgart say post get help pls honest many airport would post take responsibility case damaged transit natalie',\n",
       " 'flight au jfk cst departure today delayed hr finally cancelling flight fail oh sorry could provide confirmation number via dm assist tdl http co idgbjac',\n",
       " 'flight attendant briefing pull mask alcohol flowing know scared cabin happy could share day razvan thanks brightening day m',\n",
       " 'late party long time flyer love little airline civilized efficient http co ub mm late party party never end rachel welcome southwest family lb',\n",
       " 'alrady online checkin want change seat hi would speak airport change seat number alternatively dm u reference full name',\n",
       " 'need help dm hey herschel always happy assist feel free send dm would like discus sl http co mqmfkxw ov',\n",
       " 'hello kyungkyun lee flight scheduled day tomorrow rise want refund hi would advise contact korean call centre assistance thanks ed',\n",
       " 'problem logging booking website need check tomorrow sent message hi ayda sorry taking long get system problem manage booking team trying fix',\n",
       " 'file small claim case spend defend show win bad customer service advised travel involving travel fund must completed expiration date sorry frustration ag',\n",
       " 'love pragmatic funny pilot rockstar attendant looking teri donald awesome glad hear enjoyed service flight hope see soon tmb',\n",
       " 'update app site working morning trying check app site working hi chad able regain full functionality point happy check like dm flight confirmation number wb http co mqmfkxw ov',\n",
       " 'air line ticket counter la vega nv http co xojj sdgax hi steven may assist tjh',\n",
       " 'get cooky flew yall aint cool sorry hear josh must better ala',\n",
       " 'status case thank much service counter assist thanks mariya',\n",
       " 'lovely flight would take morning already due take scheduled landing time hi mike please accept sincere apology delay flight adverse weather affected lot flight today kev',\n",
       " 'hey team update mechanical delay issue leaking hydraulic fluid nose gear tell delay real trying reaccom family nyc latest update departure follow via dm check rebooking option',\n",
       " 'booking number omfeww flight fd retimed pm pm move earlier flight pm hi respond via dm see anwar',\n",
       " 'hey use travel certificate upgrade reservation comfort hi aaron unfortunately travel voucher cannot used towards upgrade towards purchase ticket trr',\n",
       " 'thanks memory destination journey firstflight http co kbyad kidding look like aviation pro u thanks letting u share memorable experience family ec',\n",
       " 'get mobile boarding pas option hey paula likely one passenger listed reservation eligible mobile boarding pas regret inconvenience appreciate feedback kj',\n",
       " 'contract number accepted page booking ticket different browser yana',\n",
       " 'headed west jet plane today headed phoenix http co zqe krub happy travel jeanine hjb',\n",
       " 'sw credit card canceling eligible offer http co xnp kl hey tanya offer available already southwest credit card california sl',\n",
       " 'gosh love always amazing service minimal stress hi angela wow love tmc',\n",
       " 'sorry look best colour http co xmvd zdxc certainly agree aidan look fine hope welcome board one soon chris',\n",
       " 'hey trying get boarding pas emailed isnt giving option print cant help oh let see help please dm u follow mk',\n",
       " 'another great experience feedback important u want passenger best possible experience let u know help taa',\n",
       " 'hi trying use regional upgrade aeromexico operated flight per link luck help http co af hfjclpu megan actually regional upgrade valid dl coded flight operated connection carrier haa',\n",
       " 'problem downloading boarding pas please help thanks hope great flight jane',\n",
       " 'hi cant web check another question one passenger using wheelchair mother walk slow hi already web check explain regarding mother via dm see anwar',\n",
       " 'put regulation carryon sizers getting flight fit tell please boarding aircraft early group make check bag insulted upset dont give canned answer always want consistent come carry bag sorry checked invite dm detail',\n",
       " 'final racing trip year free seat upgrade thanks http co ynfvopid hi jamie hope enjoy flight tom',\n",
       " 'huge thanks top service melanie tranmer nathan gatwick took hold problem sorted noone else would great hear arnla thanks letting u know kind comment melanie nathan jr',\n",
       " 'boarding process newark zoo get boarding zone installed term travel atl mess ewr please accept apology unfavorable impression received instance appreciate selection always consider privilege service atj',\n",
       " 'better better status le appealing waiting time get longer seat get smaller comfortisnowcoach never intention feel slighted experience u ta',\n",
       " 'couple decent flight lately thought changed still disappointing http co dhd hu trying disappoint pilot thier best try make time air braulio',\n",
       " 'spirit holiday upgrade flying phoenix tomorrow never upgraded past neverhurtstoask hi tara wish could give free upgrade thank choosing wait onboard u hyc',\n",
       " 'gate agent flight went beyond helping comfortable also thanks empowering people get dubai even tho orig flight cancelled gate agent awesome thanks pleasure take care fly u tdl',\n",
       " 'booked flight thru expedia paid cancellation policy week prior trip cancelled refund credit united american respectively cost redeem goodbuisnessmodel restricted ticket change charge change offer fare bit flexible',\n",
       " 'gang pr manager ceo unknowingly met flight alt today one vacation nampc backhome smallworld artbringspeopletogether http co plz ri cool nice pic thanks much choosing haa',\n",
       " 'sad fly home christmas sfo sjc alb checked daily silvermedallion hello cody sorry see try alternate day still high merry christmas tcc',\n",
       " 'going hawaii information come soon katy excited share adventure aloha state ab',\n",
       " 'laguardia flight atlanta security minute already line barely moved loooong worried make anything finger crossed tsa able get line moving soon get way expedite process m',\n",
       " 'flown exclusively whole life many bad experience free agent whatcha got oh like hearing make right lj',\n",
       " 'request refund booking number ep nrn case rejected problem system double booking made request refund rejected team get back soonest possible time thanks nod',\n",
       " 'wheel chi town let boogie great day share sky scott happy travel ab http co acr',\n",
       " 'holy cripes might actually ontime departure avl might implode good travel day hi michelle happy hear flight leaving time let jinx hope great flight wonderful day trr',\n",
       " 'would able price match flight dublin american offering round trip flight literally half moment hi brandon unable match price competitor offer best price guarantee whenever book reservation website information regarding best price guarantee please visit following link http co noymjs zby aos',\n",
       " 'remember last time flight delayed late cancelled theseairlinessuck southwest know frustrating flight irregularity rest assured working hard way soon m',\n",
       " 'god awful nearly hr late leaving miami crew flight changed time howhardisthis know delay frustrating chris please meet u dm reach destination take closer look',\n",
       " 'know raining dallas understand bag wet long sit rain clothes soaked rusty apologize frustration know disappointing please sure speak agent baggage office sf',\n",
       " 'support phone number u query please include full name booking ref relevant email address happily help however hp',\n",
       " 'thanks changing flight putting whole family middle row seat used sitting together wow chris know disappointing sorry could accommodate expecting tlt',\n",
       " 'airasia rebooked flight tomorrow refusing provide accommodation water even food voucher cannot stay airport closed terrible customer service basically thrown u onto street agung bali sincerest apology jakob please refer ground staff advise may claim insurance directly floi',\n",
       " 'adding flight hawaii see trip hawaii future travelhi travel bucketlist wait share sky paradise soon kimberly aloha km',\n",
       " 'pay early bird check still end sorry hear let emilie would dm u confirmation number take closer look reservation http co mqmfkxw ov',\n",
       " 'update delayed flight ba blq lhr suggestion lounge plane sent venice hi jane sorry flight held diverted venice sorry disruption airport staff able give update',\n",
       " 'absolutely best airline sweetest funniest staff flight imagine flying anyone else choiceisyoursbutpleasureisours hospitality name game dm confirmation number happy pas praise crew jt http co mqmfkxw ov',\n",
       " 'never flight middle plane put bag back stilltheworstairline try everyone place bag carry bin nearest seat sorry bin filled quickly today',\n",
       " 'filet mignon business beef cheek first sense mind grey inside la grey beef standard ho hum expect better http co hcployvwuv sorry fell short expectation fin forward feedback team',\n",
       " 'love new check tampa international love feelingspecial great hear bobby got another special treat dm rapid reward number na http co mqmfkxw ov',\n",
       " 'book ticket name wrong help amend thank assist via dm felix miza',\n",
       " 'thank great gift pp portfolio powerbank love appreciative rock whereflyingisfun http co seii ihc hope use next flight u wait see m http co xtzm kmgq',\n",
       " 'thing accomplished today started new job ate granola bar sec sat hold hour far cried hi sam something help tsb',\n",
       " 'matter fact refund take money fly somewhere else certainly like learn bit situation feel free dm u confirmation number follow ab http co mqmfkxw ov',\n",
       " 'hit mile earned companion pas stella fly http co nzbwosvls congratulation danny thrilled stella wait welcome onboard u cd',\n",
       " 'air flying tokyo detroit review airline deltaairlines http co lbqj xbdan http co ou pvacgcr hi john thank choosing safetravels hks',\n",
       " 'come ba supporting iphone update coming hi lee please continue check website update david',\n",
       " 'nice behind scene segment today face behind tweet fun morning great week na',\n",
       " 'getting call concerning tweet safetyfirst http co qklbiy like forward correct time please dm record locator',\n",
       " 'tell dl sfo jfk delayed thx hi sorry delay dl sfo jfk delay due air traffic control tdh',\n",
       " 'unable check book seat baggage need help hi rahul may booking number preferred seat baggage weight passenger full name assist thanks mich',\n",
       " 'poor service way china get mile cuz ticket cheap insanity traveling revenue ticket certainly accrue mile please share record locator u dm verify',\n",
       " 'cost little flight home los angeles brownsville tx cost around dad fly roundtrip brownsville fare based availability advance purchase reservation help find best fare',\n",
       " 'providing entertainment http co wpt dbz dn wow cool like appreciate choosing tjh',\n",
       " 'booked fly firstclass back caymanislands london via miami christmas number call try change new year newyork travelblog http co hpm zbwqzf call reservation team help changing reservation',\n",
       " 'discovered charge full fair difference day standby earlier flight sit airport hour buyerbeware travel businesstravel airline worstairline southwest never intention disappoint brook understand plan change hence pride change fee ask fare difference paid relay feedback hope enjoy flight sh',\n",
       " 'dear cheaper fly lga rdu jfk dec jan dammit flying jfk fra roundtrip cry good evening thank interest flying price always subject availability change often usually',\n",
       " 'thanks pretty view morning dtw alb http co dwydqzw welcome enjoy flight tjh',\n",
       " 'may ask whether permissible bring along power bank checked baggage sure ck replied dm thanks floi',\n",
       " 'help see dm reply back soon',\n",
       " 'flight ton leg room http co frdmaterht feel free place backpack overhead bin alleviate room stretch thanks flying u today cf',\n",
       " 'last trip resulted delay thats track record want help hi doug thanks contacting u sorry let hml',\n",
       " 'twitter usual meltdown form like report wifi streaming service enabling watch king game live foot awesome shawnze wonderful flight tkr',\n",
       " 'finding seat like cool bro http co wcvpoan oh definitely way apology disappointment morgan afn',\n",
       " 'thank lee flight sdq mia little help went long way way go lee glad hear aateam took great care',\n",
       " 'glad board happy onboard jack vm',\n",
       " 'really disappointed glutenfree meal got ba toronto also flying home ba worried food option sorry hear anna pas feedback catering team however',\n",
       " 'terrible flight lhr got laptop bag bunch shit soaked coffe due galley leakage booking reference email address contact telephone number please give specific detail happened oliver',\n",
       " 'hi online check available lgw sorry late reply station facility heraklion one online',\n",
       " 'missing granddaughter birthday grandchild soccer game due delayed flight late crew provided notice last time airline terrible customerexperience worst http co frummz know missing special event frustrating sorry extra travel time',\n",
       " 'booked kid flight august told cannot fly yr old please advise hi catherine year old able travel together flight sorry incorrect information given',\n",
       " 'really really need train crew tell left right board plane told turn right left twice row ba ba hi get reported please accept apology inconvenience caused helen',\n",
       " 'ak cc brent top notch customer service polite attentive patient even non english malay speaking tourist hi kelvin thank great day ahead mariya',\n",
       " 'thanks sale see boyfriend almost every weekend december let continue make happen mallory dm u rapid reward treat lb',\n",
       " 'feeling frustrated even africa recover bag much faster kot file claim final carrier u please share claim number via dm may take look',\n",
       " 'despite fare change searching solo earlier fare go gf looking book separately time cuz high demand fairly certain people searching flight pm wednesday constitute high demand tsk tsk appreciate feedback apologize unpleasant experience griff fare sell change rapidly best provide lowest fare available abn',\n",
       " 'sad day airport got random checked charged check carry even though plane even full sound like may traveling basic economy fare please dm record locator take look',\n",
       " 'hey lucky jean agent staff patient resourceful efficient make look good hi bianca thx publicly complimenting coworker jean great hear proud happy travel hjh',\n",
       " 'got pixarcoco painted plane fly la coco premiere http co gvgtuzagtn well worked perfectly hope great flight amazing time premiere jt',\n",
       " 'still credited virginatlantic flying club mile flight taken day ago help hi emmanuel assist hour daily please contact u convenience discus mileage credit hck',\n",
       " 'thank another great flight let holiday begin http co xwyelwrilo day work sl http co lbzhpgdwt',\n",
       " 'must give shout flight inflight crew member donna found bose headphone left plane tracked gate away atl connection return grateful happy hear able reunite headphone kudos donna going beyond call duty acj',\n",
       " 'gran servei de wifi de funciona de nassos love keeping connected high sky',\n",
       " 'hey believe cancelled boyfriend flight gnv day thanksgiving supposed meet parent plan start flying gnv love guy great customer service hey katie always happy loved one onboard immediate plan fly gainesville constantly expanding appreciate feedback mr',\n",
       " 'hey think drink coupon come play apology trouble kasey look like dealing mechanical delay way asap vp',\n",
       " 'best flying company ever delaying flight phx hr connection flight lhr hour last least access ba lounge restricted business ticket hoping able avoid future sorry journey disrupted travelled u unaware lounge policy let u know flight number dardan like share feedback operation team danih',\n",
       " 'good morning bag wight policy per bag etc feel free drop dm good morning answer dm',\n",
       " 'view flight back crib http co dclhqmz fz http co kdtfgzxwjd look like great day thanks sharing view u jayilla sf',\n",
       " 'good morning would like follow case number also many day airport tax refund processed hi nana replied via dm thanks mariya',\n",
       " 'another week jammed cl hour flight wifi room open laptop anyway ep status paying regional jet allow u serve community may able serve larger plane courtesy upgrade offered available',\n",
       " 'want flagship ffdining sweepstakesentry http co uk zhp ypn flagship lounge always yummy treat good luck',\n",
       " 'actual lifetime mile get seat assignment fly enough last year secondclass happy look seat assignment please dm record locator',\n",
       " 'waiting board flight roat http co saqdhlwovo lucky great time roatan tcc',\n",
       " 'appreciate upgrade today good afternoon lisa almost time start heading mco airport thanks loyal diamond virtual assist member hjh',\n",
       " 'worst experience hit plane get home tomorrow group wish hi alexia flight number',\n",
       " 'love soy creamer admiral club flight please add vegan creamer every american air experience feedback great let u know area improve send u record locator via dm share',\n",
       " 'need travel itinry reference http co ul hi ambro already sent itinerary email inbox jimy',\n",
       " 'change seat customer checked minute flight board offer help give run around remedy situation carol equipment change different seat configuration avoid downgrading best accommodate',\n",
       " 'flt best crew ever got best crew biz sandra aamazing',\n",
       " 'hi friend video idea want pitch marketing team could ask best email please join u dm best contact info detail happy send marketing team',\n",
       " 'another monday nd cancelled flight month flight get act together cancellation last resort option apology inconvenience caused',\n",
       " 'quiero llegar muevanseeeeeeee know ready way anastasia flight number check update',\n",
       " 'thankful flight crew sea lax way handled situation especially stephanie best thank kind thought hope opportunity fly u soon hec',\n",
       " 'air traveler hope help appreciate people behind flight attendant name tag good article really like air line flight attendant one competitive job http co mezrmxh tz great article thanks sharing tmb',\n",
       " 'hort upshoot packed heading cle fortmyers via need carry suitcase http co xjh erekzo rolling red carpet great flight ct http co yan mcmt',\n",
       " 'speak file formal complaint regarding improper sudden profile search conducted dea today misgendered patted thing torn apart accused serious crime agent livid hi franny sorry hear happened today would reach tsa regarding security concern complaint reached either trr',\n",
       " 'nombor booking berbeza suami isteri bolehkah air asia aturkan tempat duduk kami berdua sebelah menyebelah fee may choose seat book flight help keep travel party sitting together thanks sha',\n",
       " 'reservation hhmfjs tomorrow checked aeromexico got bjx atl brdg pas app say already checked get atl dca brdg pas iphone wallet app unfortunately cannot help via twitter please call tsb',\n",
       " 'pm flight detroit hopefully handicapped husband wit end http co zdno pfuur please accept sincerest apology inconvenience frustration disappointment caused experience hpf',\n",
       " 'true never fly horribleservice deltalies deltadoesntcareaboutcustomers http co xv cvl jae please dm confirmation number need assistance thank tmb',\n",
       " 'huge shout horrendous customer service kind shout like get happened cause disappointment',\n",
       " 'know going recently used really impressed customer service support longer case trying connect day waiting hr callback found error flight plan get response apology ashley always strive provide best possible customer service experience seems may fallen short thank feedback abn',\n",
       " 'trying claim tier point say partner flight iberia ticket help club number date birth email address postal address booking reference orthe date destination flight one',\n",
       " 'left phone flight someone please contact hour wait help line http co ucpsgnhx john make every effort locate phone asap assist u please complete lost item report http co ojafbhfavy please see frequently asked question lost found item http co jly kbbw understand every lost item',\n",
       " 'waitlisted upgrade never got transferred gate hnl lax probably first segment codeshare screwed everything phone agent help gate agent tied boarding st segment late help sorry hear please work team airport get list',\n",
       " 'buy baggage ticket flight ask friend send back baggage hi moh may booking number please advice thank mariya',\n",
       " 'thank literally one friendliest accommodating company ever worked flier life thanks sharing love greg looking forward creating many happy memory together see soon kr',\n",
       " 'hi kindly tweet u english may contact thailand call centre assistance thanks mariya',\n",
       " 'good morning world airport morning fly home thanksgiving blessing thanksgivingweek much thankful thankful http co qcw ifxe happy thanksgiving david thank flying home tcc',\n",
       " 'flight delayed jfk people stuck behind broken tsa flight scheduled pm al',\n",
       " 'use lighter color flight slipper put colored stripe find dark appreciate feedback john pas team',\n",
       " 'putangina ka wasting time nonsense excuse last flight hi sorry explain like understand better concern thank miza',\n",
       " 'got diamond email choose choice benefit logged available hi charles thanks contacting u show choice benefit promotion summary hkc',\n",
       " 'airport personnel say bag delivered bc late check bag made bag delivered help pls bag checked minute mark liable delivery welcome pay fedex delivery help coordinate baggage service office lb',\n",
       " 'apology son loved first flight much came home one seat back safety card okay tell anyone hope another adventure together soon sl',\n",
       " 'hey get airport quicker lose bag bring wheresmybag youreslowanyway sorry wait jason always check status bag http co vpkbewiqtq',\n",
       " 'shoutout letting get bumped flight wind almost travel voucher gonna meet saint louis christmas truly appreciate flexibility understanding myra without happy travel ab',\n",
       " 'know already gave prop day ago upgraded injured gal comfort accommodating fav airline great weekend alicia tbt',\n",
       " 'wife trying get newark day bham chicago charlotte every go flight canceled ryan concerned destination let u know help provide flight info via dm',\n",
       " 'freaking love best airline hand mostly best customer sammy thanks choosing southwest nc',\n",
       " 'travel kristin florida costarica minute flydelta deltamedallion http co qikmbwp oh wow cool kristin love time lapse tube clip thank sharing loyalty u hro',\n",
       " 'online booking change action today cannot make change existing ticket apology late reply team aware issue website http co ty ceo dq working towards',\n",
       " 'issue tkt within hr travel instead go airport fee get name misspelled sorry disappointment ticketing folk able issue ticket within two hour travel',\n",
       " 'little disappointed change fee oh well realize always fine print voluntary change fee vary depending ticket purchase u take peek http co ztcjnpklsl',\n",
       " 'wondered take egg domestic flight askingforafriend sorry delay responding james many egg looking take weighed david',\n",
       " 'classic putting people flight history problem sit u comfy make u get praying find new plane sorry switch nina appreciate working airport team way quickly possible',\n",
       " 'hi work tax fee worked different charge depending reservation give u call go price breakdown',\n",
       " 'thanks wifi also probably goood time remind novice traveler byoh bring headphone hi jason glad able utilize service one neighbor playing music headphone wb',\n",
       " 'hi kindly tweet u english may contact thailand call centre assistance thanks nod',\n",
       " 'issue calling diamond line care line mileage plan line call disconnect currently mex trying work issue flight mex sea conf hpor call mobile dl hi daniel sorry inconvenience please let know help hsd',\n",
       " 'american airline flagship lounge jamaica ny http co knhtus need help reservation',\n",
       " 'super friend make halloween fun dallas love field dal http co bpu tpxcww thanks sharing fun dal u steve appreciate flying u hallown ct',\n",
       " 'gonna give friend molly point fly utah come drink ok sound like plan u hope wonderful trip sl',\n",
       " 'trying use skymiles shopping link keep pushing old site site please help hi skymiles market place temporarily please revisit site later time completely understand',\n",
       " 'hello use amex payment online ticket purchase others kul jog possible jog dp thank depends currency booking albert may refer http co cajieafnl information miza',\n",
       " 'hi mine partner luggage lost way tokyo today word please help sorry inconvenience caused mille baggage team reunite bag',\n",
       " 'going flts week greater hr delay due mechanical concerned performance time missed mark tjn',\n",
       " 'bag drop la vega staff one servicing sky priority line line growing sorry wait scott let take look see going hkm',\n",
       " 'delayed flight arrived super early asked gate agent seat assignment pushed last seat smh wish express sincere apology happened matthew al',\n",
       " 'thank accommodating support girl travel easily together thanks grateful http co ogpso hryd welcome al',\n",
       " 'bag miss flight hour layover like wanted cheese anything theworldmayneverknow apology inconvenience acj',\n",
       " 'hey sell heart melting photo son standing front branding rapid reward point http co nge xod love photo aaron vm',\n",
       " 'thank chelsea sarah making flight home boston great one http co wugntii glad hear enjoyed flight gary love pas along kudos mind dming u confirmation number rr http co mqmfkydfnv',\n",
       " 'seriously though need vacation never stop needing vacation katherine dm u swagift boost vacation plan sc',\n",
       " 'worst customer service airport twice week matter airport fly unhappycustomer going kristin want upset',\n",
       " 'mco say check airline regarding flight status update becca working airport tsa get moving way asap hang ab',\n",
       " 'complex understand hw much check baggage carry international flight rdu bom via auh pls help meet u dm record locator take peek',\n",
       " 'know huge fan today whole bunch foolishness hi derek sorry hear today good day care share detail via dm hyc',\n",
       " 'last flight purser nancy detroit sorry see old bird plane retiring http co hxs hai nice pic john ala',\n",
       " 'add tsa upcoming flight hey dave able assist adding tsa precheck number reservation please dm tsa number confirmation number ajy http co idgbjac',\n",
       " 'home day really wish still dtw team working diligently get flight soon possible hpf',\n",
       " 'sometimes get amazing flight attendant sometimes get noah arc attendant today rudeoldlady day guess prefer amazing service every time tarjis sorry let today dm detail talk',\n",
       " 'disappointed assign seat separately two people travelling together booked ticket together happy look seat chart please dm record locator',\n",
       " 'cant beat sunrise morning http co bt lovely sunrise luna hope enjoyed view morning cf',\n",
       " 'longer take flight booked nov need formally notify airline claim back tax required ceri may request airport tax refund http co yuyvtzdtht miza',\n",
       " 'entertainment center screen flight got upgraded comfort http co rosh itwev wonderful get much needed rest afc',\n",
       " 'planning transatlantic trip toddler hoping use fly tot similar inflatable pillow sleep better confirm allowed ba flight http co zxesc gr hi fiona looked fly tot cushion approved use board aircraft lind',\n",
       " 'pretty chilly beautiful msp one nicer airport special shoutout enjoyable first flight http co fh hi michael thank shout enjoyed onboard bundle great day trr',\n",
       " 'hi seems two extra one seat flight bcn jfk one please pretty please good morning corey seat available purchase may online via website http co yqj bzermw app abn',\n",
       " 'ride today first time air nearly week almost remember lounge http co xthpc lheu hope good flight ziggy davina',\n",
       " 'hard hang suit jacket woman jacket le jacket man happy hang suit jacket please let crew member know like assistance',\n",
       " 'please close flight minute early boyfriend supposed get tour company interviewing tomorrow even get town almost pm close aircraft door minute prior flight ensure time departure',\n",
       " 'bag lost system eight day returned yesterday amsterdam damaged pilfered always want take best care thing filed claim please follow info via dm',\n",
       " 'thanks great early upgraded flight home today yay love get upgraded thanks joining u board',\n",
       " 'inbound passenger still waiting gate checked bag due minute ago app still show u time impressed tonight course fit level performance witnessed packer lambeau field today thomas apologize travel experience meet expectation appreciate taking time share concern tmb',\n",
       " 'shout awesome attendant gabe den msp flight tonight thanks taking care row business traveler love hearing cohearts make day feel free dm u conf share kind word vp',\n",
       " 'would like bring something attention action another twitter user towards assistance please follow dm detail amv http co idgbjac',\n",
       " 'disappointed home wisconsin instead struck north carolina ridiculous oh truly sorry hear rae please dm anything assist hmb',\n",
       " 'need help changing last name rapid reward account hi marie help dm u rapid reward number follow ag',\n",
       " 'amazing flight dl pleasant stewardess red made seat enjoyable felt like royalty coach thank much wow wonderful experience thank sharing know hro',\n",
       " 'want approve credit card already buy plane ticket get point want get set go rapid reward credit card quickly pal chase process application ng',\n",
       " 'captain sun chu first officer awesome yesterday flight ogg lax thanks informative thanks first officer serving best team business pas along compliment aateam',\n",
       " 'jacob thompson much time want christmas card people sign card let see many send http co hjtfxwat thanks sharing anthony please share mailing detail via dm hdg',\n",
       " 'another fueling issue nd plane taken within wk issue may time retire lol however operate unless safe cec',\n",
       " 'ohana mean family family mean nobody get left behind forgotten packed morning http co fxyrbe work ahead u yet bonnie still contain excited thought welcoming onboard hawaii ec',\n",
       " 'jinxed much like bc going miss dinner reservation bc delay due maintenance issue currently trying deboard get new plane appreciate patience ng',\n",
       " 'shout robbie gate pit orig flight delayed rerouted time greet yo mom arriving ord sharing awesome feedback han',\n",
       " 'american airline worst customer service coming laguardia misled seat changed black american airline tolerate discrimination kind dm record locator detail well contact info',\n",
       " 'grateful journey safe flight http co myfmnkzdnu appreciate every opportunity onboard thanks sharing awesome view km',\n",
       " 'wifi work today reach webpage redirected empty page get back credit return please contact gogo inflight http co wnbeqrcb assistance refund request tje',\n",
       " 'well never fly ever love seeing board going',\n",
       " 'guy charge rebooking fee flight cancelled due natural disaster like fee fly u jennifer hope everything work ec http co rh ymx vq',\n",
       " 'big shout flight singing pilot serenading sky fly http co imbmqh ho thanks sharing sky u mind sending confirmation number dm pas along kudos m',\n",
       " 'upgraded first class hot pilot greeted go badger fly onwisconsin emma love preferred airline glad crew see eye eye',\n",
       " 'fun flight today always want great experience help',\n",
       " 'flight mess please send help get roll call done correctly sorry trouble morning emily thanks patience work way asap ct',\n",
       " 'going offering medallion elevation year hi katy yet heard option purchase medallion mile secure status next year usually released sometime first couple week december offered tjw',\n",
       " 'thought would getting flying st class ashamed food either http co rwax vgbpm hi karen sorry disappointment hope allow u another opportunity better serve int future tkr',\n",
       " 'stl gate agent working flight kept promising fine connection even min flight phx ran hard still missed connection stuck phx another hour sorry delay ren team possible get destination quickly safely possible',\n",
       " 'portland sf select date end year http co tlwmeousgb hope see onboard soon sj',\n",
       " 'american airline charge extra pick seat ahead time sure never book flight already anxiety flying help might able sit husband seat available pre selection cost ticket airport team provide free seat arrival',\n",
       " 'flight miami san francisco unannounced get change almost resulted missing flight good thank sharing happened recent trip always provide update sign u http co ifp',\n",
       " 'unfortunately read upgrade first promo already flown one leg could pls still upgrade return shame max would like u work cost upgrade return flight gill',\n",
       " 'fantastic flight crew flight really wish crab cake meal wld stop smelly plus deadly shellfish allergy thanks compliment flight crew also inform flight crew leadership team thanks support hjh',\n",
       " 'flight lax sf delayed hour late flight attendant disappointed adam sorry disappointment must better tbw',\n",
       " 'many hour departure luggage drop msy new orleans airport offer facility business customer msy lounge new orleans airport check facility offer mobile boarding pass bag drop used hour domestic flight hour international flight hope information helpful julie',\n",
       " 'unusual bad experience flight delay apparently realized plane u fail apology delay need assistance rebooking please provide confirmation number tdh http co idgbjac',\n",
       " 'teacherlife plane gradingneverends englishteacherlife http co wot gxcs sound like could use another break give u call help escape mk',\n",
       " 'service awesome number one thanks appreciate love',\n",
       " 'worst customer service experience rep said unfair policy still policy lost customer today great work guy never want hear please dm u let u know happened ng',\n",
       " 'fuck concept customer support must pay another flight reservation change fee making change sorry unhappy',\n",
       " 'person book two ticket name sorry nope arup guest may book extra seat add ons allowed pre booked thank miza',\n",
       " 'advantage early morning basically get first lounge taxi boiled egg soldier minute lhr am mondaymorning wheredidmyweekendgo http co ik zc benefit getting stupid clock timmy glad hear enjoying quiet breakfast beth',\n",
       " 'want use skymiles book flight traveler book flight using sm someone else thanks reaching u use skymiles book trip anybody amc',\n",
       " 'flight attendant flt sweating passenger captn keep heat cookingpassengers ismellbacon sorry discomfort sometimes warm climate impede best effort keep cabin cool ground wb',\n",
       " 'really disappointed grand lost flight due medical reason yet wont refund transfer ticket email address see happened alex',\n",
       " 'trying give chance feel like always getting screwed definitely want experience let u know assistance ala',\n",
       " 'awaiting take edi lon flight well played partnership safety video hi stephen glad enjoyed new safety video thanks raj',\n",
       " 'tell customer flight real pilot keeping secret big christmas gift passenger get airport day travel conflicting story news flight sans pilot everything maintain flight sign notification http co ixqqt',\n",
       " 'slow clap slow clap really love treat customer day knowing customer airport rep see walking toward close gate never want leave anyone behind please see agent need assistance rebooking',\n",
       " 'need fix pre board policy overheard pre board person say lied injured check problem able bodied pre boarder morning paid upgrade unfortunate hear follow federal regulation preboarding apologize frustration appreciate feedback na',\n",
       " 'announced birthday adding flight hawai sign hawaii second greg hopefully get say aloha onboard next year rr',\n",
       " 'thanks getting grr today celebrate get married loved getting kick celebration stephen great time wedding sf',\n",
       " 'denied access first class lounge dining phl ba gold wth flying ba coded flight sfo sort ever changing lounge policy customer fail fail point gold email address home address look cody',\n",
       " 'hour flight gatwick barbados meal hour boarding mini mar bar hr landing really sorry hear timing food served correct julie given comment catering team',\n",
       " 'thisisatest writing paper want know long take respond tweet thanks help fast kate m',\n",
       " 'website access check page hey tried opening google chrome browser checking lj',\n",
       " 'hello revised name please help hi please provide booking number passport copy u via dm assist accordingly thanks emir',\n",
       " 'boarding seattle http co bpwjg gtpn thanks choosing tmb',\n",
       " 'first lose flight delayed hour counting seems like universe hating boston today love boston marisa fantastic city apology delay really appreciate patience',\n",
       " 'wanna ask refund http co dfuxfmhdsu dear ika provided invalid booking number may correct one check please yana',\n",
       " 'talked diamond desk time web support tell check online app hope ug list po still ok taking guess could upgrade last flight return cleared try reissuing ticket see',\n",
       " 'used employer credit card trip information thomas perk belong cardholder acj',\n",
       " 'using service tomorrow baltimore heading punta cana thanks favoriteairline wannagetaway looking forward welcoming onboard soon bryan hope enjoy time punta cana ec',\n",
       " 'flying denver lhr saturday baggage allowance bag kg total per bag hi paul weight allowance per bag hope great flight liz',\n",
       " 'traveling singapore bali th january want cancel apply refund given situation control change service sorry cancellation allowed booking confirmed payment made non refundable',\n",
       " 'give arrive gate sign clearly saying boarding denied access another psgr offered seat http co bnk jwwf please work airport team directly assist',\n",
       " 'app website password reset working say sorry technical issue need get back trying log executive club account cody tried another browser access website cec',\n",
       " 'never fly never recommend anyone make point tell people fly sorry let delay adam rest assured working diligently get way soon possible sh',\n",
       " 'hi already submitted doc via eform name correction please send updated itinerary thanks ref request still process gia revised itinerary sent done thank miza',\n",
       " 'flight edi jfk right crew flew courteous competent friendly capable thanks welcome avraham great hear enjoyed service flight hope see soon tjh',\n",
       " 'happy take responsibility cancelling flight sorry flight canceled need help let u know',\n",
       " 'avios redemption map working website letting share avios better let web support team know ben sorry inconvenience need help sharing avios please call',\n",
       " 'hi booked flight kuala lumpur johor bahru dec possible ask refund maybe date change subject change fee fare difference anwar',\n",
       " 'whats im hearing guy would never treat someone wrong who fly mile year past year someone contact elite department hear sky mile program please thanks http co wyyc ksqz hi natalie happy hear want part medallion program happy assist via twitter please share question via link hyc http co idgbjac',\n",
       " 'group pay bag matter yet ask everyone else check bag offer free group reserved basic economy restriction including bag charge',\n",
       " 'thank finding returning son lost ipad happy thanksgiving indeed thankyoudelta welcome glad found happy thanksgiving tsb',\n",
       " 'need help look like going miss flight morning hold time minute option speak somebody right away longtime platinum frequent flyer member apology hold time limited twitter try assist please dm conformation number tdh http co idgbjac',\n",
       " 'airasia online chat support terrible take age reply u limited minute minute second tell u session minute long disconnected terrible inform u earlier hence would advise summarize concern ensure short simple',\n",
       " 'thank wonderful flight around world passed million mile woohoo virginia congratulation accomplishment hope reach million mile soon really appreciate afm',\n",
       " 'never get tsa precheck guy number attached account receive pre flying hi ryan let u take look please dm rapid reward number wb http co mqmfkxw ov',\n",
       " 'anyone know case turned new york yet hi max baggage team get bag back soon possible check update http co wgndp xdr b',\n",
       " 'intl ticket another airline domestic ticket connecting south africa intl luggage allowance apply ticket bought separately connecting day thanks hi czerina two different ticket two different contract baggage allowance would need go lower allowance connecting chris',\n",
       " 'continue flying upcoming flight flight attendant nice baby love family board u look forward making feel right home soon',\n",
       " 'flight lga delayed biz traveler past month incentive keep flying hi natalie sorry inconvenience please dm confirmation number see help tjh',\n",
       " 'please place police area bag come plane watch worker steal supply taking family need help please file report baggage service office near bag claim',\n",
       " 'hi airasia team online handle group booking already called group desk time one pickup oh sorry mira experience high volume reply accordingly attended thanks patience floi',\n",
       " 'scum scott sorry hear please let know assistance hsd',\n",
       " 'flown time already year let change name booking unless cancel pay original flight cost absolutely disgusting back emirate go hi john ticket non transferable seen term condition made booking directly u sorry feel let liz',\n",
       " 'amazed travelling partner system unable sit next hi due operational security reason unable guarantee seating sorry able sit together lc',\n",
       " 'parent due fly lhr gva dad taken hospital know around fly going see new grandson refund credit change option fit fly please hi alex passenger would contact u directly alex',\n",
       " 'always know exactly know many choice glad afford http co kgftuidzjk shame know know rock thanks flying u today steve wonderful thanksgiving ac http co hltj',\n",
       " 'hour late still close taking super enjoying sitting seat tho http co gssde rsw delay hro',\n",
       " 'thanks enforcing bag size musical instrument would want fit carry bag overhead instrument particularly susceptible damage transported cargo nevertheless apologize disappointment na',\n",
       " 'need get priority seating philly traveling tomorrow purchase priority main cabin extra seat online please take look thru http co khmrvr',\n",
       " 'man fort myers fl cracking greatpeople happy hear enjoying trip u today lisa thanks shoutout vp',\n",
       " 'come recent lgw la lax lhr flight eligible sky mile lot missed mile hi lloyd please dm ticket skymiles number take look amr',\n",
       " 'come sfo atl considered transcontinental sky club access please follow via dm assistance tdl http co idgbjac',\n",
       " 'wanted say great flight crew aa paris chicago thank thank much sending u kind word crew flight today aateam',\n",
       " 'boarding position mean nothing bus unloaded mad dash front back plane peopleupset proud unique boarding process aim maintain integrity sorry experience puj fell short ec',\n",
       " 'ting sin chye booking mrcp pu back kul unfortunately suffered injury footstep busan korea unable walk may able use crutch walking short distance wheelchair service yes pre book wheelchair service online via manage booking comay yana',\n",
       " 'hey missing thanksgiving plane start charlottesville seat upgrade would make pumpkin pie hi ian happy thanksgiving sorry hear delay safety top priority get home soon possible tmc',\n",
       " 'hi trying select seat ba flight tomorrow booked direct let nd leg journey pls advise number email trying book see help marie http co epyfzysm',\n",
       " 'hi web booking page allow complete booking cost per minute plus phone company access charge line open daily sorry inconvenience lisa',\n",
       " 'sold flight boston weekend hocus pocus fall season course lj',\n",
       " 'simply frustrating lose checked bag via sorry hear found received dm give u moment take look',\n",
       " 'kudos staff especially supervisor jenny worked counter flight dl desmoines evening extremely professional handling flight delay flydelta dsmusa customerservice thank anthony reaching give amazing compliment team dsm sent along management team dsm good evening tm',\n",
       " 'thanks flying today cowx http co msiduvr hey pleasure appreciate flying u cd',\n",
       " 'love new safety video glad hear hope see soon sam',\n",
       " 'hi could help cancelled flight bali cause didnt find refund status credit shell account member account kindly check thanks jimy',\n",
       " 'fianc traveling hou ord bachelor party weekend way could purchase drink coupon surprise hey lyndsey purchase drink coupon book like send inflight delight please dm confirmation number cd',\n",
       " 'awful everyone plane except pilot get act together terminalfailure happy check update flight flight number',\n",
       " 'watching flight thanks sharing sky u evening brian happy travel ab',\n",
       " 'admiral club club construction double fail airport bunkaf working improve admiral club experience promise worth wait',\n",
       " 'delight baking tarmac msp gate change air plane eveyone sweating gross sincerely apologize uncomfortable condition onboard hml',\n",
       " 'wife mega bumpy flight bwi rochester ny thanks getting safely awesome peep http co rwzyfms glad hear let bump keep great flight thanks love ed',\n",
       " 'penny already big fan experience keepclimbing futuremillionmiler flydelta wanderer adventure http co grivrnchyj great picture thanks flying u am',\n",
       " 'checked said want check bag cool checked aos',\n",
       " 'tagged bag drop line almost long floght heathrow dallas gonna team get taken care soon thanks patience',\n",
       " 'good morning morningviews sunrise iamup http co wojjrpktvc look like lovely day flying thanks sharing moment neil na',\n",
       " 'sure trying screw boarding flight aisle seat changed middle seat back plane always want keep seat sometimes operational need may call adjustment apology change',\n",
       " 'come rocket science sort wifi concorde room keep told problem today concerning hear niall able speak lounge staff contacted concord room',\n",
       " 'say handicapped traveling southwest best oakland airport wait travel committed providing appropriate accommodation fly looking forward welcoming onboard soon ec',\n",
       " 'sitting next fat person airplane suck definitely forced buy two seat apology discomfort patrick please dm confirmation number follow bl',\n",
       " 'bhaji say tired going away business want come http co lzjl ptbxs someone turning leave eye vikas good luck disembarking great flight kit',\n",
       " 'aa min early need wait gate flying hour track sorry extra wait krista gate quickly possible',\n",
       " 'show gross incompetence fool fool twice back figured even go thruatl happy brian tje',\n",
       " 'never flying tsa machine broke missed boarding time min rebooked hour later worst experience ever sorry connection missed gate team always look next available option way asap',\n",
       " 'flight aa air conditioning dying thanks sorry warm plane chris airborne kick help cool plane',\n",
       " 'thx great first time flying experience kid bummer movie wifi purchased work sorry hear wifi movie work frank feel free dm flight confirmation email address used purchase kr http co mqmfkxw ov',\n",
       " 'comfort http co nelrppi vc oh thank bringing attention please dm flight detail get addressed tbw',\n",
       " 'bad service try change flight cancelled staff providing solution u favour sorry hear flight cancelled clara experienced issue rebooking process get sorted hp',\n",
       " 'flight ba delayed latest update info help notgood hi richard see flight departed afternoon apologise frustration inconvenience caused hp',\n",
       " 'trouble custome service line trying contact reservation available call',\n",
       " 'bos delayed flt miss connect phx sat rebooked mon morn arrive hr late hotel comp americanairlines hotel accommodation provided airport team please check agent arrive',\n",
       " 'please help working day find bag last miami http co rthdwhna reached baggage team behalf update via dm info',\n",
       " ...]"
      ]
     },
     "execution_count": 51,
     "metadata": {},
     "output_type": "execute_result"
    }
   ],
   "source": [
    "clean_train"
   ]
  },
  {
   "cell_type": "markdown",
   "metadata": {},
   "source": [
    "### 3.1 Num. of post per Airline"
   ]
  },
  {
   "cell_type": "code",
   "execution_count": 52,
   "metadata": {
    "ExecuteTime": {
     "end_time": "2019-12-03T18:16:36.474944Z",
     "start_time": "2019-12-03T18:16:36.372217Z"
    },
    "scrolled": true
   },
   "outputs": [],
   "source": [
    "count = combine_df['label'].value_counts()"
   ]
  },
  {
   "cell_type": "code",
   "execution_count": 53,
   "metadata": {
    "ExecuteTime": {
     "end_time": "2019-12-03T18:16:40.477941Z",
     "start_time": "2019-12-03T18:16:40.469969Z"
    }
   },
   "outputs": [],
   "source": [
    "count.rename(index={0:'AirAsiaSupport', 1:'AmericanAir', 2:'British_Airways', 3:'Delta', 4:'SouthwestAir' }, inplace = True)"
   ]
  },
  {
   "cell_type": "code",
   "execution_count": 54,
   "metadata": {
    "ExecuteTime": {
     "end_time": "2019-12-03T18:16:42.771595Z",
     "start_time": "2019-12-03T18:16:42.367647Z"
    },
    "scrolled": false
   },
   "outputs": [
    {
     "data": {
      "text/plain": [
       "<matplotlib.axes._subplots.AxesSubplot at 0x1f8af10f518>"
      ]
     },
     "execution_count": 54,
     "metadata": {},
     "output_type": "execute_result"
    },
    {
     "data": {
      "image/png": "[encoded data removed]",
      "text/plain": [
       "<Figure size 360x360 with 1 Axes>"
      ]
     },
     "metadata": {
      "needs_background": "light"
     },
     "output_type": "display_data"
    }
   ],
   "source": [
    "count.plot(kind = 'bar', figsize=(5, 5), fontsize=15,edgecolor='k', title = 'No. of post per Airlines')"
   ]
  },
  {
   "cell_type": "markdown",
   "metadata": {},
   "source": [
    "As can be seen, the number of post from the Air Asia Support is the lowest. Is only about 10% of the total post. But the number of post from Air Asia Support has more than 5000. No oversampling will be done unless the model give a very bad results."
   ]
  },
  {
   "cell_type": "markdown",
   "metadata": {},
   "source": [
    "### 3.2 CountVectorizer"
   ]
  },
  {
   "cell_type": "code",
   "execution_count": 55,
   "metadata": {
    "ExecuteTime": {
     "end_time": "2019-12-03T18:16:54.631001Z",
     "start_time": "2019-12-03T18:16:54.627042Z"
    }
   },
   "outputs": [],
   "source": [
    "# NLP Using a count vectorizer for EDA purpose.\n",
    "from sklearn.feature_extraction.text import CountVectorizer"
   ]
  },
  {
   "cell_type": "code",
   "execution_count": 56,
   "metadata": {
    "ExecuteTime": {
     "end_time": "2019-12-03T18:17:01.176008Z",
     "start_time": "2019-12-03T18:16:57.536346Z"
    }
   },
   "outputs": [
    {
     "data": {
      "text/plain": [
       "CountVectorizer(analyzer='word', binary=False, decode_error='strict',\n",
       "                dtype=<class 'numpy.int64'>, encoding='utf-8', input='content',\n",
       "                lowercase=True, max_df=1.0, max_features=None, min_df=1,\n",
       "                ngram_range=(1, 1), preprocessor=None, stop_words=None,\n",
       "                strip_accents=None, token_pattern='(?u)\\\\b\\\\w\\\\w+\\\\b',\n",
       "                tokenizer=None, vocabulary=None)"
      ]
     },
     "execution_count": 56,
     "metadata": {},
     "output_type": "execute_result"
    }
   ],
   "source": [
    "# Setting the vectorizer\n",
    "cv = CountVectorizer()\n",
    "\n",
    "# Fitting the vectorizer on clean data\n",
    "cv.fit(clean_train)"
   ]
  },
  {
   "cell_type": "code",
   "execution_count": 57,
   "metadata": {
    "ExecuteTime": {
     "end_time": "2019-12-03T18:17:05.358065Z",
     "start_time": "2019-12-03T18:17:05.248392Z"
    }
   },
   "outputs": [
    {
     "data": {
      "text/plain": [
       "60734"
      ]
     },
     "execution_count": 57,
     "metadata": {},
     "output_type": "execute_result"
    }
   ],
   "source": [
    "# Check the length of clean data that is in a vectorized state\n",
    "len(cv.get_feature_names())"
   ]
  },
  {
   "cell_type": "code",
   "execution_count": 58,
   "metadata": {
    "ExecuteTime": {
     "end_time": "2019-12-03T18:19:08.705551Z",
     "start_time": "2019-12-03T18:17:39.103442Z"
    }
   },
   "outputs": [],
   "source": [
    "# Transforming vertorize clean data and converting the result to a DataFrame.\n",
    "cv_df = pd.DataFrame(cv.transform(clean_train).todense(),\n",
    "                       columns=cv.get_feature_names())"
   ]
  },
  {
   "cell_type": "code",
   "execution_count": 59,
   "metadata": {
    "ExecuteTime": {
     "end_time": "2019-12-03T18:24:30.940327Z",
     "start_time": "2019-12-03T18:24:30.775606Z"
    }
   },
   "outputs": [
    {
     "data": {
      "text/plain": [
       "(75484, 60734)"
      ]
     },
     "execution_count": 59,
     "metadata": {},
     "output_type": "execute_result"
    }
   ],
   "source": [
    "cv_df.shape"
   ]
  },
  {
   "cell_type": "code",
   "execution_count": 60,
   "metadata": {
    "ExecuteTime": {
     "end_time": "2019-12-03T18:38:36.002387Z",
     "start_time": "2019-12-03T18:24:46.519547Z"
    }
   },
   "outputs": [
    {
     "name": "stdout",
     "output_type": "stream",
     "text": [
      "60734\n"
     ]
    },
    {
     "data": {
      "text/plain": [
       "flight     40689\n",
       "co         24996\n",
       "http       24897\n",
       "please     18785\n",
       "hi         17381\n",
       "thanks     17288\n",
       "sorry      14169\n",
       "dm         13839\n",
       "get        10987\n",
       "help       10462\n",
       "number     9853 \n",
       "time       9782 \n",
       "check      8682 \n",
       "hear       7373 \n",
       "need       7304 \n",
       "service    7286 \n",
       "seat       7193 \n",
       "booking    7133 \n",
       "great      7082 \n",
       "thank      7017 \n",
       "dtype: int64"
      ]
     },
     "execution_count": 60,
     "metadata": {},
     "output_type": "execute_result"
    }
   ],
   "source": [
    "# Which words appear the most no. of time?\n",
    "word_counts = cv_df.sum(axis=0)\n",
    "print(len(word_counts))\n",
    "word_counts.sort_values(ascending = False).head(20)"
   ]
  },
  {
   "cell_type": "code",
   "execution_count": 61,
   "metadata": {
    "ExecuteTime": {
     "end_time": "2019-12-03T18:50:31.461993Z",
     "start_time": "2019-12-03T18:38:37.309238Z"
    }
   },
   "outputs": [],
   "source": [
    "top_cv_df =pd.DataFrame({'word':cv_df.columns,\n",
    "                         'word_count':cv_df.sum()})\n",
    "top_cv_df = top_cv_df.sort_values('word_count',ascending = False).head(20)"
   ]
  },
  {
   "cell_type": "code",
   "execution_count": 62,
   "metadata": {
    "ExecuteTime": {
     "end_time": "2019-12-03T18:50:35.941683Z",
     "start_time": "2019-12-03T18:50:31.680728Z"
    },
    "scrolled": false
   },
   "outputs": [
    {
     "data": {
      "text/plain": [
       "Text(0, 0.5, 'Count')"
      ]
     },
     "execution_count": 62,
     "metadata": {},
     "output_type": "execute_result"
    },
    {
     "data": {
      "text/plain": [
       "<Figure size 1080x576 with 0 Axes>"
      ]
     },
     "metadata": {},
     "output_type": "display_data"
    },
    {
     "data": {
      "image/png": "[encoded data removed]",
      "text/plain": [
       "<Figure size 1080x576 with 1 Axes>"
      ]
     },
     "metadata": {
      "needs_background": "light"
     },
     "output_type": "display_data"
    }
   ],
   "source": [
    "#To view the actual word counts using count vectorizer.\n",
    "fig = plt.figure(figsize=(15,8))\n",
    "top_cv_df.plot(kind = 'bar',figsize=(15, 8), fontsize=15, legend=False, edgecolor='k')\n",
    "plt.tick_params(axis='both', width=15)\n",
    "plt.title(\"Most frequently appeared words in top 5 airline post\", fontsize = 20)\n",
    "plt.xlabel(\"Word\", fontsize = 20)\n",
    "plt.ylabel(\"Count\", fontsize = 20)"
   ]
  },
  {
   "cell_type": "markdown",
   "metadata": {},
   "source": [
    "Since the dataset is about airline, the word \"flight\" naturally should have the highest word counts. Both the word \"co\" and \"https\" almost has the same number of word counts which does make sense. Some posts will include a twitter link. Example: \"https://t.co/lqgo0tvvgv\" ."
   ]
  },
  {
   "cell_type": "code",
   "execution_count": 63,
   "metadata": {
    "ExecuteTime": {
     "end_time": "2019-12-03T18:53:20.166193Z",
     "start_time": "2019-12-03T18:50:35.988511Z"
    }
   },
   "outputs": [],
   "source": [
    "#Convert to dataframe for common words in 'AirAsiaSupport' post\n",
    "top_AirAsiaSupport_df = pd.DataFrame({'word':cv_df[(np.array(y_train))==0],\n",
    "                         'word_count':cv_df[(np.array(y_train))==0].sum(axis=0)})\n",
    "top_AirAsiaSupport_df = top_AirAsiaSupport_df.sort_values('word_count',ascending = False).head(15)"
   ]
  },
  {
   "cell_type": "code",
   "execution_count": 64,
   "metadata": {
    "ExecuteTime": {
     "end_time": "2019-12-03T18:58:34.318570Z",
     "start_time": "2019-12-03T18:53:20.509726Z"
    }
   },
   "outputs": [],
   "source": [
    "#Convert to dataframe for common words in 'AmericanAir' post\n",
    "top_AmericanAir_df = pd.DataFrame({'word':cv_df[(np.array(y_train))==1],\n",
    "                         'word_count':cv_df[(np.array(y_train))==1].sum(axis=0)})\n",
    "top_AmericanAir_df = top_AmericanAir_df.sort_values('word_count',ascending = False).head(15)"
   ]
  },
  {
   "cell_type": "code",
   "execution_count": 65,
   "metadata": {
    "ExecuteTime": {
     "end_time": "2019-12-03T19:03:04.146416Z",
     "start_time": "2019-12-03T18:58:34.802831Z"
    }
   },
   "outputs": [],
   "source": [
    "#Convert to dataframe for common words in 'British_Airways' post\n",
    "top_British_Airways_df = pd.DataFrame({'word':cv_df[(np.array(y_train))==2],\n",
    "                         'word_count':cv_df[(np.array(y_train))==2].sum(axis=0)})\n",
    "top_British_Airways_df = top_British_Airways_df.sort_values('word_count',ascending = False).head(15)"
   ]
  },
  {
   "cell_type": "code",
   "execution_count": 66,
   "metadata": {
    "ExecuteTime": {
     "end_time": "2019-12-03T19:07:38.185950Z",
     "start_time": "2019-12-03T19:03:04.849264Z"
    }
   },
   "outputs": [],
   "source": [
    "#Convert to dataframe for common words in 'Delta' post\n",
    "top_Delta_df =pd.DataFrame({'word':cv_df[(np.array(y_train))==3],\n",
    "                         'word_count':cv_df[(np.array(y_train))==3].sum(axis=0)})\n",
    "top_Delta_df = top_Delta_df.sort_values('word_count',ascending = False).head(15)"
   ]
  },
  {
   "cell_type": "code",
   "execution_count": 67,
   "metadata": {
    "ExecuteTime": {
     "end_time": "2019-12-03T19:13:25.827890Z",
     "start_time": "2019-12-03T19:07:41.770900Z"
    }
   },
   "outputs": [],
   "source": [
    "#Convert to dataframe for common words in 'SouthwestAir' post\n",
    "top_SouthwestAir_df = pd.DataFrame({'word':cv_df[(np.array(y_train))==4],\n",
    "                         'word_count':cv_df[(np.array(y_train))==4].sum(axis=0)})\n",
    "top_SouthwestAir_df = top_SouthwestAir_df.sort_values('word_count',ascending = False).head(15)"
   ]
  },
  {
   "cell_type": "code",
   "execution_count": 75,
   "metadata": {
    "ExecuteTime": {
     "end_time": "2019-12-03T19:15:50.365442Z",
     "start_time": "2019-12-03T19:15:49.715846Z"
    }
   },
   "outputs": [
    {
     "data": {
      "image/png": "[encoded data removed]",
      "text/plain": [
       "<Figure size 432x288 with 1 Axes>"
      ]
     },
     "metadata": {
      "needs_background": "light"
     },
     "output_type": "display_data"
    }
   ],
   "source": [
    "#fig = plt.figure(figsize=(25,13))\n",
    "\n",
    "#ax= fig.add_subplot(3,3,1)\n",
    "plt.barh(top_AirAsiaSupport_df.index,top_AirAsiaSupport_df['word_count'], color='red', edgecolor='k');\n",
    "plt.title(\"Most frequent words in AirAsiaSupport\", fontsize = 25)\n",
    "plt.xlabel(\"Count\", fontsize = 20)\n",
    "plt.ylabel(\"Word\", fontsize = 20)\n",
    "plt.tick_params(axis='both', labelsize = 17)"
   ]
  },
  {
   "cell_type": "code",
   "execution_count": 76,
   "metadata": {
    "ExecuteTime": {
     "end_time": "2019-12-03T19:16:32.284881Z",
     "start_time": "2019-12-03T19:16:31.676546Z"
    }
   },
   "outputs": [
    {
     "data": {
      "image/png": "[encoded data removed]",
      "text/plain": [
       "<Figure size 432x288 with 1 Axes>"
      ]
     },
     "metadata": {
      "needs_background": "light"
     },
     "output_type": "display_data"
    }
   ],
   "source": [
    "#ax= fig.add_subplot(3,3,2)\n",
    "plt.barh(top_AmericanAir_df.index,top_AmericanAir_df['word_count'], color='blue',edgecolor='k' );\n",
    "plt.title(\"Most frequent words in AmericanAir\", fontsize = 25)\n",
    "plt.xlabel(\"Count\", fontsize = 20)\n",
    "plt.ylabel(\"Word\", fontsize = 20)\n",
    "plt.tick_params(axis='both', labelsize = 17)"
   ]
  },
  {
   "cell_type": "code",
   "execution_count": 77,
   "metadata": {
    "ExecuteTime": {
     "end_time": "2019-12-03T19:17:04.076551Z",
     "start_time": "2019-12-03T19:17:03.273605Z"
    }
   },
   "outputs": [
    {
     "data": {
      "image/png": "[encoded data removed]",
      "text/plain": [
       "<Figure size 432x288 with 1 Axes>"
      ]
     },
     "metadata": {
      "needs_background": "light"
     },
     "output_type": "display_data"
    }
   ],
   "source": [
    "#ax= fig.add_subplot(3,3,3)\n",
    "plt.barh(top_British_Airways_df.index,top_British_Airways_df['word_count'], color='turquoise',edgecolor='k' );\n",
    "plt.title(\"Most frequent words in British_Airways\", fontsize = 25)\n",
    "plt.xlabel(\"Count\", fontsize = 20)\n",
    "plt.ylabel(\"Word\", fontsize = 20)\n",
    "plt.tick_params(axis='both', labelsize = 17)"
   ]
  },
  {
   "cell_type": "code",
   "execution_count": 78,
   "metadata": {
    "ExecuteTime": {
     "end_time": "2019-12-03T19:17:22.360247Z",
     "start_time": "2019-12-03T19:17:21.778222Z"
    },
    "scrolled": true
   },
   "outputs": [
    {
     "data": {
      "image/png": "[encoded data removed]",
      "text/plain": [
       "<Figure size 432x288 with 1 Axes>"
      ]
     },
     "metadata": {
      "needs_background": "light"
     },
     "output_type": "display_data"
    }
   ],
   "source": [
    "#ax= fig.add_subplot(3,3,4)\n",
    "plt.barh(top_Delta_df.index,top_Delta_df['word_count'], color='purple',edgecolor='k' );\n",
    "plt.title(\"Most frequent words in Delta\", fontsize = 25)\n",
    "plt.xlabel(\"Count\", fontsize = 20)\n",
    "plt.ylabel(\"Word\", fontsize = 20)\n",
    "plt.tick_params(axis='both', labelsize = 17)"
   ]
  },
  {
   "cell_type": "code",
   "execution_count": 79,
   "metadata": {
    "ExecuteTime": {
     "end_time": "2019-12-03T19:17:42.445665Z",
     "start_time": "2019-12-03T19:17:41.860066Z"
    },
    "scrolled": false
   },
   "outputs": [
    {
     "data": {
      "image/png": "[encoded data removed]",
      "text/plain": [
       "<Figure size 432x288 with 1 Axes>"
      ]
     },
     "metadata": {
      "needs_background": "light"
     },
     "output_type": "display_data"
    }
   ],
   "source": [
    "#ax= fig.add_subplot(3,3,5)\n",
    "plt.barh(top_SouthwestAir_df.index,top_SouthwestAir_df['word_count'], color='black',edgecolor='k' );\n",
    "plt.title(\"Most frequent words in SouthwestAir\", fontsize = 25)\n",
    "plt.xlabel(\"Count\", fontsize = 20)\n",
    "plt.ylabel(\"Word\", fontsize = 20)\n",
    "plt.tick_params(axis='both', labelsize = 17)"
   ]
  },
  {
   "cell_type": "markdown",
   "metadata": {},
   "source": [
    "## 4 Model"
   ]
  },
  {
   "cell_type": "markdown",
   "metadata": {},
   "source": [
    "### 4.1 Model 1 : Baseline Model(Naive Bayes)"
   ]
  },
  {
   "cell_type": "markdown",
   "metadata": {},
   "source": [
    "#### 4.1.1 a) Pipeline"
   ]
  },
  {
   "cell_type": "code",
   "execution_count": 80,
   "metadata": {
    "ExecuteTime": {
     "end_time": "2019-12-03T19:18:09.352146Z",
     "start_time": "2019-12-03T19:18:08.676216Z"
    }
   },
   "outputs": [],
   "source": [
    "from sklearn.pipeline import Pipeline\n",
    "from sklearn.naive_bayes import MultinomialNB\n",
    "\n",
    "pipe_nb = Pipeline([('cvec', CountVectorizer()),\n",
    "                  ('nb', MultinomialNB())\n",
    "])"
   ]
  },
  {
   "cell_type": "markdown",
   "metadata": {},
   "source": [
    "#### 4.1.2 b) Hyperparameters Tuning"
   ]
  },
  {
   "cell_type": "code",
   "execution_count": 81,
   "metadata": {
    "ExecuteTime": {
     "end_time": "2019-12-03T19:18:31.965529Z",
     "start_time": "2019-12-03T19:18:31.940596Z"
    }
   },
   "outputs": [],
   "source": [
    "from sklearn.model_selection import GridSearchCV\n",
    "#For CountVectorizer:\n",
    "pipe_params_cv = {\n",
    "    'cvec__max_features': [4000, 5000],\n",
    "    'cvec__min_df': [2, 3],\n",
    "    'cvec__max_df': [.9, .95],\n",
    "    'cvec__ngram_range': [(1,1), (1,2)]\n",
    "}"
   ]
  },
  {
   "cell_type": "code",
   "execution_count": 82,
   "metadata": {
    "ExecuteTime": {
     "end_time": "2019-12-03T19:26:55.004844Z",
     "start_time": "2019-12-03T19:18:35.747310Z"
    }
   },
   "outputs": [
    {
     "name": "stdout",
     "output_type": "stream",
     "text": [
      "Best: 0.909769 using {'cvec__max_df': 0.9, 'cvec__max_features': 5000, 'cvec__min_df': 2, 'cvec__ngram_range': (1, 1)}\n",
      "Execution time: 499.2345607280731 ms\n"
     ]
    }
   ],
   "source": [
    "start_time = time.time()\n",
    "gs_nb = GridSearchCV(pipe_nb, param_grid=pipe_params_cv, cv=5)\n",
    "model1 = gs_nb.fit(clean_train, y_train)\n",
    "print(\"Best: %f using %s\" % (model1.best_score_, model1.best_params_))\n",
    "print(\"Execution time: \" + str((time.time() - start_time)) + ' ms')"
   ]
  },
  {
   "cell_type": "code",
   "execution_count": 83,
   "metadata": {
    "ExecuteTime": {
     "end_time": "2019-12-03T19:26:58.203961Z",
     "start_time": "2019-12-03T19:26:55.009830Z"
    }
   },
   "outputs": [
    {
     "data": {
      "text/plain": [
       "0.9215860314768692"
      ]
     },
     "execution_count": 83,
     "metadata": {},
     "output_type": "execute_result"
    }
   ],
   "source": [
    "model1.score(clean_train, y_train)"
   ]
  },
  {
   "cell_type": "markdown",
   "metadata": {},
   "source": [
    "The advantage of using Naive Bayes is it works well with large dataset and has low computation time. It can also be used for both binary and multiclass classification.\n",
    "\n",
    "The disadvantage is it will only performs better when compared to other models like Logistic Regression on the condition that features are independent. However, it is not very likely to have a set of features that are totally independent.\n",
    "\n",
    "Looking at the score of 0.922 is a pretty good result. Therefore, this will be my baseline model for the 5 airlines classifications."
   ]
  },
  {
   "cell_type": "markdown",
   "metadata": {},
   "source": [
    "#### 4.1.3 c) Confusion Matrix / Classification Report"
   ]
  },
  {
   "cell_type": "code",
   "execution_count": 84,
   "metadata": {
    "ExecuteTime": {
     "end_time": "2019-12-03T19:28:27.280004Z",
     "start_time": "2019-12-03T19:28:26.644187Z"
    }
   },
   "outputs": [],
   "source": [
    "from sklearn.metrics import accuracy_score, confusion_matrix\n",
    "from sklearn.metrics import classification_report\n",
    "\n",
    "from sklearn.utils.multiclass import unique_labels\n",
    "from sklearn.multiclass import OneVsRestClassifier\n",
    "\n",
    "from scipy import interp"
   ]
  },
  {
   "cell_type": "code",
   "execution_count": 85,
   "metadata": {
    "ExecuteTime": {
     "end_time": "2019-12-03T19:28:30.015748Z",
     "start_time": "2019-12-03T19:28:29.965846Z"
    }
   },
   "outputs": [],
   "source": [
    "#https://scikit-learn.org/stable/auto_examples/model_selection/plot_confusion_matrix.html#sphx-glr-auto-examples-model-selection-plot-confusion-matrix-py\n",
    "def plot_confusion_matrix(y_true, y_pred, classes,\n",
    "                          normalize=False,\n",
    "                          title=None,\n",
    "                          cmap=plt.cm.Purples):\n",
    "    \"\"\"\n",
    "    This function prints and plots the confusion matrix.\n",
    "    Normalization can be applied by setting `normalize=True`.\n",
    "    \"\"\"\n",
    "    # Compute confusion matrix\n",
    "    cm = confusion_matrix(y_true, y_pred)\n",
    "    # Only use the labels that appear in the data\n",
    "    classes = classes[unique_labels(y_true, y_pred)]\n",
    "\n",
    "    fig, ax = plt.subplots(figsize=(6,6))\n",
    "    im = ax.imshow(cm, interpolation='nearest', cmap=cmap)\n",
    "    ax.figure.colorbar(im, ax=ax)\n",
    "    # We want to show all ticks...\n",
    "    ax.set(xticks=np.arange(cm.shape[1]),\n",
    "           yticks=np.arange(cm.shape[0]),\n",
    "           # ... and label them with the respective list entries\n",
    "           xticklabels=classes, yticklabels=classes,\n",
    "           title=title,\n",
    "           ylabel='True label',\n",
    "           xlabel='Predicted label')\n",
    "\n",
    "    # Rotate the tick labels and set their alignment.\n",
    "    plt.setp(ax.get_xticklabels(), rotation=45, ha=\"right\",\n",
    "             rotation_mode=\"anchor\")\n",
    "\n",
    "    # Loop over data dimensions and create text annotations.\n",
    "    fmt = '.2f' if normalize else 'd'\n",
    "    thresh = cm.max() / 2.\n",
    "    for i in range(cm.shape[0]):\n",
    "        for j in range(cm.shape[1]):\n",
    "            ax.text(j, i, format(cm[i, j], fmt),\n",
    "                    ha=\"center\", va=\"center\",\n",
    "                    color=\"white\" if cm[i, j] > thresh else \"black\")\n",
    "    fig.tight_layout()\n",
    "    return ax\n",
    "\n",
    "np.set_printoptions(precision=2)\n"
   ]
  },
  {
   "cell_type": "code",
   "execution_count": 86,
   "metadata": {
    "ExecuteTime": {
     "end_time": "2019-12-03T19:28:35.964207Z",
     "start_time": "2019-12-03T19:28:32.724498Z"
    }
   },
   "outputs": [
    {
     "data": {
      "image/png": "[encoded data removed]",
      "text/plain": [
       "<Figure size 432x432 with 2 Axes>"
      ]
     },
     "metadata": {
      "needs_background": "light"
     },
     "output_type": "display_data"
    }
   ],
   "source": [
    "# Plot non-normalized confusion matrix\n",
    "class_names = np.array(['AirAsiaSupport','AmericanAir','British_Airways','Delta','SouthwestAir'])\n",
    "y_pred1 = model1.predict(clean_test)\n",
    "\n",
    "plot_confusion_matrix(y_test, y_pred1, classes=class_names, title='Confusion matrix (Using NB)')\n",
    "\n",
    "plt.show()"
   ]
  },
  {
   "cell_type": "code",
   "execution_count": 87,
   "metadata": {
    "ExecuteTime": {
     "end_time": "2019-12-03T19:28:43.002118Z",
     "start_time": "2019-12-03T19:28:42.915348Z"
    },
    "scrolled": true
   },
   "outputs": [
    {
     "name": "stdout",
     "output_type": "stream",
     "text": [
      "Accuracy 0.9113345521023766\n",
      "              precision    recall  f1-score   support\n",
      "\n",
      "           0       0.92      0.97      0.94      1764\n",
      "           1       0.91      0.83      0.87      6127\n",
      "           2       0.93      0.93      0.93      4903\n",
      "           3       0.93      0.95      0.94      7121\n",
      "           4       0.87      0.92      0.89      5247\n",
      "\n",
      "    accuracy                           0.91     25162\n",
      "   macro avg       0.91      0.92      0.91     25162\n",
      "weighted avg       0.91      0.91      0.91     25162\n",
      "\n"
     ]
    }
   ],
   "source": [
    "print('Accuracy {}'.format(accuracy_score(y_test, y_pred1)))\n",
    "print(classification_report(y_test, y_pred1))"
   ]
  },
  {
   "cell_type": "markdown",
   "metadata": {},
   "source": [
    "Looking at the confusion matirx, it still has a accuracy score of 91.1% using the test data. Still not very far off from the result using the training data which is 92.2%."
   ]
  },
  {
   "cell_type": "markdown",
   "metadata": {},
   "source": [
    "###  4.2 Model 2 : Logistic Regression"
   ]
  },
  {
   "cell_type": "markdown",
   "metadata": {},
   "source": [
    "#### 4.2.1 a) Pipeline"
   ]
  },
  {
   "cell_type": "code",
   "execution_count": 88,
   "metadata": {
    "ExecuteTime": {
     "end_time": "2019-12-03T19:31:23.499246Z",
     "start_time": "2019-12-03T19:31:23.398226Z"
    }
   },
   "outputs": [],
   "source": [
    "from sklearn.linear_model import LogisticRegression\n",
    "pipe_lr = Pipeline([('cvec', CountVectorizer()),\n",
    "                  ('lr', LogisticRegression())\n",
    "])"
   ]
  },
  {
   "cell_type": "markdown",
   "metadata": {},
   "source": [
    "#### 4.2.2 b) Hyperparameters Tuning"
   ]
  },
  {
   "cell_type": "code",
   "execution_count": 89,
   "metadata": {
    "ExecuteTime": {
     "end_time": "2019-12-03T19:31:29.256753Z",
     "start_time": "2019-12-03T19:31:29.250802Z"
    }
   },
   "outputs": [],
   "source": [
    "pipe_params_lr = {\n",
    "    'cvec__max_features': [4000,5000],\n",
    "    'cvec__min_df': [2, 3],\n",
    "    'cvec__max_df': [.9, .95],\n",
    "    'cvec__ngram_range': [(1,1), (1,2)],\n",
    "   # 'lr_max_iter': [100,110,120],\n",
    "   # 'lr__C' : [1.0,1.5,2.0]\n",
    "}"
   ]
  },
  {
   "cell_type": "code",
   "execution_count": 90,
   "metadata": {
    "ExecuteTime": {
     "end_time": "2019-12-03T19:56:12.460174Z",
     "start_time": "2019-12-03T19:31:33.968865Z"
    }
   },
   "outputs": [
    {
     "name": "stdout",
     "output_type": "stream",
     "text": [
      "Best: 0.961939 using {'cvec__max_df': 0.9, 'cvec__max_features': 5000, 'cvec__min_df': 3, 'cvec__ngram_range': (1, 2)}\n",
      "Execution time: 1478.4717280864716 ms\n"
     ]
    }
   ],
   "source": [
    "start_time = time.time()\n",
    "gs = GridSearchCV(pipe_lr, param_grid=pipe_params_lr, cv=5)\n",
    "model2 = gs.fit(clean_train, y_train)\n",
    "\n",
    "print(\"Best: %f using %s\" % (model2.best_score_, model2.best_params_))\n",
    "print(\"Execution time: \" + str((time.time() - start_time)) + ' ms')"
   ]
  },
  {
   "cell_type": "code",
   "execution_count": 91,
   "metadata": {
    "ExecuteTime": {
     "end_time": "2019-12-03T19:56:18.087827Z",
     "start_time": "2019-12-03T19:56:12.460174Z"
    }
   },
   "outputs": [
    {
     "data": {
      "text/plain": [
       "0.9844337872926713"
      ]
     },
     "execution_count": 91,
     "metadata": {},
     "output_type": "execute_result"
    }
   ],
   "source": [
    "model2.score(clean_train, y_train)"
   ]
  },
  {
   "cell_type": "markdown",
   "metadata": {},
   "source": [
    "The advantage of using logistic regression is it's easy implementation and efficiency. Scaling of features are not equired.\n",
    "It does't really required high computation power. But since this dataset is pretty large, it does take more time than Naive Bayes but it should not take as much time as using others such as Support Vector Classifier or Random Forest.\n",
    "\n",
    "The disadvantage is it cannot perform prediction of continuous outcomes but this is not really a concern in this multiclass classification problem. However, logistic regression is vulnerable to overfitting."
   ]
  },
  {
   "cell_type": "markdown",
   "metadata": {},
   "source": [
    "#### 4.2.3 c) Confusion Matrix / Classification Report"
   ]
  },
  {
   "cell_type": "code",
   "execution_count": 92,
   "metadata": {
    "ExecuteTime": {
     "end_time": "2019-12-03T19:56:20.433161Z",
     "start_time": "2019-12-03T19:56:18.087827Z"
    }
   },
   "outputs": [
    {
     "data": {
      "image/png": "[encoded data removed]",
      "text/plain": [
       "<Figure size 432x432 with 2 Axes>"
      ]
     },
     "metadata": {
      "needs_background": "light"
     },
     "output_type": "display_data"
    }
   ],
   "source": [
    "# Plot non-normalized confusion matrix\n",
    "y_pred2 = model2.predict(clean_test)\n",
    "\n",
    "plot_confusion_matrix(y_test, y_pred2, classes=class_names, title='Confusion matrix (Using LR)')\n",
    "\n",
    "plt.show()"
   ]
  },
  {
   "cell_type": "code",
   "execution_count": 93,
   "metadata": {
    "ExecuteTime": {
     "end_time": "2019-12-03T19:56:20.520594Z",
     "start_time": "2019-12-03T19:56:20.433161Z"
    }
   },
   "outputs": [
    {
     "name": "stdout",
     "output_type": "stream",
     "text": [
      "Accuracy 0.9635561561084175\n",
      "              precision    recall  f1-score   support\n",
      "\n",
      "           0       0.99      0.97      0.98      1764\n",
      "           1       0.92      0.96      0.94      6127\n",
      "           2       0.97      0.96      0.97      4903\n",
      "           3       0.98      0.97      0.97      7121\n",
      "           4       0.97      0.95      0.96      5247\n",
      "\n",
      "    accuracy                           0.96     25162\n",
      "   macro avg       0.97      0.96      0.97     25162\n",
      "weighted avg       0.96      0.96      0.96     25162\n",
      "\n"
     ]
    }
   ],
   "source": [
    "print('Accuracy {}'.format(accuracy_score(y_test, y_pred2)))\n",
    "print(classification_report(y_test, y_pred2))"
   ]
  },
  {
   "cell_type": "markdown",
   "metadata": {},
   "source": [
    "Accuracy score of 96.4%\n",
    "\n",
    "As can be seen from the result, it has a higher accuracy score than using the Naive Bayes model."
   ]
  },
  {
   "cell_type": "markdown",
   "metadata": {},
   "source": [
    "###  4.3 Model 3 : Random Forest"
   ]
  },
  {
   "cell_type": "code",
   "execution_count": 94,
   "metadata": {
    "ExecuteTime": {
     "end_time": "2019-12-03T19:56:31.701588Z",
     "start_time": "2019-12-03T19:56:20.524614Z"
    }
   },
   "outputs": [],
   "source": [
    "from sklearn.ensemble import RandomForestClassifier"
   ]
  },
  {
   "cell_type": "markdown",
   "metadata": {},
   "source": [
    "#### 4.3.1 a) Pipeline"
   ]
  },
  {
   "cell_type": "code",
   "execution_count": 95,
   "metadata": {
    "ExecuteTime": {
     "end_time": "2019-12-03T19:56:31.717178Z",
     "start_time": "2019-12-03T19:56:31.701588Z"
    }
   },
   "outputs": [],
   "source": [
    "pipe_rf = Pipeline([('cvec', CountVectorizer()),\n",
    "                  ('rf', RandomForestClassifier())\n",
    "])"
   ]
  },
  {
   "cell_type": "markdown",
   "metadata": {},
   "source": [
    "#### 4.3.2 b) Hyperparameters Tuning"
   ]
  },
  {
   "cell_type": "code",
   "execution_count": 96,
   "metadata": {
    "ExecuteTime": {
     "end_time": "2019-12-04T01:31:52.774876Z",
     "start_time": "2019-12-03T20:27:17.743314Z"
    }
   },
   "outputs": [
    {
     "name": "stdout",
     "output_type": "stream",
     "text": [
      "Best: 0.921136 using {'cvec__max_df': 0.9, 'cvec__max_features': 5000, 'cvec__min_df': 2, 'cvec__ngram_range': (1, 2), 'rf__n_estimators': 200}\n",
      "Execution time: 21618.644270420074 ms\n"
     ]
    }
   ],
   "source": [
    "cvec_rf_params = {\n",
    "    'cvec__max_features': [5000],\n",
    "    'cvec__min_df': [2, 3],\n",
    "    'cvec__max_df': [.9, .95],\n",
    "    'cvec__ngram_range': [(1,1), (1,2)],\n",
    "    'rf__n_estimators': [200],\n",
    "    #'rf__max_depth': [None, 1, 2, 3],\n",
    "}\n",
    "gs_rf = GridSearchCV(pipe_rf , param_grid=cvec_rf_params, cv=5)\n",
    "model3= gs_rf.fit(clean_train, y_train)\n",
    "print(\"Best: %f using %s\" % (model3.best_score_, model3.best_params_))\n",
    "print(\"Execution time: \" + str((time.time() - start_time)) + ' ms')"
   ]
  },
  {
   "cell_type": "code",
   "execution_count": 97,
   "metadata": {
    "ExecuteTime": {
     "end_time": "2019-12-04T01:32:13.913696Z",
     "start_time": "2019-12-04T01:31:52.825699Z"
    }
   },
   "outputs": [
    {
     "data": {
      "text/plain": [
       "1.0"
      ]
     },
     "execution_count": 97,
     "metadata": {},
     "output_type": "execute_result"
    }
   ],
   "source": [
    "model3.score(clean_train, y_train)"
   ]
  },
  {
   "cell_type": "markdown",
   "metadata": {},
   "source": [
    "The advantage of using Random Forest is it high accuracy and robustness.\n",
    "\n",
    "The disadvantage is computation time is relative high because of the multiple decision trees making decision for the same input and to perform voting. The airline dataset is pretty large, therefore, it takes the longest computation time as compared to the other two models.\n",
    "\n",
    "It has the highest score as compared to the previous two models. It is overfitted."
   ]
  },
  {
   "cell_type": "markdown",
   "metadata": {},
   "source": [
    "#### 4.3.3 c) Confusion Matrix / Classification Report"
   ]
  },
  {
   "cell_type": "code",
   "execution_count": 98,
   "metadata": {
    "ExecuteTime": {
     "end_time": "2019-12-04T01:32:21.574002Z",
     "start_time": "2019-12-04T01:32:13.928624Z"
    }
   },
   "outputs": [
    {
     "data": {
      "image/png": "[encoded data removed]",
      "text/plain": [
       "<Figure size 432x432 with 2 Axes>"
      ]
     },
     "metadata": {
      "needs_background": "light"
     },
     "output_type": "display_data"
    }
   ],
   "source": [
    "# Plot non-normalized confusion matrix\n",
    "y_pred3 = model3.predict(clean_test)\n",
    "\n",
    "plot_confusion_matrix(y_test, y_pred3, classes=class_names, title='Confusion matrix (Using RF)')\n",
    "\n",
    "plt.show()"
   ]
  },
  {
   "cell_type": "code",
   "execution_count": 99,
   "metadata": {
    "ExecuteTime": {
     "end_time": "2019-12-04T01:32:21.668753Z",
     "start_time": "2019-12-04T01:32:21.577991Z"
    }
   },
   "outputs": [
    {
     "name": "stdout",
     "output_type": "stream",
     "text": [
      "Accuracy 0.9260790080279787\n",
      "              precision    recall  f1-score   support\n",
      "\n",
      "           0       0.98      0.94      0.96      1764\n",
      "           1       0.88      0.92      0.90      6127\n",
      "           2       0.91      0.92      0.92      4903\n",
      "           3       0.95      0.93      0.94      7121\n",
      "           4       0.96      0.92      0.94      5247\n",
      "\n",
      "    accuracy                           0.93     25162\n",
      "   macro avg       0.93      0.93      0.93     25162\n",
      "weighted avg       0.93      0.93      0.93     25162\n",
      "\n"
     ]
    }
   ],
   "source": [
    "print('Accuracy {}'.format(accuracy_score(y_test, y_pred3)))\n",
    "print(classification_report(y_test, y_pred3))"
   ]
  },
  {
   "cell_type": "markdown",
   "metadata": {},
   "source": [
    "Accuracy score of 92.6%\n",
    "\n",
    "The Accuracy score is lower than the Logistic Regression but slightly higher than the Naive Bayes."
   ]
  },
  {
   "cell_type": "markdown",
   "metadata": {},
   "source": [
    "## 5 Conclusion"
   ]
  },
  {
   "cell_type": "markdown",
   "metadata": {},
   "source": [
    "### 5.1 Model Serialization"
   ]
  },
  {
   "cell_type": "markdown",
   "metadata": {},
   "source": [
    "Among the 3 models, Logestic Regression gives the best result. Therfore, it will be used as a production model. Will be using joblib to save my model from this notebook."
   ]
  },
  {
   "cell_type": "code",
   "execution_count": 100,
   "metadata": {
    "ExecuteTime": {
     "end_time": "2019-12-04T01:35:38.927490Z",
     "start_time": "2019-12-04T01:35:27.555332Z"
    }
   },
   "outputs": [],
   "source": [
    "# Using best_params_ for countvectorizer\n",
    "lr_cvec = CountVectorizer(max_df = 0.9, max_features = 5000, min_df = 2, ngram_range = (1, 2))\n",
    "\n",
    "# Fitting the vectorizer on clean data\n",
    "clean_train_cvec = lr_cvec.fit_transform(clean_train)\n",
    "clean_test_cvec = lr_cvec.transform(clean_test)"
   ]
  },
  {
   "cell_type": "code",
   "execution_count": 101,
   "metadata": {
    "ExecuteTime": {
     "end_time": "2019-12-04T01:37:38.345854Z",
     "start_time": "2019-12-04T01:37:22.980477Z"
    }
   },
   "outputs": [],
   "source": [
    "lr_model2 = LogisticRegression()\n",
    "\n",
    "my_model = lr_model2.fit(clean_train_cvec, y_train)"
   ]
  },
  {
   "cell_type": "code",
   "execution_count": 102,
   "metadata": {
    "ExecuteTime": {
     "end_time": "2019-12-04T01:37:49.578175Z",
     "start_time": "2019-12-04T01:37:43.148374Z"
    }
   },
   "outputs": [
    {
     "data": {
      "text/plain": [
       "['my_cvec.pkl']"
      ]
     },
     "execution_count": 102,
     "metadata": {},
     "output_type": "execute_result"
    }
   ],
   "source": [
    "import joblib\n",
    "\n",
    "joblib.dump(my_model, 'my_model_lr.pkl')\n",
    "joblib.dump(lr_cvec, 'my_cvec.pkl')"
   ]
  },
  {
   "cell_type": "markdown",
   "metadata": {},
   "source": [
    "With a single interface, we will be able to classify the different posts from different airline using Logistic regression model."
   ]
  }
 ],
 "metadata": {
  "kernelspec": {
   "display_name": "Python 3",
   "language": "python",
   "name": "python3"
  },
  "language_info": {
   "codemirror_mode": {
    "name": "ipython",
    "version": 3
   },
   "file_extension": ".py",
   "mimetype": "text/x-python",
   "name": "python",
   "nbconvert_exporter": "python",
   "pygments_lexer": "ipython3",
   "version": "3.7.3"
  },
  "toc": {
   "base_numbering": 1,
   "nav_menu": {},
   "number_sections": true,
   "sideBar": true,
   "skip_h1_title": false,
   "title_cell": "Table of Contents",
   "title_sidebar": "Contents",
   "toc_cell": false,
   "toc_position": {
    "height": "calc(100% - 180px)",
    "left": "10px",
    "top": "150px",
    "width": "325.422px"
   },
   "toc_section_display": true,
   "toc_window_display": true
  }
 },
 "nbformat": 4,
 "nbformat_minor": 2
}
